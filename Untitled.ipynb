{
 "cells": [
  {
   "cell_type": "code",
   "execution_count": null,
   "id": "be2cc740",
   "metadata": {},
   "outputs": [],
   "source": [
    "from flask import Flask, render_template, request\n",
    "import tensorflow as tf\n",
    "import numpy as np\n",
    "from PIL import Image\n",
    "import io\n",
    "\n",
    "app = Flask(__name__)\n",
    "\n",
    "# Load the trained model\n",
    "model = tf.keras.models.load_model('path/to/your/model.h5')\n",
    "\n",
    "# Define class labels and descriptions\n",
    "class_labels = ['Black-grass', 'Charlock', 'Cleavers', 'Common Chickweed', 'Common wheat', 'Fat Hen', 'Loose Silky-bent',\n",
    "                'Maize', 'Scentless Mayweed', 'Shepherds Purse', 'Small-flowered Cranesbill', 'Sugar beet']\n",
    "\n",
    "class_descriptions = ['Blackgrass is a tufted annual with stems that are upright or spreading then upright and can grow to 32 inches tall.', \n",
    "                      'Medium to tall, bristly plant, lower leaves, large and lyre shaped, upper are lanceolate, not clasping the stem', \n",
    "                      'This plant is a winter or spring annual about 1-3 inches long that is either unbranched or sparingly branched', \n",
    "                      'Common chickweed grows erect to prostrate and sometimes is matlike. Stems are mostly forked and have a line of hairs down either side. Leaves are broadly egg shaped, have a pointy tip, and are mostly hairless or have hairy margins at the base.',\n",
    "                      'Wheat is a bunch grass with upright tillers. The leaves are rolled in the whorl. Leaf blades are smooth near the base and rough near tip on the upper side.',\n",
    "                      'Fat hen is an upright plant with matt green, diamond-shaped leaves and spikes of small, white flowers. The whole plant tends to be covered in a white, mealy substance.', \n",
    "                      'A tufted or solitary annual grass growing to 100 cm tall, with stout or slender, green or purple stems. It has a fine appearance with smooth leaf sheaths. The flowerhead is oblong, open and feathery.', \n",
    "                      'Maize is a leafy stalk whose kernels have seeds inside. It is an angiosperm, which means that its seeds are enclosed inside a fruit or shell.', \n",
    "                      'Scentless mayweed is an annual to short-lived perennial with upright stems reaching 6 inches to 3.25 feet tall. Its leaves are dissected with narrow segments and daisy-like flowers bloom generally summer through early fall.', \n",
    "                      'Small-flowered cranesbill is rather modest and small-flowered compared to many of its relatives. It favours cultural environments and can be found on field banks and grazing land and by roadsides in the southern half of Finland, while the odd sighting can be made as far north as the Lapland border.', \n",
    "                      'The sugar beet has a conical, white, fleshy root (a taproot) with a flat crown. The plant consists of the root and a rosette of leaves. Sugar is formed by photosynthesis in the leaves and is then stored in the root. The root of the beet contains 75% water, about 20% sugar, and 5% pulp.']\n"
   ]
  },
  {
   "cell_type": "code",
   "execution_count": null,
   "id": "40eed732",
   "metadata": {},
   "outputs": [],
   "source": [
    "# Home route to display the index.html template\n",
    "@app.route('/')\n",
    "def home():\n",
    "    return render_template('index.html')\n",
    "\n",
    "# Route to handle the image upload and recognition\n",
    "@app.route('/predict', methods=['POST'])\n",
    "def predict():\n",
    "    # Get the uploaded image file\n",
    "    uploaded_file = request.files['file']\n",
    "\n",
    "    # Read the image file and preprocess it\n",
    "    image = Image.open(io.BytesIO(uploaded_file.read()))\n",
    "    image = image.resize((224, 224))\n",
    "    image = np.array(image) / 255.0\n",
    "    image = np.expand_dims(image, axis=0)\n",
    "\n",
    "    # Perform image recognition using the trained model\n",
    "    predictions = model.predict(image)\n",
    "    predicted_class_index = np.argmax(predictions)\n",
    "    predicted_class_label = class_labels[predicted_class_index]\n",
    "    predicted_class_description = class_descriptions[predicted_class_index]\n",
    "\n",
    "    # Pass the results to the result.html template for display\n",
    "    return render_template('result.html',\n",
    "                           predicted_label=predicted_class_label,\n",
    "                           predicted_description=predicted_class_description)"
   ]
  }
 ],
 "metadata": {
  "kernelspec": {
   "display_name": "Python 3 (ipykernel)",
   "language": "python",
   "name": "python3"
  },
  "language_info": {
   "codemirror_mode": {
    "name": "ipython",
    "version": 3
   },
   "file_extension": ".py",
   "mimetype": "text/x-python",
   "name": "python",
   "nbconvert_exporter": "python",
   "pygments_lexer": "ipython3",
   "version": "3.9.13"
  }
 },
 "nbformat": 4,
 "nbformat_minor": 5
}
