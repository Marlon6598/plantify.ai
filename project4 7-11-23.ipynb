{
  "nbformat": 4,
  "nbformat_minor": 0,
  "metadata": {
    "colab": {
      "provenance": [],
      "gpuType": "V100"
    },
    "kernelspec": {
      "name": "python3",
      "display_name": "Python 3"
    },
    "language_info": {
      "name": "python"
    },
    "accelerator": "GPU"
  },
  "cells": [
    {
      "cell_type": "code",
      "execution_count": 63,
      "metadata": {
        "id": "rKt4BowsWq_g",
        "colab": {
          "base_uri": "https://localhost:8080/"
        },
        "outputId": "7dd795bf-b883-4bca-a524-590a9975be42"
      },
      "outputs": [
        {
          "output_type": "stream",
          "name": "stdout",
          "text": [
            "Mounted at /content/drive\n"
          ]
        }
      ],
      "source": [
        "# Importing required items\n",
        "import tensorflow as tf\n",
        "from tensorflow.keras.preprocessing.image import ImageDataGenerator\n",
        "from tensorflow.keras.optimizers import Adam\n",
        "import os\n",
        "import pandas as pd\n",
        "import shutil\n",
        "from google.colab import drive\n",
        "drive.mount('/content/drive')"
      ]
    },
    {
      "cell_type": "code",
      "source": [
        "# Confirm the connection to the GPU with tensorflow\n",
        "device_name = tf.test.gpu_device_name()\n",
        "if device_name != '/device:GPU:0':\n",
        "  raise SystemError('GPU device not found')\n",
        "print('Found GPU at: {}'.format(device_name))"
      ],
      "metadata": {
        "colab": {
          "base_uri": "https://localhost:8080/"
        },
        "id": "rBmEMikgjO4H",
        "outputId": "6ae8eb9e-03fb-4b60-8754-3bcbe0a405a5"
      },
      "execution_count": 64,
      "outputs": [
        {
          "output_type": "stream",
          "name": "stdout",
          "text": [
            "Found GPU at: /device:GPU:0\n"
          ]
        }
      ]
    },
    {
      "cell_type": "code",
      "source": [
        "gpu_info = !nvidia-smi\n",
        "gpu_info = '\\n'.join(gpu_info)\n",
        "if gpu_info.find('failed') >= 0:\n",
        "  print('Not connected to a GPU')\n",
        "else:\n",
        "  print(gpu_info)"
      ],
      "metadata": {
        "colab": {
          "base_uri": "https://localhost:8080/"
        },
        "id": "ofFU7fmQszfQ",
        "outputId": "246b28d7-9067-4daa-b5f3-02fd80a6bfd9"
      },
      "execution_count": 65,
      "outputs": [
        {
          "output_type": "stream",
          "name": "stdout",
          "text": [
            "Tue Jul 11 19:58:47 2023       \n",
            "+-----------------------------------------------------------------------------+\n",
            "| NVIDIA-SMI 525.85.12    Driver Version: 525.85.12    CUDA Version: 12.0     |\n",
            "|-------------------------------+----------------------+----------------------+\n",
            "| GPU  Name        Persistence-M| Bus-Id        Disp.A | Volatile Uncorr. ECC |\n",
            "| Fan  Temp  Perf  Pwr:Usage/Cap|         Memory-Usage | GPU-Util  Compute M. |\n",
            "|                               |                      |               MIG M. |\n",
            "|===============================+======================+======================|\n",
            "|   0  Tesla V100-SXM2...  Off  | 00000000:00:04.0 Off |                    0 |\n",
            "| N/A   36C    P0    39W / 300W |    596MiB / 16384MiB |      0%      Default |\n",
            "|                               |                      |                  N/A |\n",
            "+-------------------------------+----------------------+----------------------+\n",
            "                                                                               \n",
            "+-----------------------------------------------------------------------------+\n",
            "| Processes:                                                                  |\n",
            "|  GPU   GI   CI        PID   Type   Process name                  GPU Memory |\n",
            "|        ID   ID                                                   Usage      |\n",
            "|=============================================================================|\n",
            "+-----------------------------------------------------------------------------+\n"
          ]
        }
      ]
    },
    {
      "cell_type": "code",
      "source": [
        "# Determine the available RAM\n",
        "from psutil import virtual_memory\n",
        "ram_gb = virtual_memory().total / 1e9\n",
        "print('Your runtime has {:.1f} gigabytes of available RAM\\n'.format(ram_gb))\n",
        "\n",
        "if ram_gb < 20:\n",
        "  print('Not using a high-RAM runtime')\n",
        "else:\n",
        "  print('You are using a high-RAM runtime!')"
      ],
      "metadata": {
        "colab": {
          "base_uri": "https://localhost:8080/"
        },
        "id": "Gs3s_dujs1e8",
        "outputId": "beedf214-32b1-437a-e5d0-63b696690073"
      },
      "execution_count": 66,
      "outputs": [
        {
          "output_type": "stream",
          "name": "stdout",
          "text": [
            "Your runtime has 13.6 gigabytes of available RAM\n",
            "\n",
            "Not using a high-RAM runtime\n"
          ]
        }
      ]
    },
    {
      "cell_type": "code",
      "source": [
        "# Defining the training and testing directories\n",
        "training_data_dir = '/content/drive/MyDrive/images/train'\n",
        "test_data_dir = '/content/drive/MyDrive/images/test'\n",
        "\n"
      ],
      "metadata": {
        "id": "Ri1ghLWujE1f"
      },
      "execution_count": 93,
      "outputs": []
    },
    {
      "cell_type": "code",
      "source": [
        "# Defining hyperparameters\n",
        "img_width, img_height = 150, 150\n",
        "batch_size = 15\n",
        "epochs = 30\n",
        "num_classes = 12  # Number of different types in dataset"
      ],
      "metadata": {
        "id": "t9VUlHv7jhdu"
      },
      "execution_count": 68,
      "outputs": []
    },
    {
      "cell_type": "code",
      "source": [
        "# Defining data preprocessing and augmentation\n",
        "train_datagen = ImageDataGenerator(\n",
        "    rescale=1/255,\n",
        "    shear_range=0.2,\n",
        "    zoom_range=0.2,\n",
        "    horizontal_flip=True\n",
        ")"
      ],
      "metadata": {
        "id": "y4TzFJD2jnLH"
      },
      "execution_count": 69,
      "outputs": []
    },
    {
      "cell_type": "code",
      "source": [
        "test_datagen = ImageDataGenerator(rescale=1/255)"
      ],
      "metadata": {
        "id": "-AoTznBfjrOM"
      },
      "execution_count": 70,
      "outputs": []
    },
    {
      "cell_type": "code",
      "source": [
        "# Defining training generator\n",
        "train_generator = train_datagen.flow_from_directory(\n",
        "    training_data_dir,\n",
        "    target_size=(img_width, img_height),\n",
        "    batch_size=batch_size,\n",
        "    class_mode='categorical'\n",
        ")"
      ],
      "metadata": {
        "colab": {
          "base_uri": "https://localhost:8080/"
        },
        "id": "wPrvt2Ogjsus",
        "outputId": "39537a15-2cf0-4ac9-9e60-b84ea40d2a37"
      },
      "execution_count": 71,
      "outputs": [
        {
          "output_type": "stream",
          "name": "stdout",
          "text": [
            "Found 4750 images belonging to 12 classes.\n"
          ]
        }
      ]
    },
    {
      "cell_type": "code",
      "source": [
        "# Defining the model architecture\n",
        "model = tf.keras.models.Sequential([\n",
        "    tf.keras.layers.Conv2D(64, (3, 3), activation='relu', input_shape=(img_width, img_height, 3)),\n",
        "    tf.keras.layers.MaxPooling2D(pool_size=(2, 2)),\n",
        "    tf.keras.layers.Conv2D(128, (3, 3), activation='relu'),\n",
        "    tf.keras.layers.MaxPooling2D(pool_size=(2, 2)),\n",
        "    tf.keras.layers.Conv2D(256, (3, 3), activation='relu'),\n",
        "    tf.keras.layers.MaxPooling2D(pool_size=(2, 2)),\n",
        "    tf.keras.layers.Flatten(),\n",
        "    tf.keras.layers.Dense(256, activation='relu'),\n",
        "    tf.keras.layers.Dropout(0.5),\n",
        "    tf.keras.layers.Dense(num_classes, activation='softmax')\n",
        "])"
      ],
      "metadata": {
        "id": "YMI1-AyPkPjU"
      },
      "execution_count": 72,
      "outputs": []
    },
    {
      "cell_type": "code",
      "source": [
        "# Adjusting learning rate and change optimization algorithm\n",
        "learning_rate = 0.001\n",
        "optimizer = Adam(learning_rate=learning_rate)"
      ],
      "metadata": {
        "id": "umojrkl3DyMv"
      },
      "execution_count": 73,
      "outputs": []
    },
    {
      "cell_type": "code",
      "source": [
        "# Compiling the model\n",
        "model.compile(\n",
        "    loss='categorical_crossentropy',\n",
        "    optimizer=optimizer,\n",
        "    metrics=['accuracy']\n",
        ")"
      ],
      "metadata": {
        "id": "tEr7xJyGkSbC"
      },
      "execution_count": 74,
      "outputs": []
    },
    {
      "cell_type": "code",
      "source": [
        "# Optimizing and improving memory usage\n",
        "tf.config.optimizer.set_jit(True)"
      ],
      "metadata": {
        "id": "dOdFIrCl1QP_"
      },
      "execution_count": 75,
      "outputs": []
    },
    {
      "cell_type": "code",
      "source": [
        "# Training the model\n",
        "model.fit(\n",
        "    train_generator,\n",
        "    steps_per_epoch=train_generator.samples // batch_size,\n",
        "    epochs=epochs,\n",
        ")"
      ],
      "metadata": {
        "colab": {
          "base_uri": "https://localhost:8080/"
        },
        "id": "kNaa8ILNkVVg",
        "outputId": "89ee44ec-8b30-43b0-b2ae-bdc3031122cb"
      },
      "execution_count": 76,
      "outputs": [
        {
          "output_type": "stream",
          "name": "stdout",
          "text": [
            "Epoch 1/30\n",
            "316/316 [==============================] - 2223s 7s/step - loss: 1.8913 - accuracy: 0.3582\n",
            "Epoch 2/30\n",
            "316/316 [==============================] - 98s 309ms/step - loss: 1.3392 - accuracy: 0.5385\n",
            "Epoch 3/30\n",
            "316/316 [==============================] - 92s 293ms/step - loss: 1.1170 - accuracy: 0.6207\n",
            "Epoch 4/30\n",
            "316/316 [==============================] - 97s 307ms/step - loss: 0.9962 - accuracy: 0.6617\n",
            "Epoch 5/30\n",
            "316/316 [==============================] - 92s 293ms/step - loss: 0.9140 - accuracy: 0.6921\n",
            "Epoch 6/30\n",
            "316/316 [==============================] - 94s 297ms/step - loss: 0.8391 - accuracy: 0.7231\n",
            "Epoch 7/30\n",
            "316/316 [==============================] - 92s 291ms/step - loss: 0.7714 - accuracy: 0.7373\n",
            "Epoch 8/30\n",
            "316/316 [==============================] - 95s 301ms/step - loss: 0.7261 - accuracy: 0.7567\n",
            "Epoch 9/30\n",
            "316/316 [==============================] - 92s 289ms/step - loss: 0.7080 - accuracy: 0.7565\n",
            "Epoch 10/30\n",
            "316/316 [==============================] - 92s 292ms/step - loss: 0.6891 - accuracy: 0.7683\n",
            "Epoch 11/30\n",
            "316/316 [==============================] - 93s 295ms/step - loss: 0.6573 - accuracy: 0.7791\n",
            "Epoch 12/30\n",
            "316/316 [==============================] - 91s 288ms/step - loss: 0.6204 - accuracy: 0.7894\n",
            "Epoch 13/30\n",
            "316/316 [==============================] - 95s 300ms/step - loss: 0.6043 - accuracy: 0.7913\n",
            "Epoch 14/30\n",
            "316/316 [==============================] - 93s 293ms/step - loss: 0.5652 - accuracy: 0.8004\n",
            "Epoch 15/30\n",
            "316/316 [==============================] - 94s 298ms/step - loss: 0.5515 - accuracy: 0.8091\n",
            "Epoch 16/30\n",
            "316/316 [==============================] - 90s 286ms/step - loss: 0.5117 - accuracy: 0.8222\n",
            "Epoch 17/30\n",
            "316/316 [==============================] - 96s 303ms/step - loss: 0.4993 - accuracy: 0.8281\n",
            "Epoch 18/30\n",
            "316/316 [==============================] - 90s 286ms/step - loss: 0.4801 - accuracy: 0.8262\n",
            "Epoch 19/30\n",
            "316/316 [==============================] - 90s 285ms/step - loss: 0.4809 - accuracy: 0.8382\n",
            "Epoch 20/30\n",
            "316/316 [==============================] - 95s 302ms/step - loss: 0.4664 - accuracy: 0.8351\n",
            "Epoch 21/30\n",
            "316/316 [==============================] - 91s 288ms/step - loss: 0.4472 - accuracy: 0.8410\n",
            "Epoch 22/30\n",
            "316/316 [==============================] - 93s 294ms/step - loss: 0.4397 - accuracy: 0.8401\n",
            "Epoch 23/30\n",
            "316/316 [==============================] - 93s 294ms/step - loss: 0.4095 - accuracy: 0.8560\n",
            "Epoch 24/30\n",
            "316/316 [==============================] - 92s 291ms/step - loss: 0.3899 - accuracy: 0.8598\n",
            "Epoch 25/30\n",
            "316/316 [==============================] - 95s 301ms/step - loss: 0.3760 - accuracy: 0.8693\n",
            "Epoch 26/30\n",
            "316/316 [==============================] - 90s 286ms/step - loss: 0.3911 - accuracy: 0.8610\n",
            "Epoch 27/30\n",
            "316/316 [==============================] - 96s 305ms/step - loss: 0.3643 - accuracy: 0.8688\n",
            "Epoch 28/30\n",
            "316/316 [==============================] - 90s 286ms/step - loss: 0.3558 - accuracy: 0.8699\n",
            "Epoch 29/30\n",
            "316/316 [==============================] - 94s 299ms/step - loss: 0.3168 - accuracy: 0.8830\n",
            "Epoch 30/30\n",
            "316/316 [==============================] - 92s 292ms/step - loss: 0.3175 - accuracy: 0.8946\n"
          ]
        },
        {
          "output_type": "execute_result",
          "data": {
            "text/plain": [
              "<keras.callbacks.History at 0x7fa860469a50>"
            ]
          },
          "metadata": {},
          "execution_count": 76
        }
      ]
    },
    {
      "cell_type": "code",
      "source": [
        "# Saving the trained model\n",
        "model.save('project4_model.h5')"
      ],
      "metadata": {
        "id": "Yir-2nh6oehI"
      },
      "execution_count": 77,
      "outputs": []
    },
    {
      "cell_type": "code",
      "source": [
        "# Loading the trained model\n",
        "model = tf.keras.models.load_model('project4_model.h5')"
      ],
      "metadata": {
        "id": "V_ydu0nf-dbd"
      },
      "execution_count": 104,
      "outputs": []
    },
    {
      "cell_type": "code",
      "source": [
        "# Creating an ImageDataGenerator for the testing dataset\n",
        "test_datagen = ImageDataGenerator(rescale=1.0/255)"
      ],
      "metadata": {
        "id": "RL-94Hiz-hGM"
      },
      "execution_count": 105,
      "outputs": []
    },
    {
      "cell_type": "code",
      "source": [
        "# Loading the filenames of the images in the testing dataset\n",
        "test_filenames = os.listdir(test_data_dir)"
      ],
      "metadata": {
        "id": "UHnRz1e4-nlu"
      },
      "execution_count": 106,
      "outputs": []
    },
    {
      "cell_type": "code",
      "source": [
        "# Creating a dataframe with the filenames\n",
        "test_df = pd.DataFrame({'filename': test_filenames})\n",
        "print(test_filenames)\n",
        "print(len(test_filenames))"
      ],
      "metadata": {
        "id": "JBkrDWSd-qhe",
        "colab": {
          "base_uri": "https://localhost:8080/"
        },
        "outputId": "b0bb8b33-51d4-44c3-c80a-c84660723d2d"
      },
      "execution_count": 107,
      "outputs": [
        {
          "output_type": "stream",
          "name": "stdout",
          "text": [
            "['e98e5d1d5.png', 'fea1d13d6.png', 'fda0b5c38.png', 'fdea6b119.png', 'fe29629fb.png', 'fd925f542.png', 'fda39e16f.png', 'fe9e87b78.png', 'fd253a74e.png', 'fd87b36ae.png', 'fc6f686fb.png', 'fc3e58836.png', 'e5368474f.png', 'dabe3e5be.png', 'cfd8165e9.png', 'cfb18d262.png', 'cf90fc52d.png', 'cf46d09c5.png', 'e1abb4ff9.png', 'caa2fbd79.png', 'efe19dc32.png', 'cf3a8b2fd.png', 'f4caf74f9.png', 'f1f7c833f.png', 'f3fcfff1b.png', 'f2dc546ca.png', 'f1e87cba7.png', 'ffc6f8527.png', 'f4ad9d950.png', 'f4e7733d4.png', 'f445fe6fb.png', 'f351ce097.png', 'fbf88b6be.png', 'ff65bc002.png', 'f66ae4070.png', 'f85ed9b6d.png', 'fef2ade8c.png', 'fba8fc78a.png', 'fb022edf9.png', 'fa9f3a8f9.png', 'fa5fd1384.png', 'fadc6adbc.png', 'f48916a8c.png', 'f25996db8.png', 'f4234cf4f.png', 'f8318faf1.png', 'f4021df6c.png', 'f593c9cf0.png', 'f33e9d918.png', 'f23faf9c1.png', 'f9b6bfb00.png', 'f9ea23fb5.png', 'f6d250856.png', 'f9f35cbd4.png', 'c0f5d9ac8.png', 'fea355851.png', 'fea3da57c.png', 'b7192c70f.png', 'd7017f701.png', '76dbd1054.png', '66ab0e8d0.png', '71b232519.png', '74fd477eb.png', '69d1669f8.png', '71f5323c5.png', '67ce3eaa6.png', '75cb95e91.png', '71e73a8a0.png', '74d810f87.png', '67e185673.png', '65e97117e.png', '65d08b894.png', '64fe8beb9.png', '65e262a6d.png', '8e29abce1.png', '8cfd98117.png', '8cf909eb3.png', '8db450ce3.png', '8ca6140ca.png', '8e6ec1ca6.png', '8e2e5604e.png', '8e3ed0a25.png', '8cf2e3e6c.png', '8d6acbe9b.png', '8c9953903.png', '8dbb8e1b9.png', '8e4eaeec0.png', '8d6991365.png', '6ba4ef411.png', '6da892be6.png', '6db684fff.png', '6df8e31ea.png', '6c874918c.png', '6bce55e05.png', '6b9d6f8c9.png', '6edc76e7c.png', '6edb96d45.png', '6b721f68e.png', '6dd095129.png', '6be169e41.png', '6d6eb3830.png', '63c07d340.png', '856f2910a.png', '835dc5447.png', '86f08e6d1.png', '80e299ae9.png', '809eb0b82.png', '862b8e7a0.png', '824f5d4e5.png', '82b5f4d33.png', '851c90831.png', '837ac0270.png', '808cf55c6.png', '87f627bf9.png', '800a8c17e.png', '86c309150.png', '8170d33c1.png', '85431c075.png', '87608f7aa.png', '8455169fe.png', '8301b0547.png', '808578ed5.png', '827279bad.png', '6a41bf95b.png', '86676d627.png', '8585f9718.png', '974959ec1.png', '8916793ce.png', '97844bfd5.png', '7b52585da.png', '92292055d.png', '98062cd87.png', '99569b224.png', '99036c51d.png', '963544aa0.png', '7b21ba6ba.png', '93079d970.png', '7beb2766f.png', '953496deb.png', '995c7ab1e.png', '966ae5ad9.png', '976e4e079.png', '948cdb277.png', '9326bda1b.png', '8874bba69.png', '9516e56c4.png', '958bb9e96.png', '969a851be.png', '855955aaf.png', '8311740de.png', '8104422bb.png', '8303b27ed.png', '9baf94467.png', '90d119d25.png', '93d76fd5d.png', '91e469b4a.png', '96ecad7a1.png', '88d8a4508.png', '90b595f12.png', '9aa5587fe.png', '8f523520c.png', 'a276c65f7.png', 'a85b48a95.png', 'a935ca110.png', 'a74bf916d.png', 'a800caead.png', 'a93f940d6.png', 'a169b71e7.png', 'a544fc46d.png', 'a060c1cf8.png', '8a30b2de3.png', '8ab8a958b.png', 'afa446484.png', 'b026bf8ca.png', '8a4d3a1b1.png', 'aee6fa3df.png', 'afcf6abd5.png', '8a8d6c712.png', 'af45e222a.png', 'ac3193f78.png', 'acdb75e00.png', 'ad12382d4.png', 'ab35453cb.png', '866be78b0.png', '8c98a6e9b.png', 'ab0f67743.png', 'adb7a032c.png', 'aaf4da98f.png', 'ac75d3326.png', 'abc331628.png', 'aad8375e0.png', 'aa7d098d1.png', 'ae90f2827.png', '9b4800b42.png', '6a47821f9.png', '79fba50db.png', '8faadb6a8.png', '9b9911f20.png', '88ac6df54.png', '9a3f20121.png', '8b043093d.png', '8b27bfd2b.png', '8bc0261c9.png', '8b9144917.png', '8a32d0bfa.png', '7a38416be.png', 'a74d475c2.png', 'a85fc8c9a.png', 'a890ac088.png', 'a35fd6fbb.png', 'a9d2eab61.png', 'a8de7c1b7.png', 'a38b8a581.png', '78c5fba1d.png', '79d93bc96.png', '78b1bf91a.png', '79dafec17.png', '7fdb7202d.png', '79e5ea8fa.png', 'abf8b0772.png', 'ace8761dd.png', 'a8388a37f.png', 'a254d71f6.png', 'a006a475c.png', 'a7bd7cadb.png', 'a4b61a4ea.png', 'a8c8a1db0.png', 'a8b431a3e.png', 'a3d0031fd.png', 'a5db42f7d.png', 'a8da9c08d.png', 'a3b375b34.png', 'a83820a2c.png', 'd17f48d3b.png', 'd41d87796.png', 'd0152bd7c.png', '7c85b0265.png', '9cce7328c.png', 'a1e0a6c02.png', '9c32a797e.png', 'c50335991.png', '9c0c5b731.png', '9d3cb4745.png', 'a0f37c726.png', '9c8b08a24.png', '9df3275da.png', 'a0b393945.png', 'e80a259c5.png', 'e14afa235.png', 'e73e308be.png', 'e15fce4f2.png', 'e88bf0db9.png', 'e96e57a90.png', 'e9d48d664.png', 'd09275360.png', 'd689256be.png', 'da9ef7858.png', 'da231c97f.png', 'da4ed3a28.png', 'da5255450.png', 'd668409ff.png', 'da713c465.png', 'b1cd2a91e.png', 'd515398fd.png', 'd14aa43f3.png', 'd93c7ab6d.png', 'd488a4fe1.png', 'd102e1a15.png', 'd84d37a61.png', 'd3331e071.png', 'd563be369.png', 'd01873fdd.png', 'd9c50616e.png', 'bf66b9cd2.png', 'beebe5f4e.png', 'bffc08672.png', 'bebcaab66.png', 'be341dbdc.png', 'bd789d151.png', 'bdde957ec.png', 'bea23d9f8.png', 'bf3924a57.png', 'bd72d4d8a.png', 'bfab3e3d0.png', 'c0d9e170b.png', '96f14d90c.png', 'aecfaed64.png', '8ece6efec.png', '9643fc5f4.png', 'a19c3faca.png', '98da6ef4e.png', '97b2f0a10.png', '98d819587.png', '892e9d6c6.png', '897e5a8de.png', '7e9cf1c46.png', '7d3045fc3.png', '7d22abf91.png', '7f46a71db.png', '7d4cd07ad.png', '7f9e9565d.png', '7f31c7f42.png', '7cabd68cc.png', 'b0acaff4a.png', 'bb1d1bfd3.png', 'bb1c84bbc.png', 'bb20fce02.png', 'bb7621cb3.png', 'c0bc3997b.png', 'be2499cf4.png', '9c777333d.png', '9d79a1f0c.png', '9fab816f2.png', 'a1da8be3c.png', 'eec1079a1.png', 'ef3e232ad.png', 'ef7a5651d.png', 'e7077322d.png', 'edfdb4aeb.png', 'e15472085.png', 'ede6b84b4.png', 'ec08a5d56.png', 'ef02b4ee7.png', 'cc3d2a59a.png', 'ce3d280eb.png', 'cd5f0db1c.png', 'ce15eee52.png', 'ce42adffb.png', 'cec5bf198.png', 'cd6adba97.png', 'c26ccf73c.png', 'c35efa095.png', 'c5078bac5.png', 'c10db7ae2.png', 'c069fc3fa.png', 'c10ccbd82.png', 'c63da993b.png', 'c60e91e07.png', 'df11d56a7.png', 'de0b79659.png', 'e1a0e3202.png', 'df521c0c0.png', 'e0ec5b6a1.png', 'dfb1d9012.png', 'b7a7f6390.png', 'b30ab4659.png', 'b6f3d8b5d.png', 'b2706e2b3.png', 'a2c89c367.png', 'b3d6fdb80.png', 'b3e08b037.png', 'b4c3df835.png', 'a55d26a4c.png', 'd350a25fa.png', 'd89db156f.png', 'b341d0aab.png', 'b944a49ca.png', 'b573b7a56.png', 'b145ba9d4.png', 'b130a0632.png', 'b62dca166.png', 'b39c71707.png', 'b7ad92859.png', 'b6a3f7876.png', 'b5c7fd009.png', 'ef74dbcad.png', 'ef9676433.png', 'ef65533d5.png', 'b29339405.png', 'b215531dd.png', 'b47691c08.png', 'b31292706.png', 'b687160f5.png', 'b98327bf4.png', 'ba3ce6b3e.png', 'b828443ff.png', 'b9062c1c8.png', 'b03397525.png', 'cc74feadc.png', 'e19ad6ac9.png', 'a2d25b4f3.png', 'df7cb5f87.png', 'd2f422ccb.png', 'd0cdc768f.png', 'd6d80a321.png', 'd2fd9df40.png', 'd6d31dcbe.png', 'd5f7dd60a.png', 'd6c8c3c48.png', 'c85ef220d.png', 'c832e4302.png', 'c88ebfb47.png', 'c64370a72.png', 'c7051c902.png', 'c06e7c748.png', 'c5e419015.png', 'c5e88cd42.png', 'c4ed8ed38.png', 'c2de6020a.png', 'c1ecff98b.png', 'cb76a7766.png', 'cb496f36e.png', 'cadab6616.png', 'cae684f8f.png', 'cbe761896.png', 'e9cd91682.png', 'e4d5ec761.png', 'e3f50adfc.png', 'e5e3dccff.png', 'e4a76885b.png', 'eaf0815e2.png', 'e52493d0b.png', 'e84464f5a.png', 'e82017baa.png', 'e921021a8.png', 'a2b703e21.png', 'eef131644.png', 'e6f1211a2.png', 'dc4cd56a3.png', 'dd5ec63d9.png', 'dcd7ff249.png', 'dd9f36df7.png', 'dce2f6612.png', 'dabea05f4.png', 'dc55449b2.png', 'c0461776c.png', 'b4f7c9214.png', 'd09d24c58.png', 'e721c6ac8.png', 'e19673dc9.png', 'e5064f6be.png', 'e901b0f28.png', 'e783f5a4f.png', 'e471f1d3a.png', 'e478c452c.png', 'e5881dd33.png', 'e5297b675.png', 'e1809cef2.png', 'bb64660b7.png', 'd8f4923f8.png', 'd2f0f326e.png', 'c6c8d4ba0.png', 'c75a82234.png', 'c7b07431e.png', 'c6b76307d.png', 'c7ae30f3a.png', 'c8f50f0c3.png', 'f0ffa00bd.png', 'c7eb96871.png', 'c74c5b7fc.png', 'cbba27d89.png', '599691cd9.png', '5779fe8b4.png', '59358cd44.png', '55920f07f.png', '56112b92c.png', '592473c83.png', '5883b423d.png', '5315c2dca.png', '615d2b0a9.png', '5817b766d.png', '618de3d7a.png', '593896f83.png', '599c82eea.png', '604dd663f.png', '592cc5b89.png', '490c4f9c8.png', '521b27a17.png', '406ecb5c5.png', '456d507c0.png', '502dff972.png', '4049a6ea6.png', '410e6f702.png', '446f7da01.png', '50de8a115.png', '466bb6d3b.png', '486e59179.png', '4c7838de4.png', '3f64c2c1b.png', '3efa1f66c.png', '3eebd36c6.png', '48ef6a2ff.png', '48d97c645.png', '47f9e5d91.png', '47b7d8e17.png', '35ebe165c.png', '711b46fba.png', '675ec1b0b.png', '721b2c47a.png', '754b1adf8.png', '780bd2a2c.png', '699d3c707.png', '780defa2e.png', '785a73ab8.png', '721be0a4a.png', '756dd5070.png', '686dc7ec8.png', '770a265f5.png', '728eabae1.png', '668c1007c.png', '77ccb8b2a.png', '3d38a87bc.png', '3edf5e9ef.png', '3ebbe9ca4.png', '3eda9cbb6.png', '3e9f41817.png', '3d65168c2.png', '539961189.png', '632156793.png', '55251925f.png', '3d67c434b.png', '3dd52bd2a.png', '3da774107.png', '5296835a0.png', '6049234e6.png', '606647f64.png', '23e480e64.png', '2dd5cfba9.png', '5ca2687a4.png', '1b490196c.png', '1623fb9e1.png', '1694a70e4.png', '59b2c6f2b.png', '6908fb540.png', '1541bdb2e.png', '37714071b.png', '1b6a6494d.png', '26852751a.png', '377283a21.png', '3827436f3.png', '3185294c8.png', '288564c76.png', '33748968f.png', '3281183f9.png', '39858776a.png', '35a90f8d0.png', '35cf9fa01.png', '32c86784b.png', '34dd57ca9.png', '32b42c120.png', '32a8c8a1d.png', '270b939cf.png', '39c8fde99.png', '37e545a60.png', '279df95f2.png', '36ed4f215.png', '258b1183c.png', '39b740f7e.png', '39d569be4.png', '36d62bf36.png', '172f9b10b.png', '148bbda66.png', '0e8492cb1.png', '0d31e6602.png', '0fb233ad6.png', '0dba99002.png', '0f6cbe5e8.png', '0ebf8f2f4.png', '0ee4ad224.png', '659412b1a.png', '7691014a1.png', '7696badea.png', '76555b064.png', '6680836dd.png', '653193c1a.png', '71334c634.png', '752101fdf.png', '73260a4ee.png', '664194d19.png', '429211ee6.png', '4823c3ffa.png', '2d5058a59.png', '2d992d1fb.png', '06d12f6fa.png', '03a2ee656.png', '003d61042.png', '03e322a29.png', '03ef36742.png', '02cfeb38d.png', '089ad62a7.png', '07e62f903.png', '20ea96bcc.png', '0437393b1.png', '1191ba346.png', '1f290e016.png', '1dc7c45df.png', '1e095a7e1.png', '1d48b7564.png', '1c680883c.png', '1d56351b2.png', '1f3f44563.png', '1d321253f.png', '0885e7690.png', '0c5f6c493.png', '248436078.png', '0a64e3e6c.png', '00ef713a8.png', '0c51bf229.png', '00d090cde.png', '0c45ace27.png', '0ae6668fa.png', '00c47e980.png', '53ceb4657.png', '54b3afd58.png', '56a01b835.png', '55fed435f.png', '53e6e9000.png', '52dc7a4d6.png', '52a87abe5.png', '177d7e2a4.png', '241e6935a.png', '24c94a6ca.png', '205df1df3.png', '1364b297a.png', '223e4af09.png', '239bdf640.png', '126a71ce0.png', '2bd74d2da.png', '48231e475.png', '2b55a2da2.png', '2d9c798f9.png', '444473900.png', '4392d93cf.png', '2a667e099.png', '2a5064f19.png', '406162ef9.png', '0625f063b.png', '071cb3ece.png', '099b961ec.png', '0021e90e4.png', '11d3f68ff.png', '0086a6340.png', '115f93ecc.png', '08d591441.png', '060f1dc84.png', '116b136de.png', '0751c0bbc.png', '22e79540f.png', '22fbf13d6.png', '19e58cc5e.png', '17d5e5ac4.png', '23bc8ec4f.png', '20e562fd5.png', '20f983a71.png', '19fdf19fb.png', '19b51843a.png', '043449b0b.png', '03566743d.png', '026716f9b.png', '063363305.png', '060450d79.png', '01291174f.png', '04814f36d.png', '05341a8a6.png', '122913909.png', '085974290.png', '1459e96a0.png', '1376f3b63.png', '219fd68d5.png', '1d0cbd819.png', '1758a1baf.png', '17529c555.png', '16357b436.png', '16467a950.png', '20817c846.png', '187668bde.png', '165681fd9.png', '2406d6c99.png', '1821eb11a.png', '506347cfe.png', '55a852f40.png', '54c8bb900.png', '0911d3dee.png', '2693e5c65.png', '78750e0ff.png', '24d36c52c.png', '3bbef3ecb.png', '3b73c3b61.png', '24dbc3b21.png', '24d78df74.png', '25a4c427e.png', '2ea664465.png', '590f5aea6.png', '589e643b8.png', '558aa7deb.png', '550a8b7e6.png', '534e74d83.png', '523e5505c.png', '61dd2cdc5.png', '61b044411.png', '60fea2ef6.png', '0c27cf05f.png', '0c4199daa.png', '0bf7bfb05.png', '0ad9e7dfb.png', '12625488b.png', '2f0004a7f.png', '3a909ead8.png', '2e86f1085.png', '2ff5cb348.png', '2f246d688.png', '3abb502fb.png', '007b3da8b.png', '5dcad9a53.png', '5f04aed97.png', '5e6a237f2.png', '29ce426a1.png', '31f3dd81f.png', '29bab7cad.png', '25fa8d109.png', '30ad31220.png', '31fcdc161.png', '26e7ae885.png', '29f49cd0b.png', '19618ad6a.png', '1926e82fd.png', '37c3108d6.png', '338c7e907.png', '5ca0205f9.png', '5bdcfa329.png', '5bbc0a255.png', '5b3000b9a.png', '5bc6595f6.png', '5bd71f445.png', '5c3cd7ea2.png', '5b63dcc21.png', '391dcd7fd.png', '0d117d910.png', '14bb43eee.png', '17a78fb44.png', '16fd2e01a.png', '13b9fa92d.png', '1f5e5554e.png', '1cfd91582.png', '46c14fde2.png', '44e8b8833.png', '4c8005bbc.png', '41e07778c.png', '4f83143e1.png', '4ea7493d5.png', '4e18ab737.png', '38c054379.png', '2126dc71b.png', '25cf6eb73.png', '41f1c3cdb.png', '4e69d100a.png', '4e9d3765f.png', '4c5ab9b68.png', '3fbd0fc6a.png', '65489944f.png', '1fefb54b7.png', '3526b05cc.png', '7506c0c02.png', '7615e52d3.png', '6982a9d30.png', '4f44ca525.png', '43ede9de9.png', '42e7ed442.png', '4e1190d78.png', '0caeda5df.png', '1312065a5.png', '24a058589.png', '1bf9b94a6.png', '1c52ea820.png', '1be0713da.png', '4287d810c.png', '59e1cea8d.png', '59f62ad1d.png', '60ee66ddd.png', '60f0bc617.png', '59c6a9f95.png', '2df78338c.png', '5ee9d0a5b.png', '5eb9c26a6.png', '3fbf1a417.png', '4ac29bbf0.png', '4bbf1f6ea.png', '3f92d8039.png', '3f826b318.png', '4b032563b.png', '4bbfd1e05.png', '4b155fb07.png', '4a337a4a9.png', '36839d5e9.png', '33448fe39.png', '33317fc2a.png', '37297a64c.png', '5a6bf96f6.png', '647689543.png', '5af1d74ee.png', '5b3beec58.png', '5a38ac566.png', '74068643d.png', '4bcdaa5e2.png']\n",
            "794\n"
          ]
        }
      ]
    },
    {
      "cell_type": "code",
      "source": [
        "# Generating the test data generator from the dataframe\n",
        "test_generator = test_datagen.flow_from_dataframe(\n",
        "    test_df,\n",
        "    directory=test_data_dir,\n",
        "    x_col='filename',\n",
        "    y_col=None,\n",
        "    target_size=(img_width, img_height),\n",
        "    batch_size=batch_size,\n",
        "    class_mode=None,\n",
        "    shuffle=False\n",
        ")"
      ],
      "metadata": {
        "colab": {
          "base_uri": "https://localhost:8080/"
        },
        "id": "Lw6VXK9O6c7d",
        "outputId": "dca9b581-64df-4b40-c498-f8e1d27e88c1"
      },
      "execution_count": 108,
      "outputs": [
        {
          "output_type": "stream",
          "name": "stdout",
          "text": [
            "Found 794 validated image filenames.\n"
          ]
        }
      ]
    },
    {
      "cell_type": "code",
      "source": [
        "# Predicting the classes for the test images\n",
        "predictions = model.predict(test_generator)"
      ],
      "metadata": {
        "colab": {
          "base_uri": "https://localhost:8080/"
        },
        "id": "Iuw9fPHO-35i",
        "outputId": "68b2562b-18a0-4fee-f72b-90725cf1e139"
      },
      "execution_count": 109,
      "outputs": [
        {
          "output_type": "stream",
          "name": "stdout",
          "text": [
            "53/53 [==============================] - 7s 103ms/step\n"
          ]
        }
      ]
    },
    {
      "cell_type": "code",
      "source": [
        "# Maping predicted class indices to class labels\n",
        "class_labels = list(train_generator.class_indices.keys())\n",
        "predicted_classes = [class_labels[prediction.argmax()] for prediction in predictions]"
      ],
      "metadata": {
        "id": "gjawh6Vf-4Zh"
      },
      "execution_count": 110,
      "outputs": []
    },
    {
      "cell_type": "code",
      "source": [
        "# Printing the predicted classes\n",
        "print(predicted_classes)"
      ],
      "metadata": {
        "colab": {
          "base_uri": "https://localhost:8080/"
        },
        "id": "gcU3Ouro-7Pw",
        "outputId": "93a0e22e-9d20-4a57-b905-85c6f66f738e"
      },
      "execution_count": 111,
      "outputs": [
        {
          "output_type": "stream",
          "name": "stdout",
          "text": [
            "['Common wheat', 'Small-flowered Cranesbill', 'Common wheat', 'Black-grass', 'Loose Silky-bent', 'Common Chickweed', 'Loose Silky-bent', 'Scentless Mayweed', 'Cleavers', 'Loose Silky-bent', 'Sugar beet', 'Scentless Mayweed', 'Scentless Mayweed', 'Small-flowered Cranesbill', 'Charlock', 'Scentless Mayweed', 'Maize', 'Common Chickweed', 'Sugar beet', 'Common Chickweed', 'Charlock', 'Loose Silky-bent', 'Charlock', 'Shepherds Purse', 'Charlock', 'Cleavers', 'Loose Silky-bent', 'Common wheat', 'Sugar beet', 'Small-flowered Cranesbill', 'Charlock', 'Loose Silky-bent', 'Charlock', 'Charlock', 'Maize', 'Shepherds Purse', 'Sugar beet', 'Black-grass', 'Fat Hen', 'Cleavers', 'Shepherds Purse', 'Charlock', 'Scentless Mayweed', 'Small-flowered Cranesbill', 'Fat Hen', 'Common Chickweed', 'Scentless Mayweed', 'Sugar beet', 'Scentless Mayweed', 'Loose Silky-bent', 'Scentless Mayweed', 'Fat Hen', 'Shepherds Purse', 'Common Chickweed', 'Small-flowered Cranesbill', 'Loose Silky-bent', 'Sugar beet', 'Common wheat', 'Fat Hen', 'Scentless Mayweed', 'Charlock', 'Loose Silky-bent', 'Common Chickweed', 'Charlock', 'Loose Silky-bent', 'Small-flowered Cranesbill', 'Charlock', 'Sugar beet', 'Black-grass', 'Small-flowered Cranesbill', 'Loose Silky-bent', 'Sugar beet', 'Scentless Mayweed', 'Charlock', 'Scentless Mayweed', 'Scentless Mayweed', 'Charlock', 'Common Chickweed', 'Loose Silky-bent', 'Small-flowered Cranesbill', 'Sugar beet', 'Small-flowered Cranesbill', 'Common Chickweed', 'Common Chickweed', 'Fat Hen', 'Charlock', 'Common Chickweed', 'Common wheat', 'Cleavers', 'Small-flowered Cranesbill', 'Scentless Mayweed', 'Charlock', 'Black-grass', 'Cleavers', 'Sugar beet', 'Fat Hen', 'Cleavers', 'Loose Silky-bent', 'Common Chickweed', 'Shepherds Purse', 'Cleavers', 'Scentless Mayweed', 'Small-flowered Cranesbill', 'Small-flowered Cranesbill', 'Fat Hen', 'Charlock', 'Charlock', 'Sugar beet', 'Sugar beet', 'Shepherds Purse', 'Loose Silky-bent', 'Scentless Mayweed', 'Cleavers', 'Common Chickweed', 'Fat Hen', 'Sugar beet', 'Maize', 'Loose Silky-bent', 'Charlock', 'Common wheat', 'Charlock', 'Charlock', 'Scentless Mayweed', 'Scentless Mayweed', 'Black-grass', 'Black-grass', 'Common wheat', 'Small-flowered Cranesbill', 'Charlock', 'Loose Silky-bent', 'Shepherds Purse', 'Shepherds Purse', 'Common wheat', 'Loose Silky-bent', 'Loose Silky-bent', 'Sugar beet', 'Sugar beet', 'Scentless Mayweed', 'Fat Hen', 'Black-grass', 'Loose Silky-bent', 'Common Chickweed', 'Cleavers', 'Common Chickweed', 'Black-grass', 'Black-grass', 'Charlock', 'Scentless Mayweed', 'Small-flowered Cranesbill', 'Fat Hen', 'Common Chickweed', 'Loose Silky-bent', 'Sugar beet', 'Scentless Mayweed', 'Small-flowered Cranesbill', 'Charlock', 'Small-flowered Cranesbill', 'Common wheat', 'Common Chickweed', 'Loose Silky-bent', 'Shepherds Purse', 'Loose Silky-bent', 'Scentless Mayweed', 'Loose Silky-bent', 'Shepherds Purse', 'Sugar beet', 'Scentless Mayweed', 'Charlock', 'Scentless Mayweed', 'Maize', 'Sugar beet', 'Fat Hen', 'Small-flowered Cranesbill', 'Loose Silky-bent', 'Loose Silky-bent', 'Loose Silky-bent', 'Small-flowered Cranesbill', 'Cleavers', 'Scentless Mayweed', 'Common Chickweed', 'Loose Silky-bent', 'Loose Silky-bent', 'Cleavers', 'Common Chickweed', 'Loose Silky-bent', 'Loose Silky-bent', 'Loose Silky-bent', 'Sugar beet', 'Loose Silky-bent', 'Common wheat', 'Charlock', 'Common Chickweed', 'Common Chickweed', 'Charlock', 'Loose Silky-bent', 'Common Chickweed', 'Sugar beet', 'Scentless Mayweed', 'Loose Silky-bent', 'Loose Silky-bent', 'Small-flowered Cranesbill', 'Small-flowered Cranesbill', 'Loose Silky-bent', 'Small-flowered Cranesbill', 'Small-flowered Cranesbill', 'Charlock', 'Common Chickweed', 'Small-flowered Cranesbill', 'Charlock', 'Common Chickweed', 'Black-grass', 'Loose Silky-bent', 'Small-flowered Cranesbill', 'Sugar beet', 'Loose Silky-bent', 'Sugar beet', 'Loose Silky-bent', 'Scentless Mayweed', 'Common wheat', 'Scentless Mayweed', 'Common Chickweed', 'Fat Hen', 'Black-grass', 'Shepherds Purse', 'Fat Hen', 'Loose Silky-bent', 'Shepherds Purse', 'Sugar beet', 'Black-grass', 'Maize', 'Scentless Mayweed', 'Loose Silky-bent', 'Sugar beet', 'Scentless Mayweed', 'Scentless Mayweed', 'Fat Hen', 'Loose Silky-bent', 'Loose Silky-bent', 'Cleavers', 'Common wheat', 'Cleavers', 'Loose Silky-bent', 'Common wheat', 'Small-flowered Cranesbill', 'Loose Silky-bent', 'Small-flowered Cranesbill', 'Small-flowered Cranesbill', 'Small-flowered Cranesbill', 'Common wheat', 'Fat Hen', 'Scentless Mayweed', 'Small-flowered Cranesbill', 'Shepherds Purse', 'Shepherds Purse', 'Sugar beet', 'Fat Hen', 'Charlock', 'Shepherds Purse', 'Charlock', 'Common Chickweed', 'Sugar beet', 'Loose Silky-bent', 'Cleavers', 'Loose Silky-bent', 'Small-flowered Cranesbill', 'Loose Silky-bent', 'Common wheat', 'Cleavers', 'Common Chickweed', 'Fat Hen', 'Fat Hen', 'Loose Silky-bent', 'Sugar beet', 'Maize', 'Scentless Mayweed', 'Scentless Mayweed', 'Scentless Mayweed', 'Loose Silky-bent', 'Common Chickweed', 'Scentless Mayweed', 'Scentless Mayweed', 'Scentless Mayweed', 'Scentless Mayweed', 'Sugar beet', 'Small-flowered Cranesbill', 'Sugar beet', 'Shepherds Purse', 'Scentless Mayweed', 'Charlock', 'Charlock', 'Scentless Mayweed', 'Small-flowered Cranesbill', 'Shepherds Purse', 'Scentless Mayweed', 'Cleavers', 'Common Chickweed', 'Sugar beet', 'Scentless Mayweed', 'Sugar beet', 'Common Chickweed', 'Scentless Mayweed', 'Loose Silky-bent', 'Loose Silky-bent', 'Common wheat', 'Cleavers', 'Loose Silky-bent', 'Scentless Mayweed', 'Fat Hen', 'Scentless Mayweed', 'Black-grass', 'Common Chickweed', 'Small-flowered Cranesbill', 'Fat Hen', 'Maize', 'Charlock', 'Common Chickweed', 'Scentless Mayweed', 'Scentless Mayweed', 'Scentless Mayweed', 'Common Chickweed', 'Cleavers', 'Small-flowered Cranesbill', 'Sugar beet', 'Sugar beet', 'Common Chickweed', 'Small-flowered Cranesbill', 'Charlock', 'Loose Silky-bent', 'Cleavers', 'Small-flowered Cranesbill', 'Common Chickweed', 'Scentless Mayweed', 'Black-grass', 'Maize', 'Fat Hen', 'Shepherds Purse', 'Sugar beet', 'Loose Silky-bent', 'Sugar beet', 'Fat Hen', 'Loose Silky-bent', 'Loose Silky-bent', 'Sugar beet', 'Loose Silky-bent', 'Fat Hen', 'Charlock', 'Scentless Mayweed', 'Common wheat', 'Charlock', 'Shepherds Purse', 'Fat Hen', 'Common Chickweed', 'Common Chickweed', 'Common Chickweed', 'Small-flowered Cranesbill', 'Common Chickweed', 'Loose Silky-bent', 'Loose Silky-bent', 'Scentless Mayweed', 'Cleavers', 'Fat Hen', 'Maize', 'Shepherds Purse', 'Black-grass', 'Black-grass', 'Scentless Mayweed', 'Charlock', 'Loose Silky-bent', 'Loose Silky-bent', 'Cleavers', 'Scentless Mayweed', 'Common Chickweed', 'Small-flowered Cranesbill', 'Scentless Mayweed', 'Scentless Mayweed', 'Maize', 'Sugar beet', 'Loose Silky-bent', 'Common wheat', 'Charlock', 'Loose Silky-bent', 'Common Chickweed', 'Common Chickweed', 'Common wheat', 'Scentless Mayweed', 'Black-grass', 'Scentless Mayweed', 'Scentless Mayweed', 'Small-flowered Cranesbill', 'Common Chickweed', 'Fat Hen', 'Small-flowered Cranesbill', 'Sugar beet', 'Common Chickweed', 'Scentless Mayweed', 'Scentless Mayweed', 'Common Chickweed', 'Charlock', 'Small-flowered Cranesbill', 'Loose Silky-bent', 'Fat Hen', 'Loose Silky-bent', 'Shepherds Purse', 'Charlock', 'Charlock', 'Common Chickweed', 'Loose Silky-bent', 'Cleavers', 'Common wheat', 'Maize', 'Small-flowered Cranesbill', 'Fat Hen', 'Cleavers', 'Loose Silky-bent', 'Fat Hen', 'Small-flowered Cranesbill', 'Black-grass', 'Sugar beet', 'Loose Silky-bent', 'Sugar beet', 'Scentless Mayweed', 'Small-flowered Cranesbill', 'Common Chickweed', 'Loose Silky-bent', 'Sugar beet', 'Common Chickweed', 'Loose Silky-bent', 'Loose Silky-bent', 'Loose Silky-bent', 'Charlock', 'Sugar beet', 'Fat Hen', 'Sugar beet', 'Charlock', 'Sugar beet', 'Fat Hen', 'Loose Silky-bent', 'Scentless Mayweed', 'Sugar beet', 'Common Chickweed', 'Cleavers', 'Loose Silky-bent', 'Scentless Mayweed', 'Scentless Mayweed', 'Cleavers', 'Scentless Mayweed', 'Common wheat', 'Sugar beet', 'Loose Silky-bent', 'Shepherds Purse', 'Maize', 'Small-flowered Cranesbill', 'Fat Hen', 'Small-flowered Cranesbill', 'Maize', 'Small-flowered Cranesbill', 'Loose Silky-bent', 'Scentless Mayweed', 'Loose Silky-bent', 'Sugar beet', 'Shepherds Purse', 'Charlock', 'Common Chickweed', 'Loose Silky-bent', 'Shepherds Purse', 'Loose Silky-bent', 'Common wheat', 'Loose Silky-bent', 'Charlock', 'Cleavers', 'Small-flowered Cranesbill', 'Loose Silky-bent', 'Small-flowered Cranesbill', 'Loose Silky-bent', 'Shepherds Purse', 'Maize', 'Common Chickweed', 'Common Chickweed', 'Common wheat', 'Black-grass', 'Charlock', 'Common wheat', 'Small-flowered Cranesbill', 'Common Chickweed', 'Small-flowered Cranesbill', 'Black-grass', 'Shepherds Purse', 'Small-flowered Cranesbill', 'Fat Hen', 'Small-flowered Cranesbill', 'Sugar beet', 'Sugar beet', 'Common Chickweed', 'Common Chickweed', 'Loose Silky-bent', 'Common Chickweed', 'Black-grass', 'Small-flowered Cranesbill', 'Charlock', 'Charlock', 'Small-flowered Cranesbill', 'Loose Silky-bent', 'Black-grass', 'Charlock', 'Scentless Mayweed', 'Loose Silky-bent', 'Common Chickweed', 'Common Chickweed', 'Cleavers', 'Common Chickweed', 'Fat Hen', 'Small-flowered Cranesbill', 'Fat Hen', 'Small-flowered Cranesbill', 'Common wheat', 'Common Chickweed', 'Shepherds Purse', 'Shepherds Purse', 'Maize', 'Shepherds Purse', 'Fat Hen', 'Scentless Mayweed', 'Common Chickweed', 'Sugar beet', 'Maize', 'Shepherds Purse', 'Sugar beet', 'Charlock', 'Maize', 'Common Chickweed', 'Scentless Mayweed', 'Sugar beet', 'Cleavers', 'Scentless Mayweed', 'Cleavers', 'Scentless Mayweed', 'Shepherds Purse', 'Common Chickweed', 'Loose Silky-bent', 'Small-flowered Cranesbill', 'Loose Silky-bent', 'Common Chickweed', 'Loose Silky-bent', 'Common Chickweed', 'Sugar beet', 'Common Chickweed', 'Cleavers', 'Loose Silky-bent', 'Loose Silky-bent', 'Common wheat', 'Common Chickweed', 'Charlock', 'Scentless Mayweed', 'Small-flowered Cranesbill', 'Small-flowered Cranesbill', 'Sugar beet', 'Maize', 'Maize', 'Scentless Mayweed', 'Loose Silky-bent', 'Small-flowered Cranesbill', 'Loose Silky-bent', 'Loose Silky-bent', 'Sugar beet', 'Common wheat', 'Maize', 'Small-flowered Cranesbill', 'Fat Hen', 'Small-flowered Cranesbill', 'Fat Hen', 'Loose Silky-bent', 'Common Chickweed', 'Loose Silky-bent', 'Shepherds Purse', 'Small-flowered Cranesbill', 'Fat Hen', 'Sugar beet', 'Scentless Mayweed', 'Loose Silky-bent', 'Common Chickweed', 'Maize', 'Fat Hen', 'Fat Hen', 'Cleavers', 'Shepherds Purse', 'Loose Silky-bent', 'Small-flowered Cranesbill', 'Loose Silky-bent', 'Loose Silky-bent', 'Common Chickweed', 'Maize', 'Fat Hen', 'Scentless Mayweed', 'Small-flowered Cranesbill', 'Cleavers', 'Loose Silky-bent', 'Common Chickweed', 'Maize', 'Loose Silky-bent', 'Common Chickweed', 'Loose Silky-bent', 'Sugar beet', 'Common Chickweed', 'Cleavers', 'Cleavers', 'Maize', 'Common wheat', 'Common Chickweed', 'Fat Hen', 'Common Chickweed', 'Sugar beet', 'Sugar beet', 'Fat Hen', 'Cleavers', 'Cleavers', 'Charlock', 'Charlock', 'Loose Silky-bent', 'Scentless Mayweed', 'Charlock', 'Small-flowered Cranesbill', 'Fat Hen', 'Fat Hen', 'Fat Hen', 'Common wheat', 'Charlock', 'Common Chickweed', 'Sugar beet', 'Shepherds Purse', 'Small-flowered Cranesbill', 'Loose Silky-bent', 'Common Chickweed', 'Loose Silky-bent', 'Sugar beet', 'Charlock', 'Sugar beet', 'Sugar beet', 'Cleavers', 'Loose Silky-bent', 'Common Chickweed', 'Loose Silky-bent', 'Common Chickweed', 'Sugar beet', 'Fat Hen', 'Common wheat', 'Common Chickweed', 'Sugar beet', 'Common Chickweed', 'Loose Silky-bent', 'Small-flowered Cranesbill', 'Common Chickweed', 'Fat Hen', 'Scentless Mayweed', 'Scentless Mayweed', 'Maize', 'Sugar beet', 'Cleavers', 'Loose Silky-bent', 'Scentless Mayweed', 'Loose Silky-bent', 'Common Chickweed', 'Scentless Mayweed', 'Loose Silky-bent', 'Loose Silky-bent', 'Scentless Mayweed', 'Scentless Mayweed', 'Small-flowered Cranesbill', 'Shepherds Purse', 'Scentless Mayweed', 'Charlock', 'Common Chickweed', 'Charlock', 'Common Chickweed', 'Maize', 'Charlock', 'Common Chickweed', 'Scentless Mayweed', 'Scentless Mayweed', 'Sugar beet', 'Common Chickweed', 'Loose Silky-bent', 'Sugar beet', 'Charlock', 'Shepherds Purse', 'Black-grass', 'Small-flowered Cranesbill', 'Maize', 'Fat Hen', 'Common wheat', 'Black-grass', 'Sugar beet', 'Black-grass', 'Loose Silky-bent', 'Loose Silky-bent', 'Scentless Mayweed', 'Fat Hen', 'Common wheat', 'Small-flowered Cranesbill', 'Fat Hen', 'Sugar beet', 'Small-flowered Cranesbill', 'Loose Silky-bent', 'Sugar beet', 'Small-flowered Cranesbill', 'Small-flowered Cranesbill', 'Sugar beet', 'Common Chickweed', 'Loose Silky-bent', 'Common Chickweed', 'Common wheat', 'Charlock', 'Maize', 'Fat Hen', 'Fat Hen', 'Sugar beet', 'Loose Silky-bent', 'Shepherds Purse', 'Charlock', 'Charlock', 'Loose Silky-bent', 'Common Chickweed', 'Maize', 'Maize', 'Common Chickweed', 'Scentless Mayweed', 'Common Chickweed', 'Black-grass', 'Common Chickweed', 'Common wheat', 'Cleavers', 'Small-flowered Cranesbill', 'Sugar beet', 'Small-flowered Cranesbill', 'Charlock', 'Black-grass', 'Small-flowered Cranesbill', 'Loose Silky-bent', 'Cleavers', 'Maize', 'Sugar beet', 'Cleavers', 'Small-flowered Cranesbill', 'Common Chickweed', 'Maize', 'Fat Hen', 'Small-flowered Cranesbill', 'Charlock', 'Cleavers', 'Common Chickweed', 'Shepherds Purse', 'Fat Hen', 'Scentless Mayweed', 'Scentless Mayweed', 'Cleavers', 'Small-flowered Cranesbill', 'Common Chickweed', 'Charlock', 'Shepherds Purse', 'Loose Silky-bent', 'Common wheat', 'Small-flowered Cranesbill', 'Charlock', 'Scentless Mayweed', 'Fat Hen', 'Cleavers', 'Common Chickweed', 'Cleavers', 'Loose Silky-bent', 'Cleavers', 'Small-flowered Cranesbill', 'Fat Hen', 'Common Chickweed', 'Black-grass', 'Loose Silky-bent', 'Cleavers', 'Common Chickweed', 'Shepherds Purse', 'Loose Silky-bent', 'Common Chickweed', 'Common Chickweed', 'Cleavers', 'Maize', 'Fat Hen', 'Shepherds Purse', 'Loose Silky-bent', 'Fat Hen', 'Common Chickweed', 'Maize', 'Loose Silky-bent', 'Sugar beet', 'Loose Silky-bent', 'Loose Silky-bent', 'Loose Silky-bent', 'Charlock']\n"
          ]
        }
      ]
    },
    {
      "cell_type": "code",
      "source": [
        "# Adding the predicted classes to the dataframe\n",
        "test_df['predictions'] = predicted_classes\n",
        "test_df.head()"
      ],
      "metadata": {
        "colab": {
          "base_uri": "https://localhost:8080/",
          "height": 206
        },
        "id": "kxAk8ntTMZdA",
        "outputId": "0c346606-32d1-41c5-85c8-c3cc71a0953e"
      },
      "execution_count": 112,
      "outputs": [
        {
          "output_type": "execute_result",
          "data": {
            "text/plain": [
              "        filename                predictions\n",
              "0  e98e5d1d5.png               Common wheat\n",
              "1  fea1d13d6.png  Small-flowered Cranesbill\n",
              "2  fda0b5c38.png               Common wheat\n",
              "3  fdea6b119.png                Black-grass\n",
              "4  fe29629fb.png           Loose Silky-bent"
            ],
            "text/html": [
              "\n",
              "\n",
              "  <div id=\"df-fc8cba1c-cc93-450d-a111-27d43629f576\">\n",
              "    <div class=\"colab-df-container\">\n",
              "      <div>\n",
              "<style scoped>\n",
              "    .dataframe tbody tr th:only-of-type {\n",
              "        vertical-align: middle;\n",
              "    }\n",
              "\n",
              "    .dataframe tbody tr th {\n",
              "        vertical-align: top;\n",
              "    }\n",
              "\n",
              "    .dataframe thead th {\n",
              "        text-align: right;\n",
              "    }\n",
              "</style>\n",
              "<table border=\"1\" class=\"dataframe\">\n",
              "  <thead>\n",
              "    <tr style=\"text-align: right;\">\n",
              "      <th></th>\n",
              "      <th>filename</th>\n",
              "      <th>predictions</th>\n",
              "    </tr>\n",
              "  </thead>\n",
              "  <tbody>\n",
              "    <tr>\n",
              "      <th>0</th>\n",
              "      <td>e98e5d1d5.png</td>\n",
              "      <td>Common wheat</td>\n",
              "    </tr>\n",
              "    <tr>\n",
              "      <th>1</th>\n",
              "      <td>fea1d13d6.png</td>\n",
              "      <td>Small-flowered Cranesbill</td>\n",
              "    </tr>\n",
              "    <tr>\n",
              "      <th>2</th>\n",
              "      <td>fda0b5c38.png</td>\n",
              "      <td>Common wheat</td>\n",
              "    </tr>\n",
              "    <tr>\n",
              "      <th>3</th>\n",
              "      <td>fdea6b119.png</td>\n",
              "      <td>Black-grass</td>\n",
              "    </tr>\n",
              "    <tr>\n",
              "      <th>4</th>\n",
              "      <td>fe29629fb.png</td>\n",
              "      <td>Loose Silky-bent</td>\n",
              "    </tr>\n",
              "  </tbody>\n",
              "</table>\n",
              "</div>\n",
              "      <button class=\"colab-df-convert\" onclick=\"convertToInteractive('df-fc8cba1c-cc93-450d-a111-27d43629f576')\"\n",
              "              title=\"Convert this dataframe to an interactive table.\"\n",
              "              style=\"display:none;\">\n",
              "\n",
              "  <svg xmlns=\"http://www.w3.org/2000/svg\" height=\"24px\"viewBox=\"0 0 24 24\"\n",
              "       width=\"24px\">\n",
              "    <path d=\"M0 0h24v24H0V0z\" fill=\"none\"/>\n",
              "    <path d=\"M18.56 5.44l.94 2.06.94-2.06 2.06-.94-2.06-.94-.94-2.06-.94 2.06-2.06.94zm-11 1L8.5 8.5l.94-2.06 2.06-.94-2.06-.94L8.5 2.5l-.94 2.06-2.06.94zm10 10l.94 2.06.94-2.06 2.06-.94-2.06-.94-.94-2.06-.94 2.06-2.06.94z\"/><path d=\"M17.41 7.96l-1.37-1.37c-.4-.4-.92-.59-1.43-.59-.52 0-1.04.2-1.43.59L10.3 9.45l-7.72 7.72c-.78.78-.78 2.05 0 2.83L4 21.41c.39.39.9.59 1.41.59.51 0 1.02-.2 1.41-.59l7.78-7.78 2.81-2.81c.8-.78.8-2.07 0-2.86zM5.41 20L4 18.59l7.72-7.72 1.47 1.35L5.41 20z\"/>\n",
              "  </svg>\n",
              "      </button>\n",
              "\n",
              "\n",
              "\n",
              "    <div id=\"df-c1f04e6a-88f8-453e-ba26-2c38e2c19fcc\">\n",
              "      <button class=\"colab-df-quickchart\" onclick=\"quickchart('df-c1f04e6a-88f8-453e-ba26-2c38e2c19fcc')\"\n",
              "              title=\"Suggest charts.\"\n",
              "              style=\"display:none;\">\n",
              "\n",
              "<svg xmlns=\"http://www.w3.org/2000/svg\" height=\"24px\"viewBox=\"0 0 24 24\"\n",
              "     width=\"24px\">\n",
              "    <g>\n",
              "        <path d=\"M19 3H5c-1.1 0-2 .9-2 2v14c0 1.1.9 2 2 2h14c1.1 0 2-.9 2-2V5c0-1.1-.9-2-2-2zM9 17H7v-7h2v7zm4 0h-2V7h2v10zm4 0h-2v-4h2v4z\"/>\n",
              "    </g>\n",
              "</svg>\n",
              "      </button>\n",
              "    </div>\n",
              "\n",
              "<style>\n",
              "  .colab-df-quickchart {\n",
              "    background-color: #E8F0FE;\n",
              "    border: none;\n",
              "    border-radius: 50%;\n",
              "    cursor: pointer;\n",
              "    display: none;\n",
              "    fill: #1967D2;\n",
              "    height: 32px;\n",
              "    padding: 0 0 0 0;\n",
              "    width: 32px;\n",
              "  }\n",
              "\n",
              "  .colab-df-quickchart:hover {\n",
              "    background-color: #E2EBFA;\n",
              "    box-shadow: 0px 1px 2px rgba(60, 64, 67, 0.3), 0px 1px 3px 1px rgba(60, 64, 67, 0.15);\n",
              "    fill: #174EA6;\n",
              "  }\n",
              "\n",
              "  [theme=dark] .colab-df-quickchart {\n",
              "    background-color: #3B4455;\n",
              "    fill: #D2E3FC;\n",
              "  }\n",
              "\n",
              "  [theme=dark] .colab-df-quickchart:hover {\n",
              "    background-color: #434B5C;\n",
              "    box-shadow: 0px 1px 3px 1px rgba(0, 0, 0, 0.15);\n",
              "    filter: drop-shadow(0px 1px 2px rgba(0, 0, 0, 0.3));\n",
              "    fill: #FFFFFF;\n",
              "  }\n",
              "</style>\n",
              "\n",
              "    <script>\n",
              "      async function quickchart(key) {\n",
              "        const containerElement = document.querySelector('#' + key);\n",
              "        const charts = await google.colab.kernel.invokeFunction(\n",
              "            'suggestCharts', [key], {});\n",
              "      }\n",
              "    </script>\n",
              "\n",
              "      <script>\n",
              "\n",
              "function displayQuickchartButton(domScope) {\n",
              "  let quickchartButtonEl =\n",
              "    domScope.querySelector('#df-c1f04e6a-88f8-453e-ba26-2c38e2c19fcc button.colab-df-quickchart');\n",
              "  quickchartButtonEl.style.display =\n",
              "    google.colab.kernel.accessAllowed ? 'block' : 'none';\n",
              "}\n",
              "\n",
              "        displayQuickchartButton(document);\n",
              "      </script>\n",
              "      <style>\n",
              "    .colab-df-container {\n",
              "      display:flex;\n",
              "      flex-wrap:wrap;\n",
              "      gap: 12px;\n",
              "    }\n",
              "\n",
              "    .colab-df-convert {\n",
              "      background-color: #E8F0FE;\n",
              "      border: none;\n",
              "      border-radius: 50%;\n",
              "      cursor: pointer;\n",
              "      display: none;\n",
              "      fill: #1967D2;\n",
              "      height: 32px;\n",
              "      padding: 0 0 0 0;\n",
              "      width: 32px;\n",
              "    }\n",
              "\n",
              "    .colab-df-convert:hover {\n",
              "      background-color: #E2EBFA;\n",
              "      box-shadow: 0px 1px 2px rgba(60, 64, 67, 0.3), 0px 1px 3px 1px rgba(60, 64, 67, 0.15);\n",
              "      fill: #174EA6;\n",
              "    }\n",
              "\n",
              "    [theme=dark] .colab-df-convert {\n",
              "      background-color: #3B4455;\n",
              "      fill: #D2E3FC;\n",
              "    }\n",
              "\n",
              "    [theme=dark] .colab-df-convert:hover {\n",
              "      background-color: #434B5C;\n",
              "      box-shadow: 0px 1px 3px 1px rgba(0, 0, 0, 0.15);\n",
              "      filter: drop-shadow(0px 1px 2px rgba(0, 0, 0, 0.3));\n",
              "      fill: #FFFFFF;\n",
              "    }\n",
              "  </style>\n",
              "\n",
              "      <script>\n",
              "        const buttonEl =\n",
              "          document.querySelector('#df-fc8cba1c-cc93-450d-a111-27d43629f576 button.colab-df-convert');\n",
              "        buttonEl.style.display =\n",
              "          google.colab.kernel.accessAllowed ? 'block' : 'none';\n",
              "\n",
              "        async function convertToInteractive(key) {\n",
              "          const element = document.querySelector('#df-fc8cba1c-cc93-450d-a111-27d43629f576');\n",
              "          const dataTable =\n",
              "            await google.colab.kernel.invokeFunction('convertToInteractive',\n",
              "                                                     [key], {});\n",
              "          if (!dataTable) return;\n",
              "\n",
              "          const docLinkHtml = 'Like what you see? Visit the ' +\n",
              "            '<a target=\"_blank\" href=https://colab.research.google.com/notebooks/data_table.ipynb>data table notebook</a>'\n",
              "            + ' to learn more about interactive tables.';\n",
              "          element.innerHTML = '';\n",
              "          dataTable['output_type'] = 'display_data';\n",
              "          await google.colab.output.renderOutput(dataTable, element);\n",
              "          const docLink = document.createElement('div');\n",
              "          docLink.innerHTML = docLinkHtml;\n",
              "          element.appendChild(docLink);\n",
              "        }\n",
              "      </script>\n",
              "    </div>\n",
              "  </div>\n"
            ]
          },
          "metadata": {},
          "execution_count": 112
        }
      ]
    },
    {
      "cell_type": "code",
      "source": [
        "# Creating the predicted subfolders for each type\n",
        "predicted_dir = '/content/drive/MyDrive/images/predictions'\n",
        "os.makedirs(predicted_dir, exist_ok=True)\n",
        "for class_label in class_labels:\n",
        "    class_dir = os.path.join(predicted_dir, class_label)\n",
        "    os.makedirs(class_dir, exist_ok=True)"
      ],
      "metadata": {
        "id": "m-Iek84E-NT3"
      },
      "execution_count": 113,
      "outputs": []
    },
    {
      "cell_type": "code",
      "source": [
        "# Copying the images to their predicted folders\n",
        "for filename, predicted_class in zip(test_filenames, predicted_classes):\n",
        "    source_path = os.path.join(test_data_dir, filename)\n",
        "    destination_path = os.path.join(predicted_dir, predicted_class, filename)\n",
        "    shutil.copy(source_path, destination_path)\n",
        "\n",
        "print(\"Images have been copyed to their respective predicted folders.\")"
      ],
      "metadata": {
        "colab": {
          "base_uri": "https://localhost:8080/"
        },
        "id": "A7ERh6BW-SNE",
        "outputId": "ba381c6f-f379-4ab3-e2d5-f1ae67e66ecf"
      },
      "execution_count": 114,
      "outputs": [
        {
          "output_type": "stream",
          "name": "stdout",
          "text": [
            "Images have been copyed to their respective predicted folders.\n"
          ]
        }
      ]
    }
  ]
}