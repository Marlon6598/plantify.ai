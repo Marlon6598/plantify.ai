{
  "nbformat": 4,
  "nbformat_minor": 0,
  "metadata": {
    "colab": {
      "provenance": [],
      "gpuType": "T4"
    },
    "kernelspec": {
      "name": "python3",
      "display_name": "Python 3"
    },
    "language_info": {
      "name": "python"
    },
    "accelerator": "GPU"
  },
  "cells": [
    {
      "cell_type": "code",
      "execution_count": 1,
      "metadata": {
        "id": "rKt4BowsWq_g",
        "colab": {
          "base_uri": "https://localhost:8080/"
        },
        "outputId": "ef8f355e-3ebd-4617-d13e-a283c933640d"
      },
      "outputs": [
        {
          "output_type": "stream",
          "name": "stdout",
          "text": [
            "Mounted at /content/drive\n"
          ]
        }
      ],
      "source": [
        "# Importing required items\n",
        "import tensorflow as tf\n",
        "from tensorflow.keras.preprocessing.image import ImageDataGenerator\n",
        "from tensorflow.keras.optimizers import Adam\n",
        "import os\n",
        "import pandas as pd\n",
        "import shutil\n",
        "from google.colab import auth\n",
        "auth.authenticate_user()\n",
        "from google.colab import drive\n",
        "drive.mount('/content/drive', force_remount=True)\n"
      ]
    },
    {
      "cell_type": "code",
      "source": [
        "# Confirm the connection to the GPU with tensorflow\n",
        "device_name = tf.test.gpu_device_name()\n",
        "if device_name != '/device:GPU:0':\n",
        "  raise SystemError('GPU device not found')\n",
        "print('Found GPU at: {}'.format(device_name))"
      ],
      "metadata": {
        "colab": {
          "base_uri": "https://localhost:8080/"
        },
        "id": "rBmEMikgjO4H",
        "outputId": "fef6f48b-813d-44d7-989e-d9bb074dfc56"
      },
      "execution_count": 2,
      "outputs": [
        {
          "output_type": "stream",
          "name": "stdout",
          "text": [
            "Found GPU at: /device:GPU:0\n"
          ]
        }
      ]
    },
    {
      "cell_type": "code",
      "source": [
        "gpu_info = !nvidia-smi\n",
        "gpu_info = '\\n'.join(gpu_info)\n",
        "if gpu_info.find('failed') >= 0:\n",
        "  print('Not connected to a GPU')\n",
        "else:\n",
        "  print(gpu_info)"
      ],
      "metadata": {
        "colab": {
          "base_uri": "https://localhost:8080/"
        },
        "id": "ofFU7fmQszfQ",
        "outputId": "9f110c48-2f51-4b15-d764-60c96b97eed7"
      },
      "execution_count": 3,
      "outputs": [
        {
          "output_type": "stream",
          "name": "stdout",
          "text": [
            "Wed Jul 12 00:00:46 2023       \n",
            "+-----------------------------------------------------------------------------+\n",
            "| NVIDIA-SMI 525.85.12    Driver Version: 525.85.12    CUDA Version: 12.0     |\n",
            "|-------------------------------+----------------------+----------------------+\n",
            "| GPU  Name        Persistence-M| Bus-Id        Disp.A | Volatile Uncorr. ECC |\n",
            "| Fan  Temp  Perf  Pwr:Usage/Cap|         Memory-Usage | GPU-Util  Compute M. |\n",
            "|                               |                      |               MIG M. |\n",
            "|===============================+======================+======================|\n",
            "|   0  Tesla T4            Off  | 00000000:00:04.0 Off |                    0 |\n",
            "| N/A   38C    P0    27W /  70W |    387MiB / 15360MiB |      1%      Default |\n",
            "|                               |                      |                  N/A |\n",
            "+-------------------------------+----------------------+----------------------+\n",
            "                                                                               \n",
            "+-----------------------------------------------------------------------------+\n",
            "| Processes:                                                                  |\n",
            "|  GPU   GI   CI        PID   Type   Process name                  GPU Memory |\n",
            "|        ID   ID                                                   Usage      |\n",
            "|=============================================================================|\n",
            "+-----------------------------------------------------------------------------+\n"
          ]
        }
      ]
    },
    {
      "cell_type": "code",
      "source": [
        "# Determine the available RAM\n",
        "from psutil import virtual_memory\n",
        "ram_gb = virtual_memory().total / 1e9\n",
        "print('Your runtime has {:.1f} gigabytes of available RAM\\n'.format(ram_gb))\n",
        "\n",
        "if ram_gb < 20:\n",
        "  print('Not using a high-RAM runtime')\n",
        "else:\n",
        "  print('You are using a high-RAM runtime!')"
      ],
      "metadata": {
        "colab": {
          "base_uri": "https://localhost:8080/"
        },
        "id": "Gs3s_dujs1e8",
        "outputId": "c48508ee-e40a-4f72-f5f2-51c49e6d99b4"
      },
      "execution_count": 4,
      "outputs": [
        {
          "output_type": "stream",
          "name": "stdout",
          "text": [
            "Your runtime has 13.6 gigabytes of available RAM\n",
            "\n",
            "Not using a high-RAM runtime\n"
          ]
        }
      ]
    },
    {
      "cell_type": "code",
      "source": [
        "# Defining the training and testing directories\n",
        "training_data_dir = '/content/drive/MyDrive/images/train'\n",
        "test_data_dir = '/content/drive/MyDrive/images/test'\n",
        "\n"
      ],
      "metadata": {
        "id": "Ri1ghLWujE1f"
      },
      "execution_count": 5,
      "outputs": []
    },
    {
      "cell_type": "code",
      "source": [
        "# Defining hyperparameters\n",
        "img_width, img_height = 150, 150\n",
        "batch_size = 15\n",
        "epochs = 30\n",
        "num_classes = 12  # Number of different types in dataset"
      ],
      "metadata": {
        "id": "t9VUlHv7jhdu"
      },
      "execution_count": 6,
      "outputs": []
    },
    {
      "cell_type": "code",
      "source": [
        "# Defining data preprocessing and augmentation\n",
        "train_datagen = ImageDataGenerator(\n",
        "    rescale=1/255,\n",
        "    shear_range=0.2,\n",
        "    zoom_range=0.2,\n",
        "    horizontal_flip=True\n",
        ")"
      ],
      "metadata": {
        "id": "y4TzFJD2jnLH"
      },
      "execution_count": 7,
      "outputs": []
    },
    {
      "cell_type": "code",
      "source": [
        "test_datagen = ImageDataGenerator(rescale=1/255)"
      ],
      "metadata": {
        "id": "-AoTznBfjrOM"
      },
      "execution_count": 8,
      "outputs": []
    },
    {
      "cell_type": "code",
      "source": [
        "# Defining training generator\n",
        "train_generator = train_datagen.flow_from_directory(\n",
        "    training_data_dir,\n",
        "    target_size=(img_width, img_height),\n",
        "    batch_size=batch_size,\n",
        "    class_mode='categorical'\n",
        ")"
      ],
      "metadata": {
        "colab": {
          "base_uri": "https://localhost:8080/"
        },
        "id": "wPrvt2Ogjsus",
        "outputId": "cabc6269-44f5-4b1d-bb72-298d82271c3e"
      },
      "execution_count": 9,
      "outputs": [
        {
          "output_type": "stream",
          "name": "stdout",
          "text": [
            "Found 4750 images belonging to 12 classes.\n"
          ]
        }
      ]
    },
    {
      "cell_type": "code",
      "source": [
        "# Defining the model architecture\n",
        "model = tf.keras.models.Sequential([\n",
        "    tf.keras.layers.Conv2D(64, (3, 3), activation='relu', input_shape=(img_width, img_height, 3)),\n",
        "    tf.keras.layers.MaxPooling2D(pool_size=(2, 2)),\n",
        "    tf.keras.layers.Conv2D(128, (3, 3), activation='relu'),\n",
        "    tf.keras.layers.MaxPooling2D(pool_size=(2, 2)),\n",
        "    tf.keras.layers.Conv2D(256, (3, 3), activation='relu'),\n",
        "    tf.keras.layers.MaxPooling2D(pool_size=(2, 2)),\n",
        "    tf.keras.layers.Flatten(),\n",
        "    tf.keras.layers.Dense(256, activation='relu'),\n",
        "    tf.keras.layers.Dropout(0.5),\n",
        "    tf.keras.layers.Dense(num_classes, activation='softmax')\n",
        "])"
      ],
      "metadata": {
        "id": "YMI1-AyPkPjU"
      },
      "execution_count": 10,
      "outputs": []
    },
    {
      "cell_type": "code",
      "source": [
        "# Adjusting learning rate and change optimization algorithm\n",
        "learning_rate = 0.001\n",
        "optimizer = Adam(learning_rate=learning_rate)"
      ],
      "metadata": {
        "id": "umojrkl3DyMv"
      },
      "execution_count": 11,
      "outputs": []
    },
    {
      "cell_type": "code",
      "source": [
        "# Compiling the model\n",
        "model.compile(\n",
        "    loss='categorical_crossentropy',\n",
        "    optimizer=optimizer,\n",
        "    metrics=['accuracy']\n",
        ")"
      ],
      "metadata": {
        "id": "tEr7xJyGkSbC"
      },
      "execution_count": 12,
      "outputs": []
    },
    {
      "cell_type": "code",
      "source": [
        "# Optimizing and improving memory usage\n",
        "tf.config.optimizer.set_jit(True)"
      ],
      "metadata": {
        "id": "dOdFIrCl1QP_"
      },
      "execution_count": 13,
      "outputs": []
    },
    {
      "cell_type": "code",
      "source": [
        "# Training the model\n",
        "model.fit(\n",
        "    train_generator,\n",
        "    steps_per_epoch=train_generator.samples // batch_size,\n",
        "    epochs=epochs,\n",
        ")"
      ],
      "metadata": {
        "colab": {
          "base_uri": "https://localhost:8080/"
        },
        "id": "kNaa8ILNkVVg",
        "outputId": "12f64e4e-e32e-4a38-fb0a-df3a9ed3c5c8"
      },
      "execution_count": 14,
      "outputs": [
        {
          "output_type": "stream",
          "name": "stdout",
          "text": [
            "Epoch 1/30\n",
            "316/316 [==============================] - 1258s 4s/step - loss: 2.1949 - accuracy: 0.2522\n",
            "Epoch 2/30\n",
            "316/316 [==============================] - 88s 277ms/step - loss: 1.5637 - accuracy: 0.4629\n",
            "Epoch 3/30\n",
            "316/316 [==============================] - 85s 269ms/step - loss: 1.2690 - accuracy: 0.5668\n",
            "Epoch 4/30\n",
            "316/316 [==============================] - 85s 268ms/step - loss: 1.1332 - accuracy: 0.6215\n",
            "Epoch 5/30\n",
            "316/316 [==============================] - 83s 264ms/step - loss: 1.0198 - accuracy: 0.6558\n",
            "Epoch 6/30\n",
            "316/316 [==============================] - 85s 269ms/step - loss: 0.9593 - accuracy: 0.6735\n",
            "Epoch 7/30\n",
            "316/316 [==============================] - 83s 264ms/step - loss: 0.9132 - accuracy: 0.6914\n",
            "Epoch 8/30\n",
            "316/316 [==============================] - 84s 266ms/step - loss: 0.8332 - accuracy: 0.7193\n",
            "Epoch 9/30\n",
            "316/316 [==============================] - 85s 269ms/step - loss: 0.7828 - accuracy: 0.7392\n",
            "Epoch 10/30\n",
            "316/316 [==============================] - 84s 265ms/step - loss: 0.7452 - accuracy: 0.7464\n",
            "Epoch 11/30\n",
            "316/316 [==============================] - 85s 267ms/step - loss: 0.6996 - accuracy: 0.7554\n",
            "Epoch 12/30\n",
            "316/316 [==============================] - 84s 266ms/step - loss: 0.6548 - accuracy: 0.7713\n",
            "Epoch 13/30\n",
            "316/316 [==============================] - 83s 264ms/step - loss: 0.6170 - accuracy: 0.7863\n",
            "Epoch 14/30\n",
            "316/316 [==============================] - 84s 265ms/step - loss: 0.5770 - accuracy: 0.7970\n",
            "Epoch 15/30\n",
            "316/316 [==============================] - 85s 269ms/step - loss: 0.5762 - accuracy: 0.8030\n",
            "Epoch 16/30\n",
            "316/316 [==============================] - 85s 268ms/step - loss: 0.5357 - accuracy: 0.8129\n",
            "Epoch 17/30\n",
            "316/316 [==============================] - 85s 269ms/step - loss: 0.5349 - accuracy: 0.8158\n",
            "Epoch 18/30\n",
            "316/316 [==============================] - 84s 265ms/step - loss: 0.4969 - accuracy: 0.8270\n",
            "Epoch 19/30\n",
            "316/316 [==============================] - 85s 268ms/step - loss: 0.4900 - accuracy: 0.8260\n",
            "Epoch 20/30\n",
            "316/316 [==============================] - 84s 265ms/step - loss: 0.4532 - accuracy: 0.8427\n",
            "Epoch 21/30\n",
            "316/316 [==============================] - 84s 266ms/step - loss: 0.4650 - accuracy: 0.8338\n",
            "Epoch 22/30\n",
            "316/316 [==============================] - 85s 269ms/step - loss: 0.4201 - accuracy: 0.8501\n",
            "Epoch 23/30\n",
            "316/316 [==============================] - 84s 268ms/step - loss: 0.4158 - accuracy: 0.8520\n",
            "Epoch 24/30\n",
            "316/316 [==============================] - 86s 273ms/step - loss: 0.4089 - accuracy: 0.8583\n",
            "Epoch 25/30\n",
            "316/316 [==============================] - 85s 268ms/step - loss: 0.3991 - accuracy: 0.8591\n",
            "Epoch 26/30\n",
            "316/316 [==============================] - 86s 273ms/step - loss: 0.3603 - accuracy: 0.8735\n",
            "Epoch 27/30\n",
            "316/316 [==============================] - 85s 269ms/step - loss: 0.4081 - accuracy: 0.8543\n",
            "Epoch 28/30\n",
            "316/316 [==============================] - 85s 270ms/step - loss: 0.3702 - accuracy: 0.8756\n",
            "Epoch 29/30\n",
            "316/316 [==============================] - 86s 271ms/step - loss: 0.3362 - accuracy: 0.8832\n",
            "Epoch 30/30\n",
            "316/316 [==============================] - 87s 274ms/step - loss: 0.3169 - accuracy: 0.8860\n"
          ]
        },
        {
          "output_type": "execute_result",
          "data": {
            "text/plain": [
              "<keras.callbacks.History at 0x7f0a72134490>"
            ]
          },
          "metadata": {},
          "execution_count": 14
        }
      ]
    },
    {
      "cell_type": "code",
      "source": [
        "# Saving the trained model\n",
        "model.save('project4_model.h5')"
      ],
      "metadata": {
        "id": "Yir-2nh6oehI"
      },
      "execution_count": 15,
      "outputs": []
    },
    {
      "cell_type": "code",
      "source": [
        "# Loading the trained model\n",
        "model = tf.keras.models.load_model('project4_model.h5')"
      ],
      "metadata": {
        "id": "V_ydu0nf-dbd"
      },
      "execution_count": 16,
      "outputs": []
    },
    {
      "cell_type": "code",
      "source": [
        "# Creating an ImageDataGenerator for the testing dataset\n",
        "test_datagen = ImageDataGenerator(rescale=1.0/255)"
      ],
      "metadata": {
        "id": "RL-94Hiz-hGM"
      },
      "execution_count": 17,
      "outputs": []
    },
    {
      "cell_type": "code",
      "source": [
        "# Loading the filenames of the images in the testing dataset\n",
        "test_filenames = os.listdir(test_data_dir)"
      ],
      "metadata": {
        "id": "UHnRz1e4-nlu"
      },
      "execution_count": 18,
      "outputs": []
    },
    {
      "cell_type": "code",
      "source": [
        "# Creating a dataframe with the filenames\n",
        "test_df = pd.DataFrame({'filename': test_filenames})\n",
        "print(test_filenames)\n",
        "print(len(test_filenames))"
      ],
      "metadata": {
        "id": "JBkrDWSd-qhe",
        "colab": {
          "base_uri": "https://localhost:8080/"
        },
        "outputId": "8d05d40b-a77d-4f5d-cc3c-1dcc767e3feb"
      },
      "execution_count": 19,
      "outputs": [
        {
          "output_type": "stream",
          "name": "stdout",
          "text": [
            "['0021e90e4.png', '003d61042.png', '007b3da8b.png', '0086a6340.png', '00c47e980.png', '00d090cde.png', '00ef713a8.png', '01291174f.png', '026716f9b.png', '02cfeb38d.png', '03566743d.png', '03a2ee656.png', '03e322a29.png', '03ef36742.png', '043449b0b.png', '0437393b1.png', '04814f36d.png', '05341a8a6.png', '060450d79.png', '060f1dc84.png', '0625f063b.png', '063363305.png', '06d12f6fa.png', '071cb3ece.png', '0751c0bbc.png', '07e62f903.png', '085974290.png', '0885e7690.png', '089ad62a7.png', '08d591441.png', '0911d3dee.png', '099b961ec.png', '0a64e3e6c.png', '0ad9e7dfb.png', '0ae6668fa.png', '0bf7bfb05.png', '0c27cf05f.png', '0c4199daa.png', '0c45ace27.png', '0c51bf229.png', '0c5f6c493.png', '0caeda5df.png', '0d117d910.png', '0d31e6602.png', '0dba99002.png', '0e8492cb1.png', '0ebf8f2f4.png', '0ee4ad224.png', '0f6cbe5e8.png', '0fb233ad6.png', '115f93ecc.png', '116b136de.png', '1191ba346.png', '11d3f68ff.png', '122913909.png', '12625488b.png', '126a71ce0.png', '1312065a5.png', '1364b297a.png', '1376f3b63.png', '13b9fa92d.png', '1459e96a0.png', '148bbda66.png', '14bb43eee.png', '1541bdb2e.png', '1623fb9e1.png', '16357b436.png', '16467a950.png', '165681fd9.png', '1694a70e4.png', '16fd2e01a.png', '172f9b10b.png', '17529c555.png', '1758a1baf.png', '177d7e2a4.png', '17a78fb44.png', '17d5e5ac4.png', '1821eb11a.png', '187668bde.png', '1926e82fd.png', '19618ad6a.png', '19b51843a.png', '19e58cc5e.png', '19fdf19fb.png', '1b490196c.png', '1b6a6494d.png', '1be0713da.png', '1bf9b94a6.png', '1c52ea820.png', '1c680883c.png', '1cfd91582.png', '1d0cbd819.png', '1d321253f.png', '1d48b7564.png', '1d56351b2.png', '1dc7c45df.png', '1e095a7e1.png', '1f290e016.png', '1f3f44563.png', '1f5e5554e.png', '1fefb54b7.png', '205df1df3.png', '20817c846.png', '20e562fd5.png', '20ea96bcc.png', '20f983a71.png', '2126dc71b.png', '219fd68d5.png', '223e4af09.png', '22e79540f.png', '22fbf13d6.png', '239bdf640.png', '23bc8ec4f.png', '23e480e64.png', '2406d6c99.png', '241e6935a.png', '248436078.png', '24a058589.png', '24c94a6ca.png', '24d36c52c.png', '24d78df74.png', '24dbc3b21.png', '258b1183c.png', '25a4c427e.png', '25cf6eb73.png', '25fa8d109.png', '26852751a.png', '2693e5c65.png', '26e7ae885.png', '270b939cf.png', '279df95f2.png', '288564c76.png', '29bab7cad.png', '29ce426a1.png', '29f49cd0b.png', '2a5064f19.png', '2a667e099.png', '2b55a2da2.png', '2bd74d2da.png', '2d5058a59.png', '2d992d1fb.png', '2d9c798f9.png', '2dd5cfba9.png', '2df78338c.png', '2e86f1085.png', '2ea664465.png', '2f0004a7f.png', '2f246d688.png', '2ff5cb348.png', '30ad31220.png', '3185294c8.png', '31f3dd81f.png', '31fcdc161.png', '3281183f9.png', '32a8c8a1d.png', '32b42c120.png', '32c86784b.png', '33317fc2a.png', '33448fe39.png', '33748968f.png', '338c7e907.png', '34dd57ca9.png', '3526b05cc.png', '35a90f8d0.png', '35cf9fa01.png', '35ebe165c.png', '36839d5e9.png', '36d62bf36.png', '36ed4f215.png', '37297a64c.png', '37714071b.png', '377283a21.png', '37c3108d6.png', '37e545a60.png', '3827436f3.png', '38c054379.png', '391dcd7fd.png', '39858776a.png', '39b740f7e.png', '39c8fde99.png', '39d569be4.png', '3a909ead8.png', '3abb502fb.png', '3b73c3b61.png', '3bbef3ecb.png', '3d38a87bc.png', '3d65168c2.png', '3d67c434b.png', '3da774107.png', '3dd52bd2a.png', '3e9f41817.png', '3ebbe9ca4.png', '3eda9cbb6.png', '3edf5e9ef.png', '3eebd36c6.png', '3efa1f66c.png', '3f64c2c1b.png', '3f826b318.png', '3f92d8039.png', '3fbd0fc6a.png', '3fbf1a417.png', '4049a6ea6.png', '406162ef9.png', '406ecb5c5.png', '410e6f702.png', '41e07778c.png', '41f1c3cdb.png', '4287d810c.png', '429211ee6.png', '42e7ed442.png', '4392d93cf.png', '43ede9de9.png', '444473900.png', '446f7da01.png', '44e8b8833.png', '456d507c0.png', '466bb6d3b.png', '46c14fde2.png', '47b7d8e17.png', '47f9e5d91.png', '48231e475.png', '4823c3ffa.png', '486e59179.png', '48d97c645.png', '48ef6a2ff.png', '490c4f9c8.png', '4a337a4a9.png', '4ac29bbf0.png', '4b032563b.png', '4b155fb07.png', '4bbf1f6ea.png', '4bbfd1e05.png', '4bcdaa5e2.png', '4c5ab9b68.png', '4c7838de4.png', '4c8005bbc.png', '4e1190d78.png', '4e18ab737.png', '4e69d100a.png', '4e9d3765f.png', '4ea7493d5.png', '4f44ca525.png', '4f83143e1.png', '502dff972.png', '506347cfe.png', '50de8a115.png', '521b27a17.png', '523e5505c.png', '5296835a0.png', '52a87abe5.png', '52dc7a4d6.png', '5315c2dca.png', '534e74d83.png', '539961189.png', '53ceb4657.png', '53e6e9000.png', '54b3afd58.png', '54c8bb900.png', '550a8b7e6.png', '55251925f.png', '558aa7deb.png', '55920f07f.png', '55a852f40.png', '55fed435f.png', '56112b92c.png', '56a01b835.png', '5779fe8b4.png', '5817b766d.png', '5883b423d.png', '589e643b8.png', '590f5aea6.png', '592473c83.png', '592cc5b89.png', '59358cd44.png', '593896f83.png', '599691cd9.png', '599c82eea.png', '59b2c6f2b.png', '59c6a9f95.png', '59e1cea8d.png', '59f62ad1d.png', '5a38ac566.png', '5a6bf96f6.png', '5af1d74ee.png', '5b3000b9a.png', '5b3beec58.png', '5b63dcc21.png', '5bbc0a255.png', '5bc6595f6.png', '5bd71f445.png', '5bdcfa329.png', '5c3cd7ea2.png', '5ca0205f9.png', '5ca2687a4.png', '5dcad9a53.png', '5e6a237f2.png', '5eb9c26a6.png', '5ee9d0a5b.png', '5f04aed97.png', '6049234e6.png', '604dd663f.png', '606647f64.png', '60ee66ddd.png', '60f0bc617.png', '60fea2ef6.png', '615d2b0a9.png', '618de3d7a.png', '61b044411.png', '61dd2cdc5.png', '632156793.png', '63c07d340.png', '647689543.png', '64fe8beb9.png', '653193c1a.png', '65489944f.png', '659412b1a.png', '65d08b894.png', '65e262a6d.png', '65e97117e.png', '664194d19.png', '6680836dd.png', '668c1007c.png', '66ab0e8d0.png', '675ec1b0b.png', '67ce3eaa6.png', '67e185673.png', '686dc7ec8.png', '6908fb540.png', '6982a9d30.png', '699d3c707.png', '69d1669f8.png', '6a41bf95b.png', '6a47821f9.png', '6b721f68e.png', '6b9d6f8c9.png', '6ba4ef411.png', '6bce55e05.png', '6be169e41.png', '6c874918c.png', '6d6eb3830.png', '6da892be6.png', '6db684fff.png', '6dd095129.png', '6df8e31ea.png', '6edb96d45.png', '6edc76e7c.png', '711b46fba.png', '71334c634.png', '71b232519.png', '71e73a8a0.png', '71f5323c5.png', '721b2c47a.png', '721be0a4a.png', '728eabae1.png', '73260a4ee.png', '74068643d.png', '74d810f87.png', '74fd477eb.png', '7506c0c02.png', '752101fdf.png', '754b1adf8.png', '756dd5070.png', '75cb95e91.png', '7615e52d3.png', '76555b064.png', '7691014a1.png', '7696badea.png', '76dbd1054.png', '770a265f5.png', '77ccb8b2a.png', '780bd2a2c.png', '780defa2e.png', '785a73ab8.png', '78750e0ff.png', '78b1bf91a.png', '78c5fba1d.png', '79d93bc96.png', '79dafec17.png', '79e5ea8fa.png', '79fba50db.png', '7a38416be.png', '7b21ba6ba.png', '7b52585da.png', '7beb2766f.png', '7c85b0265.png', '7cabd68cc.png', '7d22abf91.png', '7d3045fc3.png', '7d4cd07ad.png', '7e9cf1c46.png', '7f31c7f42.png', '7f46a71db.png', '7f9e9565d.png', '7fdb7202d.png', '800a8c17e.png', '808578ed5.png', '808cf55c6.png', '809eb0b82.png', '80e299ae9.png', '8104422bb.png', '8170d33c1.png', '824f5d4e5.png', '827279bad.png', '82b5f4d33.png', '8301b0547.png', '8303b27ed.png', '8311740de.png', '835dc5447.png', '837ac0270.png', '8455169fe.png', '851c90831.png', '85431c075.png', '855955aaf.png', '856f2910a.png', '8585f9718.png', '862b8e7a0.png', '86676d627.png', '866be78b0.png', '86c309150.png', '86f08e6d1.png', '87608f7aa.png', '87f627bf9.png', '8874bba69.png', '88ac6df54.png', '88d8a4508.png', '8916793ce.png', '892e9d6c6.png', '897e5a8de.png', '8a30b2de3.png', '8a32d0bfa.png', '8a4d3a1b1.png', '8a8d6c712.png', '8ab8a958b.png', '8b043093d.png', '8b27bfd2b.png', '8b9144917.png', '8bc0261c9.png', '8c98a6e9b.png', '8c9953903.png', '8ca6140ca.png', '8cf2e3e6c.png', '8cf909eb3.png', '8cfd98117.png', '8d6991365.png', '8d6acbe9b.png', '8db450ce3.png', '8dbb8e1b9.png', '8e29abce1.png', '8e2e5604e.png', '8e3ed0a25.png', '8e4eaeec0.png', '8e6ec1ca6.png', '8ece6efec.png', '8f523520c.png', '8faadb6a8.png', '90b595f12.png', '90d119d25.png', '91e469b4a.png', '92292055d.png', '93079d970.png', '9326bda1b.png', '93d76fd5d.png', '948cdb277.png', '9516e56c4.png', '953496deb.png', '958bb9e96.png', '963544aa0.png', '9643fc5f4.png', '966ae5ad9.png', '969a851be.png', '96ecad7a1.png', '96f14d90c.png', '974959ec1.png', '976e4e079.png', '97844bfd5.png', '97b2f0a10.png', '98062cd87.png', '98d819587.png', '98da6ef4e.png', '99036c51d.png', '99569b224.png', '995c7ab1e.png', '9a3f20121.png', '9aa5587fe.png', '9b4800b42.png', '9b9911f20.png', '9baf94467.png', '9c0c5b731.png', '9c32a797e.png', '9c777333d.png', '9c8b08a24.png', '9cce7328c.png', '9d3cb4745.png', '9d79a1f0c.png', '9df3275da.png', '9fab816f2.png', 'a006a475c.png', 'a060c1cf8.png', 'a0b393945.png', 'a0f37c726.png', 'a169b71e7.png', 'a19c3faca.png', 'a1da8be3c.png', 'a1e0a6c02.png', 'a254d71f6.png', 'a276c65f7.png', 'a2b703e21.png', 'a2c89c367.png', 'a2d25b4f3.png', 'a35fd6fbb.png', 'a38b8a581.png', 'a3b375b34.png', 'a3d0031fd.png', 'a4b61a4ea.png', 'a544fc46d.png', 'a55d26a4c.png', 'a5db42f7d.png', 'a74bf916d.png', 'a74d475c2.png', 'a7bd7cadb.png', 'a800caead.png', 'a83820a2c.png', 'a8388a37f.png', 'a85b48a95.png', 'a85fc8c9a.png', 'a890ac088.png', 'a8b431a3e.png', 'a8c8a1db0.png', 'a8da9c08d.png', 'a8de7c1b7.png', 'a935ca110.png', 'a93f940d6.png', 'a9d2eab61.png', 'aa7d098d1.png', 'aad8375e0.png', 'aaf4da98f.png', 'ab0f67743.png', 'ab35453cb.png', 'abc331628.png', 'abf8b0772.png', 'ac3193f78.png', 'ac75d3326.png', 'acdb75e00.png', 'ace8761dd.png', 'ad12382d4.png', 'adb7a032c.png', 'ae90f2827.png', 'aecfaed64.png', 'aee6fa3df.png', 'af45e222a.png', 'afa446484.png', 'afcf6abd5.png', 'b026bf8ca.png', 'b03397525.png', 'b0acaff4a.png', 'b130a0632.png', 'b145ba9d4.png', 'b1cd2a91e.png', 'b215531dd.png', 'b2706e2b3.png', 'b29339405.png', 'b30ab4659.png', 'b31292706.png', 'b341d0aab.png', 'b39c71707.png', 'b3d6fdb80.png', 'b3e08b037.png', 'b47691c08.png', 'b4c3df835.png', 'b4f7c9214.png', 'b573b7a56.png', 'b5c7fd009.png', 'b62dca166.png', 'b687160f5.png', 'b6a3f7876.png', 'b6f3d8b5d.png', 'b7192c70f.png', 'b7a7f6390.png', 'b7ad92859.png', 'b828443ff.png', 'b9062c1c8.png', 'b944a49ca.png', 'b98327bf4.png', 'ba3ce6b3e.png', 'bb1c84bbc.png', 'bb1d1bfd3.png', 'bb20fce02.png', 'bb64660b7.png', 'bb7621cb3.png', 'bd72d4d8a.png', 'bd789d151.png', 'bdde957ec.png', 'be2499cf4.png', 'be341dbdc.png', 'bea23d9f8.png', 'bebcaab66.png', 'beebe5f4e.png', 'bf3924a57.png', 'bf66b9cd2.png', 'bfab3e3d0.png', 'bffc08672.png', 'c0461776c.png', 'c069fc3fa.png', 'c06e7c748.png', 'c0bc3997b.png', 'c0d9e170b.png', 'c0f5d9ac8.png', 'c10ccbd82.png', 'c10db7ae2.png', 'c1ecff98b.png', 'c26ccf73c.png', 'c2de6020a.png', 'c35efa095.png', 'c4ed8ed38.png', 'c50335991.png', 'c5078bac5.png', 'c5e419015.png', 'c5e88cd42.png', 'c60e91e07.png', 'c63da993b.png', 'c64370a72.png', 'c6b76307d.png', 'c6c8d4ba0.png', 'c7051c902.png', 'c74c5b7fc.png', 'c75a82234.png', 'c7ae30f3a.png', 'c7b07431e.png', 'c7eb96871.png', 'c832e4302.png', 'c85ef220d.png', 'c88ebfb47.png', 'c8f50f0c3.png', 'caa2fbd79.png', 'cadab6616.png', 'cae684f8f.png', 'cb496f36e.png', 'cb76a7766.png', 'cbba27d89.png', 'cbe761896.png', 'cc3d2a59a.png', 'cc74feadc.png', 'cd5f0db1c.png', 'cd6adba97.png', 'ce15eee52.png', 'ce3d280eb.png', 'ce42adffb.png', 'cec5bf198.png', 'cf3a8b2fd.png', 'cf46d09c5.png', 'cf90fc52d.png', 'cfb18d262.png', 'cfd8165e9.png', 'd0152bd7c.png', 'd01873fdd.png', 'd09275360.png', 'd09d24c58.png', 'd0cdc768f.png', 'd102e1a15.png', 'd14aa43f3.png', 'd17f48d3b.png', 'd2f0f326e.png', 'd2f422ccb.png', 'd2fd9df40.png', 'd3331e071.png', 'd350a25fa.png', 'd41d87796.png', 'd488a4fe1.png', 'd515398fd.png', 'd563be369.png', 'd5f7dd60a.png', 'd668409ff.png', 'd689256be.png', 'd6c8c3c48.png', 'd6d31dcbe.png', 'd6d80a321.png', 'd7017f701.png', 'd84d37a61.png', 'd89db156f.png', 'd8f4923f8.png', 'd93c7ab6d.png', 'd9c50616e.png', 'da231c97f.png', 'da4ed3a28.png', 'da5255450.png', 'da713c465.png', 'da9ef7858.png', 'dabe3e5be.png', 'dabea05f4.png', 'dc4cd56a3.png', 'dc55449b2.png', 'dcd7ff249.png', 'dce2f6612.png', 'dd5ec63d9.png', 'dd9f36df7.png', 'de0b79659.png', 'df11d56a7.png', 'df521c0c0.png', 'df7cb5f87.png', 'dfb1d9012.png', 'e0ec5b6a1.png', 'e14afa235.png', 'e15472085.png', 'e15fce4f2.png', 'e1809cef2.png', 'e19673dc9.png', 'e19ad6ac9.png', 'e1a0e3202.png', 'e1abb4ff9.png', 'e3f50adfc.png', 'e471f1d3a.png', 'e478c452c.png', 'e4a76885b.png', 'e4d5ec761.png', 'e5064f6be.png', 'e52493d0b.png', 'e5297b675.png', 'e5368474f.png', 'e5881dd33.png', 'e5e3dccff.png', 'e6f1211a2.png', 'e7077322d.png', 'e721c6ac8.png', 'e73e308be.png', 'e783f5a4f.png', 'e80a259c5.png', 'e82017baa.png', 'e84464f5a.png', 'e88bf0db9.png', 'e901b0f28.png', 'e921021a8.png', 'e96e57a90.png', 'e98e5d1d5.png', 'e9cd91682.png', 'e9d48d664.png', 'eaf0815e2.png', 'ec08a5d56.png', 'ede6b84b4.png', 'edfdb4aeb.png', 'eec1079a1.png', 'eef131644.png', 'ef02b4ee7.png', 'ef3e232ad.png', 'ef65533d5.png', 'ef74dbcad.png', 'ef7a5651d.png', 'ef9676433.png', 'efe19dc32.png', 'f0ffa00bd.png', 'f1e87cba7.png', 'f1f7c833f.png', 'f23faf9c1.png', 'f25996db8.png', 'f2dc546ca.png', 'f33e9d918.png', 'f351ce097.png', 'f3fcfff1b.png', 'f4021df6c.png', 'f4234cf4f.png', 'f445fe6fb.png', 'f48916a8c.png', 'f4ad9d950.png', 'f4caf74f9.png', 'f4e7733d4.png', 'f593c9cf0.png', 'f66ae4070.png', 'f6d250856.png', 'f8318faf1.png', 'f85ed9b6d.png', 'f9b6bfb00.png', 'f9ea23fb5.png', 'f9f35cbd4.png', 'fa5fd1384.png', 'fa9f3a8f9.png', 'fadc6adbc.png', 'fb022edf9.png', 'fba8fc78a.png', 'fbf88b6be.png', 'fc3e58836.png', 'fc6f686fb.png', 'fd253a74e.png', 'fd87b36ae.png', 'fd925f542.png', 'fda0b5c38.png', 'fda39e16f.png', 'fdea6b119.png', 'fe29629fb.png', 'fe9e87b78.png', 'fea1d13d6.png', 'fea355851.png', 'fea3da57c.png', 'fef2ade8c.png', 'ff65bc002.png', 'ffc6f8527.png']\n",
            "794\n"
          ]
        }
      ]
    },
    {
      "cell_type": "code",
      "source": [
        "# Generating the test data generator from the dataframe\n",
        "test_generator = test_datagen.flow_from_dataframe(\n",
        "    test_df,\n",
        "    directory=test_data_dir,\n",
        "    x_col='filename',\n",
        "    y_col=None,\n",
        "    target_size=(img_width, img_height),\n",
        "    batch_size=batch_size,\n",
        "    class_mode=None,\n",
        "    shuffle=False\n",
        ")"
      ],
      "metadata": {
        "colab": {
          "base_uri": "https://localhost:8080/"
        },
        "id": "Lw6VXK9O6c7d",
        "outputId": "9cdb9ac3-a1a9-4770-a12f-a5f64aec3df5"
      },
      "execution_count": 20,
      "outputs": [
        {
          "output_type": "stream",
          "name": "stdout",
          "text": [
            "Found 794 validated image filenames.\n"
          ]
        }
      ]
    },
    {
      "cell_type": "code",
      "source": [
        "# Predicting the classes for the test images\n",
        "predictions = model.predict(test_generator)"
      ],
      "metadata": {
        "colab": {
          "base_uri": "https://localhost:8080/"
        },
        "id": "Iuw9fPHO-35i",
        "outputId": "0aff95e5-48bf-4e98-eb96-aa64cce5d8a9"
      },
      "execution_count": 21,
      "outputs": [
        {
          "output_type": "stream",
          "name": "stdout",
          "text": [
            "53/53 [==============================] - 6s 100ms/step\n"
          ]
        }
      ]
    },
    {
      "cell_type": "code",
      "source": [
        "# Maping predicted class indices to class labels\n",
        "class_labels = list(train_generator.class_indices.keys())\n",
        "predicted_classes = [class_labels[prediction.argmax()] for prediction in predictions]"
      ],
      "metadata": {
        "id": "gjawh6Vf-4Zh"
      },
      "execution_count": 22,
      "outputs": []
    },
    {
      "cell_type": "code",
      "source": [
        "# Printing the predicted classes\n",
        "print(predicted_classes)"
      ],
      "metadata": {
        "colab": {
          "base_uri": "https://localhost:8080/"
        },
        "id": "gcU3Ouro-7Pw",
        "outputId": "2554ad43-87b2-46e6-f041-ef47eb4a6ea8"
      },
      "execution_count": 23,
      "outputs": [
        {
          "output_type": "stream",
          "name": "stdout",
          "text": [
            "['Small-flowered Cranesbill', 'Fat Hen', 'Sugar beet', 'Common Chickweed', 'Sugar beet', 'Loose Silky-bent', 'Common Chickweed', 'Fat Hen', 'Loose Silky-bent', 'Loose Silky-bent', 'Maize', 'Small-flowered Cranesbill', 'Sugar beet', 'Scentless Mayweed', 'Sugar beet', 'Fat Hen', 'Scentless Mayweed', 'Scentless Mayweed', 'Common Chickweed', 'Fat Hen', 'Common Chickweed', 'Small-flowered Cranesbill', 'Shepherds Purse', 'Sugar beet', 'Sugar beet', 'Maize', 'Sugar beet', 'Scentless Mayweed', 'Common Chickweed', 'Sugar beet', 'Common Chickweed', 'Shepherds Purse', 'Loose Silky-bent', 'Maize', 'Loose Silky-bent', 'Black-grass', 'Loose Silky-bent', 'Loose Silky-bent', 'Common Chickweed', 'Maize', 'Loose Silky-bent', 'Common wheat', 'Common Chickweed', 'Small-flowered Cranesbill', 'Sugar beet', 'Cleavers', 'Maize', 'Scentless Mayweed', 'Maize', 'Small-flowered Cranesbill', 'Loose Silky-bent', 'Sugar beet', 'Cleavers', 'Loose Silky-bent', 'Maize', 'Fat Hen', 'Charlock', 'Small-flowered Cranesbill', 'Cleavers', 'Loose Silky-bent', 'Sugar beet', 'Cleavers', 'Charlock', 'Common wheat', 'Maize', 'Fat Hen', 'Loose Silky-bent', 'Loose Silky-bent', 'Shepherds Purse', 'Scentless Mayweed', 'Small-flowered Cranesbill', 'Common Chickweed', 'Scentless Mayweed', 'Common Chickweed', 'Sugar beet', 'Common wheat', 'Loose Silky-bent', 'Scentless Mayweed', 'Scentless Mayweed', 'Loose Silky-bent', 'Sugar beet', 'Common Chickweed', 'Common Chickweed', 'Common wheat', 'Shepherds Purse', 'Sugar beet', 'Cleavers', 'Scentless Mayweed', 'Fat Hen', 'Common wheat', 'Charlock', 'Loose Silky-bent', 'Fat Hen', 'Loose Silky-bent', 'Common Chickweed', 'Loose Silky-bent', 'Small-flowered Cranesbill', 'Shepherds Purse', 'Maize', 'Sugar beet', 'Fat Hen', 'Sugar beet', 'Scentless Mayweed', 'Sugar beet', 'Fat Hen', 'Fat Hen', 'Common Chickweed', 'Scentless Mayweed', 'Cleavers', 'Cleavers', 'Loose Silky-bent', 'Charlock', 'Common Chickweed', 'Shepherds Purse', 'Shepherds Purse', 'Sugar beet', 'Cleavers', 'Charlock', 'Sugar beet', 'Common Chickweed', 'Common Chickweed', 'Sugar beet', 'Cleavers', 'Loose Silky-bent', 'Maize', 'Common wheat', 'Charlock', 'Maize', 'Fat Hen', 'Common Chickweed', 'Sugar beet', 'Sugar beet', 'Common Chickweed', 'Common Chickweed', 'Loose Silky-bent', 'Common wheat', 'Fat Hen', 'Charlock', 'Loose Silky-bent', 'Common Chickweed', 'Loose Silky-bent', 'Small-flowered Cranesbill', 'Shepherds Purse', 'Common Chickweed', 'Fat Hen', 'Sugar beet', 'Common wheat', 'Small-flowered Cranesbill', 'Sugar beet', 'Charlock', 'Scentless Mayweed', 'Loose Silky-bent', 'Maize', 'Common Chickweed', 'Loose Silky-bent', 'Small-flowered Cranesbill', 'Common Chickweed', 'Fat Hen', 'Loose Silky-bent', 'Cleavers', 'Charlock', 'Loose Silky-bent', 'Scentless Mayweed', 'Scentless Mayweed', 'Shepherds Purse', 'Loose Silky-bent', 'Scentless Mayweed', 'Common wheat', 'Common Chickweed', 'Common Chickweed', 'Shepherds Purse', 'Maize', 'Shepherds Purse', 'Common Chickweed', 'Common Chickweed', 'Small-flowered Cranesbill', 'Black-grass', 'Cleavers', 'Loose Silky-bent', 'Loose Silky-bent', 'Loose Silky-bent', 'Small-flowered Cranesbill', 'Loose Silky-bent', 'Sugar beet', 'Scentless Mayweed', 'Loose Silky-bent', 'Common Chickweed', 'Fat Hen', 'Fat Hen', 'Small-flowered Cranesbill', 'Loose Silky-bent', 'Charlock', 'Scentless Mayweed', 'Common wheat', 'Charlock', 'Loose Silky-bent', 'Common wheat', 'Common Chickweed', 'Loose Silky-bent', 'Common Chickweed', 'Cleavers', 'Loose Silky-bent', 'Charlock', 'Charlock', 'Small-flowered Cranesbill', 'Cleavers', 'Fat Hen', 'Common Chickweed', 'Fat Hen', 'Shepherds Purse', 'Fat Hen', 'Charlock', 'Fat Hen', 'Loose Silky-bent', 'Small-flowered Cranesbill', 'Cleavers', 'Maize', 'Black-grass', 'Small-flowered Cranesbill', 'Common Chickweed', 'Scentless Mayweed', 'Loose Silky-bent', 'Common Chickweed', 'Small-flowered Cranesbill', 'Common wheat', 'Common wheat', 'Fat Hen', 'Common Chickweed', 'Common Chickweed', 'Maize', 'Shepherds Purse', 'Cleavers', 'Shepherds Purse', 'Cleavers', 'Common Chickweed', 'Loose Silky-bent', 'Loose Silky-bent', 'Cleavers', 'Small-flowered Cranesbill', 'Charlock', 'Sugar beet', 'Common Chickweed', 'Maize', 'Small-flowered Cranesbill', 'Shepherds Purse', 'Common Chickweed', 'Loose Silky-bent', 'Fat Hen', 'Small-flowered Cranesbill', 'Fat Hen', 'Common Chickweed', 'Black-grass', 'Maize', 'Common Chickweed', 'Common Chickweed', 'Common wheat', 'Cleavers', 'Charlock', 'Small-flowered Cranesbill', 'Common Chickweed', 'Black-grass', 'Maize', 'Common Chickweed', 'Maize', 'Small-flowered Cranesbill', 'Cleavers', 'Fat Hen', 'Shepherds Purse', 'Scentless Mayweed', 'Shepherds Purse', 'Charlock', 'Loose Silky-bent', 'Loose Silky-bent', 'Small-flowered Cranesbill', 'Common Chickweed', 'Small-flowered Cranesbill', 'Loose Silky-bent', 'Common Chickweed', 'Fat Hen', 'Cleavers', 'Loose Silky-bent', 'Loose Silky-bent', 'Maize', 'Sugar beet', 'Maize', 'Loose Silky-bent', 'Common Chickweed', 'Common Chickweed', 'Maize', 'Common Chickweed', 'Loose Silky-bent', 'Scentless Mayweed', 'Charlock', 'Maize', 'Small-flowered Cranesbill', 'Sugar beet', 'Loose Silky-bent', 'Loose Silky-bent', 'Small-flowered Cranesbill', 'Common wheat', 'Shepherds Purse', 'Common Chickweed', 'Cleavers', 'Small-flowered Cranesbill', 'Sugar beet', 'Sugar beet', 'Charlock', 'Black-grass', 'Common wheat', 'Cleavers', 'Sugar beet', 'Loose Silky-bent', 'Scentless Mayweed', 'Common wheat', 'Shepherds Purse', 'Loose Silky-bent', 'Sugar beet', 'Charlock', 'Loose Silky-bent', 'Small-flowered Cranesbill', 'Sugar beet', 'Charlock', 'Charlock', 'Small-flowered Cranesbill', 'Small-flowered Cranesbill', 'Small-flowered Cranesbill', 'Black-grass', 'Sugar beet', 'Small-flowered Cranesbill', 'Sugar beet', 'Charlock', 'Scentless Mayweed', 'Loose Silky-bent', 'Loose Silky-bent', 'Sugar beet', 'Cleavers', 'Cleavers', 'Shepherds Purse', 'Loose Silky-bent', 'Shepherds Purse', 'Small-flowered Cranesbill', 'Scentless Mayweed', 'Common Chickweed', 'Charlock', 'Sugar beet', 'Fat Hen', 'Shepherds Purse', 'Maize', 'Loose Silky-bent', 'Sugar beet', 'Loose Silky-bent', 'Fat Hen', 'Loose Silky-bent', 'Charlock', 'Fat Hen', 'Loose Silky-bent', 'Loose Silky-bent', 'Common Chickweed', 'Scentless Mayweed', 'Small-flowered Cranesbill', 'Small-flowered Cranesbill', 'Common Chickweed', 'Charlock', 'Cleavers', 'Loose Silky-bent', 'Charlock', 'Loose Silky-bent', 'Scentless Mayweed', 'Small-flowered Cranesbill', 'Small-flowered Cranesbill', 'Fat Hen', 'Common Chickweed', 'Shepherds Purse', 'Charlock', 'Sugar beet', 'Sugar beet', 'Loose Silky-bent', 'Loose Silky-bent', 'Common wheat', 'Common Chickweed', 'Charlock', 'Common Chickweed', 'Scentless Mayweed', 'Shepherds Purse', 'Loose Silky-bent', 'Loose Silky-bent', 'Scentless Mayweed', 'Sugar beet', 'Common Chickweed', 'Shepherds Purse', 'Loose Silky-bent', 'Sugar beet', 'Scentless Mayweed', 'Scentless Mayweed', 'Fat Hen', 'Charlock', 'Fat Hen', 'Charlock', 'Shepherds Purse', 'Common Chickweed', 'Maize', 'Sugar beet', 'Scentless Mayweed', 'Shepherds Purse', 'Charlock', 'Loose Silky-bent', 'Fat Hen', 'Small-flowered Cranesbill', 'Scentless Mayweed', 'Common wheat', 'Loose Silky-bent', 'Loose Silky-bent', 'Small-flowered Cranesbill', 'Small-flowered Cranesbill', 'Loose Silky-bent', 'Sugar beet', 'Loose Silky-bent', 'Common Chickweed', 'Common wheat', 'Fat Hen', 'Charlock', 'Common Chickweed', 'Black-grass', 'Loose Silky-bent', 'Maize', 'Small-flowered Cranesbill', 'Scentless Mayweed', 'Cleavers', 'Sugar beet', 'Small-flowered Cranesbill', 'Loose Silky-bent', 'Cleavers', 'Fat Hen', 'Small-flowered Cranesbill', 'Small-flowered Cranesbill', 'Small-flowered Cranesbill', 'Loose Silky-bent', 'Loose Silky-bent', 'Fat Hen', 'Loose Silky-bent', 'Common Chickweed', 'Charlock', 'Scentless Mayweed', 'Common wheat', 'Common Chickweed', 'Common Chickweed', 'Charlock', 'Scentless Mayweed', 'Sugar beet', 'Small-flowered Cranesbill', 'Common Chickweed', 'Small-flowered Cranesbill', 'Scentless Mayweed', 'Shepherds Purse', 'Sugar beet', 'Common Chickweed', 'Scentless Mayweed', 'Charlock', 'Common Chickweed', 'Sugar beet', 'Common Chickweed', 'Small-flowered Cranesbill', 'Cleavers', 'Loose Silky-bent', 'Cleavers', 'Charlock', 'Loose Silky-bent', 'Charlock', 'Black-grass', 'Scentless Mayweed', 'Small-flowered Cranesbill', 'Sugar beet', 'Common wheat', 'Common Chickweed', 'Shepherds Purse', 'Small-flowered Cranesbill', 'Common Chickweed', 'Shepherds Purse', 'Scentless Mayweed', 'Loose Silky-bent', 'Common wheat', 'Common wheat', 'Loose Silky-bent', 'Loose Silky-bent', 'Charlock', 'Scentless Mayweed', 'Sugar beet', 'Loose Silky-bent', 'Common wheat', 'Common Chickweed', 'Loose Silky-bent', 'Loose Silky-bent', 'Common wheat', 'Small-flowered Cranesbill', 'Small-flowered Cranesbill', 'Fat Hen', 'Common Chickweed', 'Maize', 'Small-flowered Cranesbill', 'Small-flowered Cranesbill', 'Charlock', 'Small-flowered Cranesbill', 'Maize', 'Cleavers', 'Black-grass', 'Loose Silky-bent', 'Small-flowered Cranesbill', 'Charlock', 'Small-flowered Cranesbill', 'Common Chickweed', 'Small-flowered Cranesbill', 'Loose Silky-bent', 'Loose Silky-bent', 'Loose Silky-bent', 'Scentless Mayweed', 'Common Chickweed', 'Maize', 'Shepherds Purse', 'Common Chickweed', 'Fat Hen', 'Sugar beet', 'Sugar beet', 'Fat Hen', 'Scentless Mayweed', 'Small-flowered Cranesbill', 'Charlock', 'Sugar beet', 'Shepherds Purse', 'Scentless Mayweed', 'Loose Silky-bent', 'Loose Silky-bent', 'Scentless Mayweed', 'Black-grass', 'Common Chickweed', 'Shepherds Purse', 'Sugar beet', 'Loose Silky-bent', 'Cleavers', 'Common wheat', 'Scentless Mayweed', 'Common Chickweed', 'Loose Silky-bent', 'Loose Silky-bent', 'Common Chickweed', 'Loose Silky-bent', 'Loose Silky-bent', 'Common Chickweed', 'Shepherds Purse', 'Loose Silky-bent', 'Scentless Mayweed', 'Small-flowered Cranesbill', 'Small-flowered Cranesbill', 'Loose Silky-bent', 'Loose Silky-bent', 'Black-grass', 'Cleavers', 'Scentless Mayweed', 'Charlock', 'Cleavers', 'Common wheat', 'Loose Silky-bent', 'Charlock', 'Common Chickweed', 'Common Chickweed', 'Maize', 'Shepherds Purse', 'Fat Hen', 'Scentless Mayweed', 'Common Chickweed', 'Loose Silky-bent', 'Loose Silky-bent', 'Loose Silky-bent', 'Fat Hen', 'Small-flowered Cranesbill', 'Black-grass', 'Scentless Mayweed', 'Common wheat', 'Fat Hen', 'Shepherds Purse', 'Maize', 'Sugar beet', 'Loose Silky-bent', 'Scentless Mayweed', 'Scentless Mayweed', 'Loose Silky-bent', 'Cleavers', 'Scentless Mayweed', 'Sugar beet', 'Common wheat', 'Shepherds Purse', 'Common Chickweed', 'Scentless Mayweed', 'Common wheat', 'Loose Silky-bent', 'Scentless Mayweed', 'Scentless Mayweed', 'Scentless Mayweed', 'Common Chickweed', 'Maize', 'Sugar beet', 'Scentless Mayweed', 'Common Chickweed', 'Fat Hen', 'Scentless Mayweed', 'Scentless Mayweed', 'Small-flowered Cranesbill', 'Small-flowered Cranesbill', 'Scentless Mayweed', 'Maize', 'Loose Silky-bent', 'Common Chickweed', 'Small-flowered Cranesbill', 'Scentless Mayweed', 'Charlock', 'Fat Hen', 'Loose Silky-bent', 'Scentless Mayweed', 'Common Chickweed', 'Loose Silky-bent', 'Sugar beet', 'Sugar beet', 'Cleavers', 'Loose Silky-bent', 'Common Chickweed', 'Small-flowered Cranesbill', 'Scentless Mayweed', 'Scentless Mayweed', 'Scentless Mayweed', 'Common wheat', 'Fat Hen', 'Common Chickweed', 'Small-flowered Cranesbill', 'Common wheat', 'Common Chickweed', 'Shepherds Purse', 'Charlock', 'Loose Silky-bent', 'Fat Hen', 'Maize', 'Charlock', 'Sugar beet', 'Loose Silky-bent', 'Small-flowered Cranesbill', 'Small-flowered Cranesbill', 'Charlock', 'Common Chickweed', 'Loose Silky-bent', 'Common wheat', 'Loose Silky-bent', 'Common Chickweed', 'Maize', 'Common Chickweed', 'Charlock', 'Fat Hen', 'Black-grass', 'Sugar beet', 'Loose Silky-bent', 'Common wheat', 'Cleavers', 'Small-flowered Cranesbill', 'Scentless Mayweed', 'Shepherds Purse', 'Common Chickweed', 'Loose Silky-bent', 'Fat Hen', 'Common Chickweed', 'Scentless Mayweed', 'Common wheat', 'Loose Silky-bent', 'Fat Hen', 'Common Chickweed', 'Sugar beet', 'Fat Hen', 'Small-flowered Cranesbill', 'Scentless Mayweed', 'Scentless Mayweed', 'Fat Hen', 'Common Chickweed', 'Small-flowered Cranesbill', 'Common Chickweed', 'Loose Silky-bent', 'Sugar beet', 'Common Chickweed', 'Charlock', 'Common Chickweed', 'Loose Silky-bent', 'Charlock', 'Small-flowered Cranesbill', 'Loose Silky-bent', 'Loose Silky-bent', 'Sugar beet', 'Scentless Mayweed', 'Common Chickweed', 'Sugar beet', 'Small-flowered Cranesbill', 'Fat Hen', 'Sugar beet', 'Loose Silky-bent', 'Common Chickweed', 'Loose Silky-bent', 'Sugar beet', 'Common wheat', 'Common Chickweed', 'Scentless Mayweed', 'Loose Silky-bent', 'Charlock', 'Charlock', 'Loose Silky-bent', 'Sugar beet', 'Cleavers', 'Charlock', 'Sugar beet', 'Maize', 'Loose Silky-bent', 'Sugar beet', 'Common wheat', 'Loose Silky-bent', 'Scentless Mayweed', 'Fat Hen', 'Common wheat', 'Sugar beet', 'Scentless Mayweed', 'Loose Silky-bent', 'Fat Hen', 'Sugar beet', 'Small-flowered Cranesbill', 'Loose Silky-bent', 'Cleavers', 'Small-flowered Cranesbill', 'Fat Hen', 'Fat Hen', 'Shepherds Purse', 'Black-grass', 'Common Chickweed', 'Shepherds Purse', 'Small-flowered Cranesbill', 'Small-flowered Cranesbill', 'Cleavers', 'Common Chickweed', 'Charlock', 'Loose Silky-bent', 'Sugar beet', 'Common Chickweed', 'Loose Silky-bent', 'Scentless Mayweed', 'Scentless Mayweed', 'Charlock', 'Charlock', 'Scentless Mayweed', 'Loose Silky-bent', 'Shepherds Purse', 'Loose Silky-bent', 'Small-flowered Cranesbill', 'Cleavers', 'Scentless Mayweed', 'Loose Silky-bent', 'Charlock', 'Scentless Mayweed', 'Fat Hen', 'Charlock', 'Scentless Mayweed', 'Sugar beet', 'Charlock', 'Small-flowered Cranesbill', 'Sugar beet', 'Maize', 'Shepherds Purse', 'Shepherds Purse', 'Shepherds Purse', 'Cleavers', 'Fat Hen', 'Common Chickweed', 'Shepherds Purse', 'Cleavers', 'Charlock', 'Fat Hen', 'Loose Silky-bent', 'Charlock', 'Scentless Mayweed', 'Sugar beet', 'Cleavers', 'Black-grass', 'Common Chickweed', 'Common wheat', 'Loose Silky-bent', 'Loose Silky-bent', 'Loose Silky-bent', 'Scentless Mayweed', 'Common Chickweed', 'Loose Silky-bent', 'Sugar beet', 'Sugar beet', 'Charlock', 'Common wheat']\n"
          ]
        }
      ]
    },
    {
      "cell_type": "code",
      "source": [
        "# Adding the predicted classes to the dataframe\n",
        "test_df['predictions'] = predicted_classes\n",
        "test_df.head()"
      ],
      "metadata": {
        "colab": {
          "base_uri": "https://localhost:8080/",
          "height": 206
        },
        "id": "kxAk8ntTMZdA",
        "outputId": "6cc14907-382e-4c07-94da-2743972b2d5b"
      },
      "execution_count": 24,
      "outputs": [
        {
          "output_type": "execute_result",
          "data": {
            "text/plain": [
              "        filename                predictions\n",
              "0  0021e90e4.png  Small-flowered Cranesbill\n",
              "1  003d61042.png                    Fat Hen\n",
              "2  007b3da8b.png                 Sugar beet\n",
              "3  0086a6340.png           Common Chickweed\n",
              "4  00c47e980.png                 Sugar beet"
            ],
            "text/html": [
              "\n",
              "\n",
              "  <div id=\"df-213da9ee-5ab2-49ba-a064-3765248059d4\">\n",
              "    <div class=\"colab-df-container\">\n",
              "      <div>\n",
              "<style scoped>\n",
              "    .dataframe tbody tr th:only-of-type {\n",
              "        vertical-align: middle;\n",
              "    }\n",
              "\n",
              "    .dataframe tbody tr th {\n",
              "        vertical-align: top;\n",
              "    }\n",
              "\n",
              "    .dataframe thead th {\n",
              "        text-align: right;\n",
              "    }\n",
              "</style>\n",
              "<table border=\"1\" class=\"dataframe\">\n",
              "  <thead>\n",
              "    <tr style=\"text-align: right;\">\n",
              "      <th></th>\n",
              "      <th>filename</th>\n",
              "      <th>predictions</th>\n",
              "    </tr>\n",
              "  </thead>\n",
              "  <tbody>\n",
              "    <tr>\n",
              "      <th>0</th>\n",
              "      <td>0021e90e4.png</td>\n",
              "      <td>Small-flowered Cranesbill</td>\n",
              "    </tr>\n",
              "    <tr>\n",
              "      <th>1</th>\n",
              "      <td>003d61042.png</td>\n",
              "      <td>Fat Hen</td>\n",
              "    </tr>\n",
              "    <tr>\n",
              "      <th>2</th>\n",
              "      <td>007b3da8b.png</td>\n",
              "      <td>Sugar beet</td>\n",
              "    </tr>\n",
              "    <tr>\n",
              "      <th>3</th>\n",
              "      <td>0086a6340.png</td>\n",
              "      <td>Common Chickweed</td>\n",
              "    </tr>\n",
              "    <tr>\n",
              "      <th>4</th>\n",
              "      <td>00c47e980.png</td>\n",
              "      <td>Sugar beet</td>\n",
              "    </tr>\n",
              "  </tbody>\n",
              "</table>\n",
              "</div>\n",
              "      <button class=\"colab-df-convert\" onclick=\"convertToInteractive('df-213da9ee-5ab2-49ba-a064-3765248059d4')\"\n",
              "              title=\"Convert this dataframe to an interactive table.\"\n",
              "              style=\"display:none;\">\n",
              "\n",
              "  <svg xmlns=\"http://www.w3.org/2000/svg\" height=\"24px\"viewBox=\"0 0 24 24\"\n",
              "       width=\"24px\">\n",
              "    <path d=\"M0 0h24v24H0V0z\" fill=\"none\"/>\n",
              "    <path d=\"M18.56 5.44l.94 2.06.94-2.06 2.06-.94-2.06-.94-.94-2.06-.94 2.06-2.06.94zm-11 1L8.5 8.5l.94-2.06 2.06-.94-2.06-.94L8.5 2.5l-.94 2.06-2.06.94zm10 10l.94 2.06.94-2.06 2.06-.94-2.06-.94-.94-2.06-.94 2.06-2.06.94z\"/><path d=\"M17.41 7.96l-1.37-1.37c-.4-.4-.92-.59-1.43-.59-.52 0-1.04.2-1.43.59L10.3 9.45l-7.72 7.72c-.78.78-.78 2.05 0 2.83L4 21.41c.39.39.9.59 1.41.59.51 0 1.02-.2 1.41-.59l7.78-7.78 2.81-2.81c.8-.78.8-2.07 0-2.86zM5.41 20L4 18.59l7.72-7.72 1.47 1.35L5.41 20z\"/>\n",
              "  </svg>\n",
              "      </button>\n",
              "\n",
              "\n",
              "\n",
              "    <div id=\"df-a256cb18-5429-456e-84b2-25e417152d95\">\n",
              "      <button class=\"colab-df-quickchart\" onclick=\"quickchart('df-a256cb18-5429-456e-84b2-25e417152d95')\"\n",
              "              title=\"Suggest charts.\"\n",
              "              style=\"display:none;\">\n",
              "\n",
              "<svg xmlns=\"http://www.w3.org/2000/svg\" height=\"24px\"viewBox=\"0 0 24 24\"\n",
              "     width=\"24px\">\n",
              "    <g>\n",
              "        <path d=\"M19 3H5c-1.1 0-2 .9-2 2v14c0 1.1.9 2 2 2h14c1.1 0 2-.9 2-2V5c0-1.1-.9-2-2-2zM9 17H7v-7h2v7zm4 0h-2V7h2v10zm4 0h-2v-4h2v4z\"/>\n",
              "    </g>\n",
              "</svg>\n",
              "      </button>\n",
              "    </div>\n",
              "\n",
              "<style>\n",
              "  .colab-df-quickchart {\n",
              "    background-color: #E8F0FE;\n",
              "    border: none;\n",
              "    border-radius: 50%;\n",
              "    cursor: pointer;\n",
              "    display: none;\n",
              "    fill: #1967D2;\n",
              "    height: 32px;\n",
              "    padding: 0 0 0 0;\n",
              "    width: 32px;\n",
              "  }\n",
              "\n",
              "  .colab-df-quickchart:hover {\n",
              "    background-color: #E2EBFA;\n",
              "    box-shadow: 0px 1px 2px rgba(60, 64, 67, 0.3), 0px 1px 3px 1px rgba(60, 64, 67, 0.15);\n",
              "    fill: #174EA6;\n",
              "  }\n",
              "\n",
              "  [theme=dark] .colab-df-quickchart {\n",
              "    background-color: #3B4455;\n",
              "    fill: #D2E3FC;\n",
              "  }\n",
              "\n",
              "  [theme=dark] .colab-df-quickchart:hover {\n",
              "    background-color: #434B5C;\n",
              "    box-shadow: 0px 1px 3px 1px rgba(0, 0, 0, 0.15);\n",
              "    filter: drop-shadow(0px 1px 2px rgba(0, 0, 0, 0.3));\n",
              "    fill: #FFFFFF;\n",
              "  }\n",
              "</style>\n",
              "\n",
              "    <script>\n",
              "      async function quickchart(key) {\n",
              "        const containerElement = document.querySelector('#' + key);\n",
              "        const charts = await google.colab.kernel.invokeFunction(\n",
              "            'suggestCharts', [key], {});\n",
              "      }\n",
              "    </script>\n",
              "\n",
              "      <script>\n",
              "\n",
              "function displayQuickchartButton(domScope) {\n",
              "  let quickchartButtonEl =\n",
              "    domScope.querySelector('#df-a256cb18-5429-456e-84b2-25e417152d95 button.colab-df-quickchart');\n",
              "  quickchartButtonEl.style.display =\n",
              "    google.colab.kernel.accessAllowed ? 'block' : 'none';\n",
              "}\n",
              "\n",
              "        displayQuickchartButton(document);\n",
              "      </script>\n",
              "      <style>\n",
              "    .colab-df-container {\n",
              "      display:flex;\n",
              "      flex-wrap:wrap;\n",
              "      gap: 12px;\n",
              "    }\n",
              "\n",
              "    .colab-df-convert {\n",
              "      background-color: #E8F0FE;\n",
              "      border: none;\n",
              "      border-radius: 50%;\n",
              "      cursor: pointer;\n",
              "      display: none;\n",
              "      fill: #1967D2;\n",
              "      height: 32px;\n",
              "      padding: 0 0 0 0;\n",
              "      width: 32px;\n",
              "    }\n",
              "\n",
              "    .colab-df-convert:hover {\n",
              "      background-color: #E2EBFA;\n",
              "      box-shadow: 0px 1px 2px rgba(60, 64, 67, 0.3), 0px 1px 3px 1px rgba(60, 64, 67, 0.15);\n",
              "      fill: #174EA6;\n",
              "    }\n",
              "\n",
              "    [theme=dark] .colab-df-convert {\n",
              "      background-color: #3B4455;\n",
              "      fill: #D2E3FC;\n",
              "    }\n",
              "\n",
              "    [theme=dark] .colab-df-convert:hover {\n",
              "      background-color: #434B5C;\n",
              "      box-shadow: 0px 1px 3px 1px rgba(0, 0, 0, 0.15);\n",
              "      filter: drop-shadow(0px 1px 2px rgba(0, 0, 0, 0.3));\n",
              "      fill: #FFFFFF;\n",
              "    }\n",
              "  </style>\n",
              "\n",
              "      <script>\n",
              "        const buttonEl =\n",
              "          document.querySelector('#df-213da9ee-5ab2-49ba-a064-3765248059d4 button.colab-df-convert');\n",
              "        buttonEl.style.display =\n",
              "          google.colab.kernel.accessAllowed ? 'block' : 'none';\n",
              "\n",
              "        async function convertToInteractive(key) {\n",
              "          const element = document.querySelector('#df-213da9ee-5ab2-49ba-a064-3765248059d4');\n",
              "          const dataTable =\n",
              "            await google.colab.kernel.invokeFunction('convertToInteractive',\n",
              "                                                     [key], {});\n",
              "          if (!dataTable) return;\n",
              "\n",
              "          const docLinkHtml = 'Like what you see? Visit the ' +\n",
              "            '<a target=\"_blank\" href=https://colab.research.google.com/notebooks/data_table.ipynb>data table notebook</a>'\n",
              "            + ' to learn more about interactive tables.';\n",
              "          element.innerHTML = '';\n",
              "          dataTable['output_type'] = 'display_data';\n",
              "          await google.colab.output.renderOutput(dataTable, element);\n",
              "          const docLink = document.createElement('div');\n",
              "          docLink.innerHTML = docLinkHtml;\n",
              "          element.appendChild(docLink);\n",
              "        }\n",
              "      </script>\n",
              "    </div>\n",
              "  </div>\n"
            ]
          },
          "metadata": {},
          "execution_count": 24
        }
      ]
    },
    {
      "cell_type": "code",
      "source": [
        "# Creating the predicted subfolders for each type\n",
        "predicted_dir = '/content/drive/MyDrive/images/predictions'\n",
        "os.makedirs(predicted_dir, exist_ok=True)\n",
        "for class_label in class_labels:\n",
        "    class_dir = os.path.join(predicted_dir, class_label)\n",
        "    os.makedirs(class_dir, exist_ok=True)"
      ],
      "metadata": {
        "id": "m-Iek84E-NT3"
      },
      "execution_count": 25,
      "outputs": []
    },
    {
      "cell_type": "code",
      "source": [
        "# Copying the images to their predicted folders\n",
        "for filename, predicted_class in zip(test_filenames, predicted_classes):\n",
        "    source_path = os.path.join(test_data_dir, filename)\n",
        "    destination_path = os.path.join(predicted_dir, predicted_class, filename)\n",
        "    shutil.copy(source_path, destination_path)\n",
        "\n",
        "print(\"Images have been copyed to their respective predicted folders.\")"
      ],
      "metadata": {
        "colab": {
          "base_uri": "https://localhost:8080/"
        },
        "id": "A7ERh6BW-SNE",
        "outputId": "235b238e-e914-4f05-cb91-40bd877481f7"
      },
      "execution_count": 26,
      "outputs": [
        {
          "output_type": "stream",
          "name": "stdout",
          "text": [
            "Images have been copyed to their respective predicted folders.\n"
          ]
        }
      ]
    }
  ]
}