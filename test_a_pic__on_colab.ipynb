{
  "cells": [
    {
      "cell_type": "markdown",
      "source": [
        "TEST a picture"
      ],
      "metadata": {
        "id": "57ggocME1dqb"
      }
    },
    {
      "cell_type": "code",
      "source": [
        "import cv2\n",
        "import numpy as np\n",
        "import tensorflow as tf\n",
        "from tensorflow.keras.preprocessing.image import ImageDataGenerator\n",
        "from tensorflow.keras.optimizers import Adam"
      ],
      "metadata": {
        "id": "o5iQWkZ3geMZ"
      },
      "execution_count": 33,
      "outputs": []
    },
    {
      "cell_type": "code",
      "source": [
        "from google.colab import drive\n",
        "drive.mount('/content/drive')"
      ],
      "metadata": {
        "colab": {
          "base_uri": "https://localhost:8080/"
        },
        "id": "n1PrTZoJjBhB",
        "outputId": "cf5f6f79-79ef-4e0e-e79c-81234c6bbd53"
      },
      "execution_count": 34,
      "outputs": [
        {
          "output_type": "stream",
          "name": "stdout",
          "text": [
            "Drive already mounted at /content/drive; to attempt to forcibly remount, call drive.mount(\"/content/drive\", force_remount=True).\n"
          ]
        }
      ]
    },
    {
      "cell_type": "code",
      "source": [
        "model = tf.keras.models.load_model('/content/project4_model.h5')\n"
      ],
      "metadata": {
        "id": "I3T4zwVa2S2R"
      },
      "execution_count": 35,
      "outputs": []
    },
    {
      "cell_type": "code",
      "source": [
        "img_width = 150\n",
        "img_height = 150"
      ],
      "metadata": {
        "id": "J91vLCPL0-3Q"
      },
      "execution_count": 36,
      "outputs": []
    },
    {
      "cell_type": "code",
      "source": [
        "# Preprocess the input image\n",
        "image_path = '/content/drive/MyDrive/images/Copy of ffc6f8527.png'  # Replace with the path to your image\n",
        "image = cv2.imread(image_path)  # Read the image\n",
        "image = cv2.resize(image, (img_width, img_height))  # Resize the image\n",
        "image = image.astype('float32') / 255.0  # Normalize pixel values"
      ],
      "metadata": {
        "id": "WuZ3Oe9tuisn"
      },
      "execution_count": 37,
      "outputs": []
    },
    {
      "cell_type": "code",
      "source": [
        "# Expand dimensions to match the model's input shape\n",
        "image = np.expand_dims(image, axis=0)"
      ],
      "metadata": {
        "id": "5c9X_ghOulGg"
      },
      "execution_count": 38,
      "outputs": []
    },
    {
      "cell_type": "code",
      "source": [
        "# Perform prediction\n",
        "predictions = model.predict(image)"
      ],
      "metadata": {
        "colab": {
          "base_uri": "https://localhost:8080/"
        },
        "id": "J7XdZCZJumru",
        "outputId": "c6e9ab10-5535-4ca3-91f0-8d05ffeed0b1"
      },
      "execution_count": 39,
      "outputs": [
        {
          "output_type": "stream",
          "name": "stdout",
          "text": [
            "1/1 [==============================] - 0s 200ms/step\n"
          ]
        }
      ]
    },
    {
      "cell_type": "code",
      "source": [
        "# Map predicted class probabilities to class labels\n",
        "\n",
        "# image_size = (150, 150)\n",
        "# batch_size = 32\n",
        "# train_dir = '/content/drive/MyDrive/images/train'\n",
        "# train_datagen = ImageDataGenerator(\n",
        "#     rescale=1.0/255.0,\n",
        "#     rotation_range=40,\n",
        "#     width_shift_range=0.2,\n",
        "#     height_shift_range=0.2,\n",
        "#     shear_range=0.2,\n",
        "#     zoom_range=0.2,\n",
        "#     horizontal_flip=True,\n",
        "#     fill_mode='nearest'\n",
        "# )\n",
        "# train_generator = train_datagen.flow_from_directory(\n",
        "#     train_dir,\n",
        "#     target_size=image_size,\n",
        "#     batch_size=batch_size,\n",
        "#     class_mode='categorical'\n",
        "# )\n",
        "\n",
        "# class_labels = list(train_generator.class_indices.keys())\n",
        "\n",
        "\n",
        "class_labels = ['Black-grass', 'Charlock', 'Cleavers', 'Coomon Chickweed',\n",
        "                    'Coomon wheat', 'FatHen', 'Loose Silky-bent', 'Maize',\n",
        "                    'Scentless Mayweed', 'Shepherds Purse',\n",
        "                    'Small-flowered Cranesbill', 'Suger beet']\n",
        "\n",
        "predicted_class = class_labels[np.argmax(predictions)]"
      ],
      "metadata": {
        "id": "X5y44TAwuoog"
      },
      "execution_count": 40,
      "outputs": []
    },
    {
      "cell_type": "code",
      "source": [
        "# Print the predicted class\n",
        "print('Predicted class:', predicted_class)"
      ],
      "metadata": {
        "colab": {
          "base_uri": "https://localhost:8080/"
        },
        "id": "LWMBCLmhuqrI",
        "outputId": "501f619a-6952-4030-d62f-f37bf9b89a82"
      },
      "execution_count": 41,
      "outputs": [
        {
          "output_type": "stream",
          "name": "stdout",
          "text": [
            "Predicted class: Coomon wheat\n"
          ]
        }
      ]
    }
  ],
  "metadata": {
    "colab": {
      "provenance": []
    },
    "kernelspec": {
      "display_name": "Python 3",
      "name": "python3"
    },
    "language_info": {
      "name": "python"
    }
  },
  "nbformat": 4,
  "nbformat_minor": 0
}