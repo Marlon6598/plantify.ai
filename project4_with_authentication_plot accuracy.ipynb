{
  "nbformat": 4,
  "nbformat_minor": 0,
  "metadata": {
    "colab": {
      "provenance": [],
      "gpuType": "T4"
    },
    "kernelspec": {
      "name": "python3",
      "display_name": "Python 3"
    },
    "language_info": {
      "name": "python"
    },
    "accelerator": "GPU"
  },
  "cells": [
    {
      "cell_type": "code",
      "execution_count": null,
      "metadata": {
        "id": "rKt4BowsWq_g",
        "colab": {
          "base_uri": "https://localhost:8080/"
        },
        "outputId": "9e77851d-9a31-4757-fbea-eca1c0dc21d6"
      },
      "outputs": [
        {
          "output_type": "stream",
          "name": "stdout",
          "text": [
            "Mounted at /content/drive\n"
          ]
        }
      ],
      "source": [
        "# Importing required items\n",
        "import tensorflow as tf\n",
        "from tensorflow.keras.preprocessing.image import ImageDataGenerator\n",
        "from tensorflow.keras.optimizers import Adam\n",
        "import os\n",
        "import pandas as pd\n",
        "import shutil\n",
        "from google.colab import auth\n",
        "auth.authenticate_user()\n",
        "from google.colab import drive\n",
        "drive.mount('/content/drive', force_remount=True)\n",
        "import matplotlib.pyplot as plt\n",
        "\n"
      ]
    },
    {
      "cell_type": "code",
      "source": [
        "# Confirm the connection to the GPU with tensorflow\n",
        "device_name = tf.test.gpu_device_name()\n",
        "if device_name != '/device:GPU:0':\n",
        "  raise SystemError('GPU device not found')\n",
        "print('Found GPU at: {}'.format(device_name))"
      ],
      "metadata": {
        "id": "rBmEMikgjO4H",
        "colab": {
          "base_uri": "https://localhost:8080/"
        },
        "outputId": "569d8f5a-f428-40c2-e5f1-f62d82a99f40"
      },
      "execution_count": null,
      "outputs": [
        {
          "output_type": "stream",
          "name": "stdout",
          "text": [
            "Found GPU at: /device:GPU:0\n"
          ]
        }
      ]
    },
    {
      "cell_type": "code",
      "source": [
        "gpu_info = !nvidia-smi\n",
        "gpu_info = '\\n'.join(gpu_info)\n",
        "if gpu_info.find('failed') >= 0:\n",
        "  print('Not connected to a GPU')\n",
        "else:\n",
        "  print(gpu_info)"
      ],
      "metadata": {
        "id": "ofFU7fmQszfQ",
        "colab": {
          "base_uri": "https://localhost:8080/"
        },
        "outputId": "098861f0-f9e0-4cb4-b686-855b53a1662f"
      },
      "execution_count": null,
      "outputs": [
        {
          "output_type": "stream",
          "name": "stdout",
          "text": [
            "Wed Jul 12 12:02:57 2023       \n",
            "+-----------------------------------------------------------------------------+\n",
            "| NVIDIA-SMI 525.85.12    Driver Version: 525.85.12    CUDA Version: 12.0     |\n",
            "|-------------------------------+----------------------+----------------------+\n",
            "| GPU  Name        Persistence-M| Bus-Id        Disp.A | Volatile Uncorr. ECC |\n",
            "| Fan  Temp  Perf  Pwr:Usage/Cap|         Memory-Usage | GPU-Util  Compute M. |\n",
            "|                               |                      |               MIG M. |\n",
            "|===============================+======================+======================|\n",
            "|   0  Tesla T4            Off  | 00000000:00:04.0 Off |                    0 |\n",
            "| N/A   52C    P0    29W /  70W |   5007MiB / 15360MiB |      0%      Default |\n",
            "|                               |                      |                  N/A |\n",
            "+-------------------------------+----------------------+----------------------+\n",
            "                                                                               \n",
            "+-----------------------------------------------------------------------------+\n",
            "| Processes:                                                                  |\n",
            "|  GPU   GI   CI        PID   Type   Process name                  GPU Memory |\n",
            "|        ID   ID                                                   Usage      |\n",
            "|=============================================================================|\n",
            "+-----------------------------------------------------------------------------+\n"
          ]
        }
      ]
    },
    {
      "cell_type": "code",
      "source": [
        "# Determine the available RAM\n",
        "from psutil import virtual_memory\n",
        "ram_gb = virtual_memory().total / 1e9\n",
        "print('Your runtime has {:.1f} gigabytes of available RAM\\n'.format(ram_gb))\n",
        "\n",
        "if ram_gb < 20:\n",
        "  print('Not using a high-RAM runtime')\n",
        "else:\n",
        "  print('You are using a high-RAM runtime!')"
      ],
      "metadata": {
        "id": "Gs3s_dujs1e8",
        "colab": {
          "base_uri": "https://localhost:8080/"
        },
        "outputId": "724cdaca-6039-458e-fa6c-9d780c353f8c"
      },
      "execution_count": null,
      "outputs": [
        {
          "output_type": "stream",
          "name": "stdout",
          "text": [
            "Your runtime has 13.6 gigabytes of available RAM\n",
            "\n",
            "Not using a high-RAM runtime\n"
          ]
        }
      ]
    },
    {
      "cell_type": "code",
      "source": [
        "# Defining the training and testing directories\n",
        "training_data_dir = '/content/drive/MyDrive/images/train'\n",
        "test_data_dir = '/content/drive/MyDrive/images/test'\n",
        "\n"
      ],
      "metadata": {
        "id": "Ri1ghLWujE1f"
      },
      "execution_count": null,
      "outputs": []
    },
    {
      "cell_type": "code",
      "source": [
        "# Defining hyperparameters\n",
        "img_width, img_height = 150, 150\n",
        "batch_size = 15\n",
        "epochs = 30\n",
        "num_classes = 12  # Number of different types in dataset"
      ],
      "metadata": {
        "id": "t9VUlHv7jhdu"
      },
      "execution_count": null,
      "outputs": []
    },
    {
      "cell_type": "code",
      "source": [
        "# Defining data preprocessing and augmentation\n",
        "train_datagen = ImageDataGenerator(\n",
        "    rescale=1/255,\n",
        "    shear_range=0.2,\n",
        "    zoom_range=0.2,\n",
        "    horizontal_flip=True\n",
        ")"
      ],
      "metadata": {
        "id": "y4TzFJD2jnLH"
      },
      "execution_count": null,
      "outputs": []
    },
    {
      "cell_type": "code",
      "source": [
        "test_datagen = ImageDataGenerator(rescale=1/255)"
      ],
      "metadata": {
        "id": "-AoTznBfjrOM"
      },
      "execution_count": null,
      "outputs": []
    },
    {
      "cell_type": "code",
      "source": [
        "# Defining training generator\n",
        "train_generator = train_datagen.flow_from_directory(\n",
        "    training_data_dir,\n",
        "    target_size=(img_width, img_height),\n",
        "    batch_size=batch_size,\n",
        "    class_mode='categorical'\n",
        ")"
      ],
      "metadata": {
        "id": "wPrvt2Ogjsus",
        "colab": {
          "base_uri": "https://localhost:8080/"
        },
        "outputId": "10760f21-cabf-4040-93c5-4f2ef82e0d6e"
      },
      "execution_count": null,
      "outputs": [
        {
          "output_type": "stream",
          "name": "stdout",
          "text": [
            "Found 4750 images belonging to 12 classes.\n"
          ]
        }
      ]
    },
    {
      "cell_type": "code",
      "source": [
        "# Defining the model architecture\n",
        "model = tf.keras.models.Sequential([\n",
        "    tf.keras.layers.Conv2D(64, (3, 3), activation='relu', input_shape=(img_width, img_height, 3)),\n",
        "    tf.keras.layers.MaxPooling2D(pool_size=(2, 2)),\n",
        "    tf.keras.layers.Conv2D(128, (3, 3), activation='relu'),\n",
        "    tf.keras.layers.MaxPooling2D(pool_size=(2, 2)),\n",
        "    tf.keras.layers.Conv2D(256, (3, 3), activation='relu'),\n",
        "    tf.keras.layers.MaxPooling2D(pool_size=(2, 2)),\n",
        "    tf.keras.layers.Flatten(),\n",
        "    tf.keras.layers.Dense(256, activation='relu'),\n",
        "    tf.keras.layers.Dropout(0.5),\n",
        "    tf.keras.layers.Dense(num_classes, activation='softmax')\n",
        "])"
      ],
      "metadata": {
        "id": "YMI1-AyPkPjU"
      },
      "execution_count": null,
      "outputs": []
    },
    {
      "cell_type": "code",
      "source": [
        "# Adjusting learning rate and change optimization algorithm\n",
        "learning_rate = 0.001\n",
        "optimizer = Adam(learning_rate=learning_rate)"
      ],
      "metadata": {
        "id": "umojrkl3DyMv"
      },
      "execution_count": null,
      "outputs": []
    },
    {
      "cell_type": "code",
      "source": [
        "# Compiling the model\n",
        "model.compile(\n",
        "    loss='categorical_crossentropy',\n",
        "    optimizer=optimizer,\n",
        "    metrics=['accuracy']\n",
        ")"
      ],
      "metadata": {
        "id": "tEr7xJyGkSbC"
      },
      "execution_count": null,
      "outputs": []
    },
    {
      "cell_type": "code",
      "source": [
        "# Optimizing and improving memory usage\n",
        "tf.config.optimizer.set_jit(True)"
      ],
      "metadata": {
        "id": "dOdFIrCl1QP_"
      },
      "execution_count": null,
      "outputs": []
    },
    {
      "cell_type": "code",
      "source": [
        "# Training the model\n",
        "history = model.fit(\n",
        "    train_generator,\n",
        "    steps_per_epoch=train_generator.samples // batch_size,\n",
        "    epochs=epochs,\n",
        "    callbacks=[tf.keras.callbacks.LambdaCallback(on_epoch_end=lambda epoch, logs: plt.plot(epoch, logs['accuracy'], 'bo'))]\n",
        ")"
      ],
      "metadata": {
        "colab": {
          "base_uri": "https://localhost:8080/",
          "height": 1000
        },
        "id": "eTRgoXwVxSNr",
        "outputId": "3c139ae1-a502-4c02-c959-858a767dad29"
      },
      "execution_count": null,
      "outputs": [
        {
          "output_type": "stream",
          "name": "stdout",
          "text": [
            "Epoch 1/30\n",
            "316/316 [==============================] - 90s 275ms/step - loss: 2.1088 - accuracy: 0.2819\n",
            "Epoch 2/30\n",
            "316/316 [==============================] - 88s 279ms/step - loss: 1.4869 - accuracy: 0.4828\n",
            "Epoch 3/30\n",
            "316/316 [==============================] - 85s 270ms/step - loss: 1.2912 - accuracy: 0.5571\n",
            "Epoch 4/30\n",
            "316/316 [==============================] - 84s 266ms/step - loss: 1.1288 - accuracy: 0.6118\n",
            "Epoch 5/30\n",
            "316/316 [==============================] - 84s 267ms/step - loss: 1.0071 - accuracy: 0.6574\n",
            "Epoch 6/30\n",
            "316/316 [==============================] - 86s 273ms/step - loss: 0.9245 - accuracy: 0.6851\n",
            "Epoch 7/30\n",
            "316/316 [==============================] - 86s 271ms/step - loss: 0.8335 - accuracy: 0.7111\n",
            "Epoch 8/30\n",
            "316/316 [==============================] - 84s 267ms/step - loss: 0.7954 - accuracy: 0.7299\n",
            "Epoch 9/30\n",
            "316/316 [==============================] - 86s 273ms/step - loss: 0.7392 - accuracy: 0.7497\n",
            "Epoch 10/30\n",
            "316/316 [==============================] - 84s 267ms/step - loss: 0.7324 - accuracy: 0.7487\n",
            "Epoch 11/30\n",
            "316/316 [==============================] - 86s 272ms/step - loss: 0.6531 - accuracy: 0.7827\n",
            "Epoch 12/30\n",
            "316/316 [==============================] - 84s 267ms/step - loss: 0.6203 - accuracy: 0.7956\n",
            "Epoch 13/30\n",
            "316/316 [==============================] - 84s 267ms/step - loss: 0.6041 - accuracy: 0.7907\n",
            "Epoch 14/30\n",
            "316/316 [==============================] - 86s 272ms/step - loss: 0.5643 - accuracy: 0.8074\n",
            "Epoch 15/30\n",
            "316/316 [==============================] - 87s 274ms/step - loss: 0.5516 - accuracy: 0.8082\n",
            "Epoch 16/30\n",
            "316/316 [==============================] - 85s 270ms/step - loss: 0.5472 - accuracy: 0.8150\n",
            "Epoch 17/30\n",
            "316/316 [==============================] - 85s 268ms/step - loss: 0.5134 - accuracy: 0.8182\n",
            "Epoch 18/30\n",
            "316/316 [==============================] - 86s 273ms/step - loss: 0.4812 - accuracy: 0.8277\n",
            "Epoch 19/30\n",
            "316/316 [==============================] - 84s 268ms/step - loss: 0.4744 - accuracy: 0.8370\n",
            "Epoch 20/30\n",
            "316/316 [==============================] - 82s 261ms/step - loss: 0.4512 - accuracy: 0.8357\n",
            "Epoch 21/30\n",
            "316/316 [==============================] - 81s 257ms/step - loss: 0.4347 - accuracy: 0.8494\n",
            "Epoch 22/30\n",
            "316/316 [==============================] - 81s 257ms/step - loss: 0.4205 - accuracy: 0.8501\n",
            "Epoch 23/30\n",
            "316/316 [==============================] - 82s 260ms/step - loss: 0.4078 - accuracy: 0.8526\n",
            "Epoch 24/30\n",
            "316/316 [==============================] - 81s 256ms/step - loss: 0.4024 - accuracy: 0.8549\n",
            "Epoch 25/30\n",
            "316/316 [==============================] - 82s 261ms/step - loss: 0.3939 - accuracy: 0.8596\n",
            "Epoch 26/30\n",
            "316/316 [==============================] - 81s 256ms/step - loss: 0.3741 - accuracy: 0.8644\n",
            "Epoch 27/30\n",
            "316/316 [==============================] - 81s 256ms/step - loss: 0.3592 - accuracy: 0.8739\n",
            "Epoch 28/30\n",
            "316/316 [==============================] - 82s 260ms/step - loss: 0.3655 - accuracy: 0.8693\n",
            "Epoch 29/30\n",
            "316/316 [==============================] - 80s 254ms/step - loss: 0.3496 - accuracy: 0.8727\n",
            "Epoch 30/30\n",
            "316/316 [==============================] - 80s 254ms/step - loss: 0.3429 - accuracy: 0.8803\n"
          ]
        },
        {
          "output_type": "display_data",
          "data": {
            "text/plain": [
              "<Figure size 640x480 with 1 Axes>"
            ],
            "image/png": "[encoded data removed]"
          },
          "metadata": {}
        }
      ]
    },
    {
      "cell_type": "code",
      "source": [
        "# # Training the model\n",
        "# model.fit(\n",
        "#     train_generator,\n",
        "#     steps_per_epoch=train_generator.samples // batch_size,\n",
        "#     epochs=epochs,\n",
        "# )"
      ],
      "metadata": {
        "id": "kNaa8ILNkVVg"
      },
      "execution_count": null,
      "outputs": []
    },
    {
      "cell_type": "code",
      "source": [
        "# Plotting the accuracy\n",
        "plt.title('Model Accuracy')\n",
        "plt.xlabel('Epoch')\n",
        "plt.ylabel('Accuracy')\n",
        "plt.plot(history.history['accuracy'], label='Train')\n",
        "plt.legend(loc='upper left')\n",
        "plt.show()"
      ],
      "metadata": {
        "id": "Myy4mu2Rxka-",
        "colab": {
          "base_uri": "https://localhost:8080/",
          "height": 472
        },
        "outputId": "334f875d-146e-4508-9516-8d3216b7801e"
      },
      "execution_count": null,
      "outputs": [
        {
          "output_type": "display_data",
          "data": {
            "text/plain": [
              "<Figure size 640x480 with 1 Axes>"
            ],
            "image/png": "[encoded data removed]"
          },
          "metadata": {}
        }
      ]
    },
    {
      "cell_type": "code",
      "source": [
        "# Saving the trained model\n",
        "model.save('project4_model.h5')"
      ],
      "metadata": {
        "id": "Yir-2nh6oehI"
      },
      "execution_count": null,
      "outputs": []
    },
    {
      "cell_type": "code",
      "source": [
        "# Loading the trained model\n",
        "model = tf.keras.models.load_model('project4_model.h5')"
      ],
      "metadata": {
        "id": "V_ydu0nf-dbd"
      },
      "execution_count": null,
      "outputs": []
    },
    {
      "cell_type": "code",
      "source": [
        "# Creating an ImageDataGenerator for the testing dataset\n",
        "test_datagen = ImageDataGenerator(rescale=1.0/255)"
      ],
      "metadata": {
        "id": "RL-94Hiz-hGM"
      },
      "execution_count": null,
      "outputs": []
    },
    {
      "cell_type": "code",
      "source": [
        "# Loading the filenames of the images in the testing dataset\n",
        "test_filenames = os.listdir(test_data_dir)"
      ],
      "metadata": {
        "id": "UHnRz1e4-nlu"
      },
      "execution_count": null,
      "outputs": []
    },
    {
      "cell_type": "code",
      "source": [
        "# Creating a dataframe with the filenames\n",
        "test_df = pd.DataFrame({'filename': test_filenames})\n",
        "print(test_filenames)\n",
        "print(len(test_filenames))"
      ],
      "metadata": {
        "id": "JBkrDWSd-qhe",
        "colab": {
          "base_uri": "https://localhost:8080/"
        },
        "outputId": "f09c8f08-8236-4aec-d306-600d11d98d8d"
      },
      "execution_count": null,
      "outputs": [
        {
          "output_type": "stream",
          "name": "stdout",
          "text": [
            "['test']\n",
            "1\n"
          ]
        }
      ]
    },
    {
      "cell_type": "code",
      "source": [
        "# Generating the test data generator from the dataframe\n",
        "test_generator = test_datagen.flow_from_dataframe(\n",
        "    test_df,\n",
        "    directory=test_data_dir,\n",
        "    x_col='filename',\n",
        "    y_col=None,\n",
        "    target_size=(img_width, img_height),\n",
        "    batch_size=batch_size,\n",
        "    class_mode=None,\n",
        "    shuffle=False\n",
        ")"
      ],
      "metadata": {
        "id": "Lw6VXK9O6c7d",
        "colab": {
          "base_uri": "https://localhost:8080/"
        },
        "outputId": "6105a629-c499-410f-8813-91a6905c5cea"
      },
      "execution_count": null,
      "outputs": [
        {
          "output_type": "stream",
          "name": "stdout",
          "text": [
            "Found 0 validated image filenames.\n"
          ]
        },
        {
          "output_type": "stream",
          "name": "stderr",
          "text": [
            "/usr/local/lib/python3.10/dist-packages/keras/preprocessing/image.py:1137: UserWarning: Found 1 invalid image filename(s) in x_col=\"filename\". These filename(s) will be ignored.\n",
            "  warnings.warn(\n"
          ]
        }
      ]
    },
    {
      "cell_type": "code",
      "source": [
        "# Predicting the classes for the test images\n",
        "predictions = model.predict(test_generator)"
      ],
      "metadata": {
        "id": "Iuw9fPHO-35i",
        "colab": {
          "base_uri": "https://localhost:8080/",
          "height": 329
        },
        "outputId": "019de7e1-e069-4a93-c9c5-3c837a663581"
      },
      "execution_count": null,
      "outputs": [
        {
          "output_type": "error",
          "ename": "ValueError",
          "evalue": "ignored",
          "traceback": [
            "\u001b[0;31m---------------------------------------------------------------------------\u001b[0m",
            "\u001b[0;31mValueError\u001b[0m                                Traceback (most recent call last)",
            "\u001b[0;32m<ipython-input-38-695f3ab17956>\u001b[0m in \u001b[0;36m<cell line: 2>\u001b[0;34m()\u001b[0m\n\u001b[1;32m      1\u001b[0m \u001b[0;31m# Predicting the classes for the test images\u001b[0m\u001b[0;34m\u001b[0m\u001b[0;34m\u001b[0m\u001b[0m\n\u001b[0;32m----> 2\u001b[0;31m \u001b[0mpredictions\u001b[0m \u001b[0;34m=\u001b[0m \u001b[0mmodel\u001b[0m\u001b[0;34m.\u001b[0m\u001b[0mpredict\u001b[0m\u001b[0;34m(\u001b[0m\u001b[0mtest_generator\u001b[0m\u001b[0;34m)\u001b[0m\u001b[0;34m\u001b[0m\u001b[0;34m\u001b[0m\u001b[0m\n\u001b[0m",
            "\u001b[0;32m/usr/local/lib/python3.10/dist-packages/keras/utils/traceback_utils.py\u001b[0m in \u001b[0;36merror_handler\u001b[0;34m(*args, **kwargs)\u001b[0m\n\u001b[1;32m     68\u001b[0m             \u001b[0;31m# To get the full stack trace, call:\u001b[0m\u001b[0;34m\u001b[0m\u001b[0;34m\u001b[0m\u001b[0m\n\u001b[1;32m     69\u001b[0m             \u001b[0;31m# `tf.debugging.disable_traceback_filtering()`\u001b[0m\u001b[0;34m\u001b[0m\u001b[0;34m\u001b[0m\u001b[0m\n\u001b[0;32m---> 70\u001b[0;31m             \u001b[0;32mraise\u001b[0m \u001b[0me\u001b[0m\u001b[0;34m.\u001b[0m\u001b[0mwith_traceback\u001b[0m\u001b[0;34m(\u001b[0m\u001b[0mfiltered_tb\u001b[0m\u001b[0;34m)\u001b[0m \u001b[0;32mfrom\u001b[0m \u001b[0;32mNone\u001b[0m\u001b[0;34m\u001b[0m\u001b[0;34m\u001b[0m\u001b[0m\n\u001b[0m\u001b[1;32m     71\u001b[0m         \u001b[0;32mfinally\u001b[0m\u001b[0;34m:\u001b[0m\u001b[0;34m\u001b[0m\u001b[0;34m\u001b[0m\u001b[0m\n\u001b[1;32m     72\u001b[0m             \u001b[0;32mdel\u001b[0m \u001b[0mfiltered_tb\u001b[0m\u001b[0;34m\u001b[0m\u001b[0;34m\u001b[0m\u001b[0m\n",
            "\u001b[0;32m/usr/local/lib/python3.10/dist-packages/keras/preprocessing/image.py\u001b[0m in \u001b[0;36m__getitem__\u001b[0;34m(self, idx)\u001b[0m\n\u001b[1;32m    101\u001b[0m     \u001b[0;32mdef\u001b[0m \u001b[0m__getitem__\u001b[0m\u001b[0;34m(\u001b[0m\u001b[0mself\u001b[0m\u001b[0;34m,\u001b[0m \u001b[0midx\u001b[0m\u001b[0;34m)\u001b[0m\u001b[0;34m:\u001b[0m\u001b[0;34m\u001b[0m\u001b[0;34m\u001b[0m\u001b[0m\n\u001b[1;32m    102\u001b[0m         \u001b[0;32mif\u001b[0m \u001b[0midx\u001b[0m \u001b[0;34m>=\u001b[0m \u001b[0mlen\u001b[0m\u001b[0;34m(\u001b[0m\u001b[0mself\u001b[0m\u001b[0;34m)\u001b[0m\u001b[0;34m:\u001b[0m\u001b[0;34m\u001b[0m\u001b[0;34m\u001b[0m\u001b[0m\n\u001b[0;32m--> 103\u001b[0;31m             raise ValueError(\n\u001b[0m\u001b[1;32m    104\u001b[0m                 \u001b[0;34m\"Asked to retrieve element {idx}, \"\u001b[0m\u001b[0;34m\u001b[0m\u001b[0;34m\u001b[0m\u001b[0m\n\u001b[1;32m    105\u001b[0m                 \u001b[0;34m\"but the Sequence \"\u001b[0m\u001b[0;34m\u001b[0m\u001b[0;34m\u001b[0m\u001b[0m\n",
            "\u001b[0;31mValueError\u001b[0m: Asked to retrieve element 0, but the Sequence has length 0"
          ]
        }
      ]
    },
    {
      "cell_type": "code",
      "source": [
        "# Maping predicted class indices to class labels\n",
        "class_labels = list(train_generator.class_indices.keys())\n",
        "predicted_classes = [class_labels[prediction.argmax()] for prediction in predictions]"
      ],
      "metadata": {
        "id": "gjawh6Vf-4Zh"
      },
      "execution_count": null,
      "outputs": []
    },
    {
      "cell_type": "code",
      "source": [
        "# Printing the predicted classes\n",
        "print(predicted_classes)"
      ],
      "metadata": {
        "id": "gcU3Ouro-7Pw"
      },
      "execution_count": null,
      "outputs": []
    },
    {
      "cell_type": "code",
      "source": [
        "# Adding the predicted classes to the dataframe\n",
        "test_df['predictions'] = predicted_classes\n",
        "test_df.head()"
      ],
      "metadata": {
        "id": "kxAk8ntTMZdA"
      },
      "execution_count": null,
      "outputs": []
    },
    {
      "cell_type": "code",
      "source": [
        "# Creating the predicted subfolders for each type\n",
        "predicted_dir = '/content/drive/MyDrive/images/predictions'\n",
        "os.makedirs(predicted_dir, exist_ok=True)\n",
        "for class_label in class_labels:\n",
        "    class_dir = os.path.join(predicted_dir, class_label)\n",
        "    os.makedirs(class_dir, exist_ok=True)"
      ],
      "metadata": {
        "id": "m-Iek84E-NT3"
      },
      "execution_count": null,
      "outputs": []
    },
    {
      "cell_type": "code",
      "source": [
        "# Copying the images to their predicted folders\n",
        "for filename, predicted_class in zip(test_filenames, predicted_classes):\n",
        "    source_path = os.path.join(test_data_dir, filename)\n",
        "    destination_path = os.path.join(predicted_dir, predicted_class, filename)\n",
        "    shutil.copy(source_path, destination_path)\n",
        "\n",
        "print(\"Images have been copyed to their respective predicted folders.\")"
      ],
      "metadata": {
        "id": "A7ERh6BW-SNE"
      },
      "execution_count": null,
      "outputs": []
    }
  ]
}