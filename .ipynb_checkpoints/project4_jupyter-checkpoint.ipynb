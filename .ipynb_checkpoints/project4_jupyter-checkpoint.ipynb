{
 "cells": [
  {
   "cell_type": "code",
   "execution_count": 1,
   "id": "c11b5655",
   "metadata": {},
   "outputs": [],
   "source": [
    "# Importing required items\n",
    "import tensorflow as tf\n",
    "from tensorflow.keras.preprocessing.image import ImageDataGenerator\n",
    "from tensorflow.keras.optimizers import Adam\n",
    "import os\n",
    "import pandas as pd\n",
    "import shutil"
   ]
  },
  {
   "cell_type": "code",
   "execution_count": 2,
   "id": "d852211f",
   "metadata": {},
   "outputs": [],
   "source": [
    "# Defining the training and testing directories\n",
    "training_data_dir = 'images/train'\n",
    "test_data_dir = 'images/test'"
   ]
  },
  {
   "cell_type": "code",
   "execution_count": 3,
   "id": "ca26074d",
   "metadata": {},
   "outputs": [],
   "source": [
    "# Defining hyperparameters\n",
    "img_width, img_height = 150, 150\n",
    "batch_size = 15\n",
    "epochs = 30\n",
    "num_classes = 12  # Number of different types in dataset"
   ]
  },
  {
   "cell_type": "code",
   "execution_count": 4,
   "id": "04731b8b",
   "metadata": {},
   "outputs": [],
   "source": [
    "# Defining data preprocessing and augmentation\n",
    "train_datagen = ImageDataGenerator(\n",
    "    rescale=1/255,\n",
    "    shear_range=0.2,\n",
    "    zoom_range=0.2,\n",
    "    horizontal_flip=True\n",
    ")"
   ]
  },
  {
   "cell_type": "code",
   "execution_count": 5,
   "id": "9a348079",
   "metadata": {},
   "outputs": [],
   "source": [
    "test_datagen = ImageDataGenerator(rescale=1/255)"
   ]
  },
  {
   "cell_type": "code",
   "execution_count": 6,
   "id": "6dacece7",
   "metadata": {},
   "outputs": [
    {
     "name": "stdout",
     "output_type": "stream",
     "text": [
      "Found 4750 images belonging to 12 classes.\n"
     ]
    }
   ],
   "source": [
    "# Defining training generator\n",
    "train_generator = train_datagen.flow_from_directory(\n",
    "    training_data_dir,\n",
    "    target_size=(img_width, img_height),\n",
    "    batch_size=batch_size,\n",
    "    class_mode='categorical'\n",
    ")"
   ]
  },
  {
   "cell_type": "code",
   "execution_count": 7,
   "id": "8eeaeef2",
   "metadata": {},
   "outputs": [],
   "source": [
    "# Defining the model architecture\n",
    "model = tf.keras.models.Sequential([\n",
    "    tf.keras.layers.Conv2D(64, (3, 3), activation='relu', input_shape=(img_width, img_height, 3)),\n",
    "    tf.keras.layers.MaxPooling2D(pool_size=(2, 2)),\n",
    "    tf.keras.layers.Conv2D(128, (3, 3), activation='relu'),\n",
    "    tf.keras.layers.MaxPooling2D(pool_size=(2, 2)),\n",
    "    tf.keras.layers.Conv2D(256, (3, 3), activation='relu'),\n",
    "    tf.keras.layers.MaxPooling2D(pool_size=(2, 2)),\n",
    "    tf.keras.layers.Flatten(),\n",
    "    tf.keras.layers.Dense(256, activation='relu'),\n",
    "    tf.keras.layers.Dropout(0.5),\n",
    "    tf.keras.layers.Dense(num_classes, activation='softmax')\n",
    "])"
   ]
  },
  {
   "cell_type": "code",
   "execution_count": 8,
   "id": "9d161cb3",
   "metadata": {},
   "outputs": [],
   "source": [
    "# Adjusting learning rate and change optimization algorithm\n",
    "learning_rate = 0.001\n",
    "optimizer = Adam(learning_rate=learning_rate)"
   ]
  },
  {
   "cell_type": "code",
   "execution_count": 9,
   "id": "0e87f3ac",
   "metadata": {},
   "outputs": [],
   "source": [
    "# Compiling the model\n",
    "model.compile(\n",
    "    loss='categorical_crossentropy',\n",
    "    optimizer=optimizer,\n",
    "    metrics=['accuracy']\n",
    ")"
   ]
  },
  {
   "cell_type": "code",
   "execution_count": 10,
   "id": "9b97ec86",
   "metadata": {},
   "outputs": [],
   "source": [
    "# Optimizing and improving memory usage\n",
    "tf.config.optimizer.set_jit(True)"
   ]
  },
  {
   "cell_type": "code",
   "execution_count": 11,
   "id": "9cdb8005",
   "metadata": {},
   "outputs": [
    {
     "name": "stdout",
     "output_type": "stream",
     "text": [
      "Epoch 1/30\n",
      "316/316 [==============================] - 1868s 6s/step - loss: 1.9083 - accuracy: 0.3521\n",
      "Epoch 2/30\n",
      "316/316 [==============================] - 207s 656ms/step - loss: 1.4270 - accuracy: 0.5115\n",
      "Epoch 3/30\n",
      "316/316 [==============================] - 256s 808ms/step - loss: 1.1657 - accuracy: 0.5958\n",
      "Epoch 4/30\n",
      "316/316 [==============================] - 229s 724ms/step - loss: 1.0303 - accuracy: 0.6532\n",
      "Epoch 5/30\n",
      "316/316 [==============================] - 238s 751ms/step - loss: 0.8882 - accuracy: 0.7083\n",
      "Epoch 6/30\n",
      "316/316 [==============================] - 230s 728ms/step - loss: 0.8131 - accuracy: 0.7233\n",
      "Epoch 7/30\n",
      "316/316 [==============================] - 235s 744ms/step - loss: 0.7513 - accuracy: 0.7464\n",
      "Epoch 8/30\n",
      "316/316 [==============================] - 233s 738ms/step - loss: 0.7128 - accuracy: 0.7576\n",
      "Epoch 9/30\n",
      "316/316 [==============================] - 234s 741ms/step - loss: 0.6564 - accuracy: 0.7747\n",
      "Epoch 10/30\n",
      "316/316 [==============================] - 237s 749ms/step - loss: 0.6274 - accuracy: 0.7878\n",
      "Epoch 11/30\n",
      "316/316 [==============================] - 231s 729ms/step - loss: 0.6041 - accuracy: 0.7996\n",
      "Epoch 12/30\n",
      "316/316 [==============================] - 233s 736ms/step - loss: 0.5655 - accuracy: 0.8053\n",
      "Epoch 13/30\n",
      "316/316 [==============================] - 232s 734ms/step - loss: 0.5222 - accuracy: 0.8139\n",
      "Epoch 14/30\n",
      "316/316 [==============================] - 226s 716ms/step - loss: 0.4965 - accuracy: 0.8222\n",
      "Epoch 15/30\n",
      "316/316 [==============================] - 238s 754ms/step - loss: 0.4590 - accuracy: 0.8359\n",
      "Epoch 16/30\n",
      "316/316 [==============================] - 238s 755ms/step - loss: 0.4239 - accuracy: 0.8501\n",
      "Epoch 17/30\n",
      "316/316 [==============================] - 241s 762ms/step - loss: 0.4402 - accuracy: 0.8450\n",
      "Epoch 18/30\n",
      "316/316 [==============================] - 229s 724ms/step - loss: 0.4001 - accuracy: 0.8617\n",
      "Epoch 19/30\n",
      "316/316 [==============================] - 236s 747ms/step - loss: 0.3544 - accuracy: 0.8767\n",
      "Epoch 20/30\n",
      "316/316 [==============================] - 245s 776ms/step - loss: 0.3604 - accuracy: 0.8705\n",
      "Epoch 21/30\n",
      "316/316 [==============================] - 234s 741ms/step - loss: 0.3517 - accuracy: 0.8788\n",
      "Epoch 22/30\n",
      "316/316 [==============================] - 232s 733ms/step - loss: 0.3229 - accuracy: 0.8845\n",
      "Epoch 23/30\n",
      "316/316 [==============================] - 236s 745ms/step - loss: 0.3110 - accuracy: 0.8927\n",
      "Epoch 24/30\n",
      "316/316 [==============================] - 252s 798ms/step - loss: 0.2992 - accuracy: 0.8874\n",
      "Epoch 25/30\n",
      "316/316 [==============================] - 228s 722ms/step - loss: 0.2947 - accuracy: 0.8959\n",
      "Epoch 26/30\n",
      "316/316 [==============================] - 243s 769ms/step - loss: 0.2875 - accuracy: 0.8986\n",
      "Epoch 27/30\n",
      "316/316 [==============================] - 246s 778ms/step - loss: 0.2447 - accuracy: 0.9143\n",
      "Epoch 28/30\n",
      "316/316 [==============================] - 246s 779ms/step - loss: 0.2314 - accuracy: 0.9176\n",
      "Epoch 29/30\n",
      "316/316 [==============================] - 237s 749ms/step - loss: 0.2666 - accuracy: 0.9050\n",
      "Epoch 30/30\n",
      "316/316 [==============================] - 231s 730ms/step - loss: 0.2393 - accuracy: 0.9170\n"
     ]
    },
    {
     "data": {
      "text/plain": [
       "<keras.src.callbacks.History at 0x1ab96c12680>"
      ]
     },
     "execution_count": 11,
     "metadata": {},
     "output_type": "execute_result"
    }
   ],
   "source": [
    "# Training the model\n",
    "model.fit(\n",
    "    train_generator,\n",
    "    steps_per_epoch=train_generator.samples // batch_size,\n",
    "    epochs=epochs,\n",
    ")"
   ]
  },
  {
   "cell_type": "code",
   "execution_count": 12,
   "id": "2b80140f",
   "metadata": {},
   "outputs": [
    {
     "name": "stderr",
     "output_type": "stream",
     "text": [
      "C:\\Users\\skola\\anaconda3\\lib\\site-packages\\keras\\src\\engine\\training.py:3000: UserWarning: You are saving your model as an HDF5 file via `model.save()`. This file format is considered legacy. We recommend using instead the native Keras format, e.g. `model.save('my_model.keras')`.\n",
      "  saving_api.save_model(\n"
     ]
    }
   ],
   "source": [
    "# Saving the trained model\n",
    "model.save('project4_jupyter_model.h5')"
   ]
  },
  {
   "cell_type": "code",
   "execution_count": 13,
   "id": "8b493060",
   "metadata": {},
   "outputs": [],
   "source": [
    "# Loading the trained model\n",
    "model = tf.keras.models.load_model('project4_jupyter_model.h5')"
   ]
  },
  {
   "cell_type": "code",
   "execution_count": 14,
   "id": "0ac38d1e",
   "metadata": {},
   "outputs": [],
   "source": [
    "# Creating an ImageDataGenerator for the testing dataset\n",
    "test_datagen = ImageDataGenerator(rescale=1.0/255)"
   ]
  },
  {
   "cell_type": "code",
   "execution_count": 15,
   "id": "22f120d6",
   "metadata": {},
   "outputs": [],
   "source": [
    "# Loading the filenames of the images in the testing dataset\n",
    "test_filenames = os.listdir(test_data_dir)"
   ]
  },
  {
   "cell_type": "code",
   "execution_count": 17,
   "id": "2cdf0771",
   "metadata": {},
   "outputs": [],
   "source": [
    "# Creating a dataframe with the filenames\n",
    "test_df = pd.DataFrame({'filename': test_filenames})"
   ]
  },
  {
   "cell_type": "code",
   "execution_count": 18,
   "id": "ea95a3dd",
   "metadata": {},
   "outputs": [
    {
     "name": "stdout",
     "output_type": "stream",
     "text": [
      "Found 794 validated image filenames.\n"
     ]
    }
   ],
   "source": [
    "# Generating the test data generator from the dataframe\n",
    "test_generator = test_datagen.flow_from_dataframe(\n",
    "    test_df,\n",
    "    directory=test_data_dir,\n",
    "    x_col='filename',\n",
    "    y_col=None,\n",
    "    target_size=(img_width, img_height),\n",
    "    batch_size=batch_size,\n",
    "    class_mode=None,\n",
    "    shuffle=False\n",
    ")"
   ]
  },
  {
   "cell_type": "code",
   "execution_count": 19,
   "id": "00f5a752",
   "metadata": {},
   "outputs": [
    {
     "name": "stdout",
     "output_type": "stream",
     "text": [
      "53/53 [==============================] - 161s 3s/step\n"
     ]
    }
   ],
   "source": [
    "# Predicting the classes for the test images\n",
    "predictions = model.predict(test_generator)"
   ]
  },
  {
   "cell_type": "code",
   "execution_count": 21,
   "id": "b0910d00",
   "metadata": {},
   "outputs": [],
   "source": [
    "# Maping predicted class indices to class labels\n",
    "class_labels = list(train_generator.class_indices.keys())\n",
    "predicted_classes = [class_labels[prediction.argmax()] for prediction in predictions]"
   ]
  },
  {
   "cell_type": "code",
   "execution_count": 22,
   "id": "971fdabc",
   "metadata": {},
   "outputs": [
    {
     "name": "stdout",
     "output_type": "stream",
     "text": [
      "['Small-flowered Cranesbill', 'Fat Hen', 'Sugar beet', 'Common Chickweed', 'Sugar beet', 'Loose Silky-bent', 'Common Chickweed', 'Fat Hen', 'Black-grass', 'Loose Silky-bent', 'Common Chickweed', 'Small-flowered Cranesbill', 'Sugar beet', 'Scentless Mayweed', 'Sugar beet', 'Fat Hen', 'Scentless Mayweed', 'Scentless Mayweed', 'Common Chickweed', 'Charlock', 'Common Chickweed', 'Small-flowered Cranesbill', 'Shepherds Purse', 'Sugar beet', 'Sugar beet', 'Maize', 'Shepherds Purse', 'Scentless Mayweed', 'Common Chickweed', 'Sugar beet', 'Common Chickweed', 'Shepherds Purse', 'Black-grass', 'Maize', 'Loose Silky-bent', 'Loose Silky-bent', 'Loose Silky-bent', 'Loose Silky-bent', 'Common Chickweed', 'Maize', 'Small-flowered Cranesbill', 'Common wheat', 'Common Chickweed', 'Small-flowered Cranesbill', 'Sugar beet', 'Cleavers', 'Maize', 'Common Chickweed', 'Maize', 'Small-flowered Cranesbill', 'Loose Silky-bent', 'Sugar beet', 'Cleavers', 'Loose Silky-bent', 'Maize', 'Fat Hen', 'Charlock', 'Small-flowered Cranesbill', 'Cleavers', 'Loose Silky-bent', 'Sugar beet', 'Cleavers', 'Charlock', 'Common wheat', 'Maize', 'Fat Hen', 'Loose Silky-bent', 'Loose Silky-bent', 'Shepherds Purse', 'Scentless Mayweed', 'Small-flowered Cranesbill', 'Common Chickweed', 'Scentless Mayweed', 'Common Chickweed', 'Common Chickweed', 'Common wheat', 'Loose Silky-bent', 'Scentless Mayweed', 'Scentless Mayweed', 'Loose Silky-bent', 'Sugar beet', 'Common Chickweed', 'Common Chickweed', 'Common wheat', 'Shepherds Purse', 'Sugar beet', 'Cleavers', 'Scentless Mayweed', 'Fat Hen', 'Common wheat', 'Charlock', 'Black-grass', 'Fat Hen', 'Loose Silky-bent', 'Common Chickweed', 'Loose Silky-bent', 'Small-flowered Cranesbill', 'Shepherds Purse', 'Maize', 'Small-flowered Cranesbill', 'Fat Hen', 'Fat Hen', 'Scentless Mayweed', 'Sugar beet', 'Fat Hen', 'Fat Hen', 'Common Chickweed', 'Scentless Mayweed', 'Cleavers', 'Cleavers', 'Loose Silky-bent', 'Charlock', 'Common Chickweed', 'Shepherds Purse', 'Shepherds Purse', 'Sugar beet', 'Cleavers', 'Charlock', 'Sugar beet', 'Common Chickweed', 'Common Chickweed', 'Sugar beet', 'Cleavers', 'Loose Silky-bent', 'Small-flowered Cranesbill', 'Common wheat', 'Charlock', 'Maize', 'Fat Hen', 'Common Chickweed', 'Sugar beet', 'Sugar beet', 'Common Chickweed', 'Common Chickweed', 'Fat Hen', 'Common wheat', 'Fat Hen', 'Charlock', 'Loose Silky-bent', 'Common Chickweed', 'Loose Silky-bent', 'Small-flowered Cranesbill', 'Shepherds Purse', 'Common Chickweed', 'Fat Hen', 'Sugar beet', 'Common wheat', 'Small-flowered Cranesbill', 'Sugar beet', 'Charlock', 'Scentless Mayweed', 'Loose Silky-bent', 'Maize', 'Scentless Mayweed', 'Loose Silky-bent', 'Small-flowered Cranesbill', 'Common Chickweed', 'Fat Hen', 'Black-grass', 'Cleavers', 'Charlock', 'Loose Silky-bent', 'Scentless Mayweed', 'Scentless Mayweed', 'Shepherds Purse', 'Black-grass', 'Common Chickweed', 'Common wheat', 'Common Chickweed', 'Common Chickweed', 'Shepherds Purse', 'Maize', 'Shepherds Purse', 'Common Chickweed', 'Common Chickweed', 'Small-flowered Cranesbill', 'Black-grass', 'Cleavers', 'Loose Silky-bent', 'Loose Silky-bent', 'Loose Silky-bent', 'Small-flowered Cranesbill', 'Loose Silky-bent', 'Black-grass', 'Scentless Mayweed', 'Loose Silky-bent', 'Common Chickweed', 'Fat Hen', 'Fat Hen', 'Small-flowered Cranesbill', 'Loose Silky-bent', 'Charlock', 'Scentless Mayweed', 'Scentless Mayweed', 'Charlock', 'Black-grass', 'Common wheat', 'Common Chickweed', 'Loose Silky-bent', 'Common Chickweed', 'Cleavers', 'Loose Silky-bent', 'Charlock', 'Charlock', 'Small-flowered Cranesbill', 'Cleavers', 'Fat Hen', 'Common Chickweed', 'Fat Hen', 'Shepherds Purse', 'Fat Hen', 'Charlock', 'Fat Hen', 'Black-grass', 'Small-flowered Cranesbill', 'Cleavers', 'Maize', 'Loose Silky-bent', 'Small-flowered Cranesbill', 'Common Chickweed', 'Scentless Mayweed', 'Fat Hen', 'Common Chickweed', 'Small-flowered Cranesbill', 'Common wheat', 'Fat Hen', 'Fat Hen', 'Common Chickweed', 'Common Chickweed', 'Maize', 'Shepherds Purse', 'Cleavers', 'Shepherds Purse', 'Cleavers', 'Common Chickweed', 'Black-grass', 'Black-grass', 'Cleavers', 'Small-flowered Cranesbill', 'Charlock', 'Sugar beet', 'Common Chickweed', 'Maize', 'Small-flowered Cranesbill', 'Charlock', 'Shepherds Purse', 'Loose Silky-bent', 'Fat Hen', 'Small-flowered Cranesbill', 'Fat Hen', 'Common Chickweed', 'Black-grass', 'Common Chickweed', 'Common Chickweed', 'Common Chickweed', 'Common wheat', 'Cleavers', 'Charlock', 'Small-flowered Cranesbill', 'Common Chickweed', 'Black-grass', 'Maize', 'Common Chickweed', 'Maize', 'Small-flowered Cranesbill', 'Cleavers', 'Fat Hen', 'Shepherds Purse', 'Common Chickweed', 'Shepherds Purse', 'Charlock', 'Loose Silky-bent', 'Loose Silky-bent', 'Small-flowered Cranesbill', 'Common Chickweed', 'Small-flowered Cranesbill', 'Loose Silky-bent', 'Common Chickweed', 'Small-flowered Cranesbill', 'Cleavers', 'Black-grass', 'Loose Silky-bent', 'Maize', 'Sugar beet', 'Maize', 'Loose Silky-bent', 'Common Chickweed', 'Common Chickweed', 'Maize', 'Common Chickweed', 'Loose Silky-bent', 'Scentless Mayweed', 'Charlock', 'Maize', 'Small-flowered Cranesbill', 'Sugar beet', 'Small-flowered Cranesbill', 'Loose Silky-bent', 'Small-flowered Cranesbill', 'Fat Hen', 'Shepherds Purse', 'Common Chickweed', 'Cleavers', 'Small-flowered Cranesbill', 'Sugar beet', 'Sugar beet', 'Charlock', 'Loose Silky-bent', 'Common wheat', 'Cleavers', 'Sugar beet', 'Loose Silky-bent', 'Scentless Mayweed', 'Common wheat', 'Shepherds Purse', 'Loose Silky-bent', 'Sugar beet', 'Charlock', 'Loose Silky-bent', 'Small-flowered Cranesbill', 'Sugar beet', 'Charlock', 'Charlock', 'Small-flowered Cranesbill', 'Small-flowered Cranesbill', 'Small-flowered Cranesbill', 'Black-grass', 'Sugar beet', 'Small-flowered Cranesbill', 'Sugar beet', 'Charlock', 'Scentless Mayweed', 'Loose Silky-bent', 'Loose Silky-bent', 'Sugar beet', 'Cleavers', 'Cleavers', 'Shepherds Purse', 'Loose Silky-bent', 'Cleavers', 'Small-flowered Cranesbill', 'Scentless Mayweed', 'Common Chickweed', 'Charlock', 'Charlock', 'Fat Hen', 'Common Chickweed', 'Maize', 'Loose Silky-bent', 'Sugar beet', 'Black-grass', 'Fat Hen', 'Loose Silky-bent', 'Charlock', 'Fat Hen', 'Loose Silky-bent', 'Loose Silky-bent', 'Common Chickweed', 'Scentless Mayweed', 'Small-flowered Cranesbill', 'Small-flowered Cranesbill', 'Common Chickweed', 'Charlock', 'Cleavers', 'Loose Silky-bent', 'Charlock', 'Black-grass', 'Scentless Mayweed', 'Small-flowered Cranesbill', 'Small-flowered Cranesbill', 'Sugar beet', 'Common Chickweed', 'Common Chickweed', 'Charlock', 'Sugar beet', 'Sugar beet', 'Loose Silky-bent', 'Loose Silky-bent', 'Common wheat', 'Common Chickweed', 'Charlock', 'Sugar beet', 'Scentless Mayweed', 'Shepherds Purse', 'Loose Silky-bent', 'Loose Silky-bent', 'Scentless Mayweed', 'Sugar beet', 'Common Chickweed', 'Common Chickweed', 'Loose Silky-bent', 'Sugar beet', 'Sugar beet', 'Scentless Mayweed', 'Fat Hen', 'Charlock', 'Shepherds Purse', 'Charlock', 'Shepherds Purse', 'Common Chickweed', 'Maize', 'Sugar beet', 'Scentless Mayweed', 'Shepherds Purse', 'Charlock', 'Loose Silky-bent', 'Fat Hen', 'Small-flowered Cranesbill', 'Fat Hen', 'Common wheat', 'Loose Silky-bent', 'Loose Silky-bent', 'Small-flowered Cranesbill', 'Small-flowered Cranesbill', 'Loose Silky-bent', 'Sugar beet', 'Fat Hen', 'Common Chickweed', 'Sugar beet', 'Fat Hen', 'Charlock', 'Common Chickweed', 'Black-grass', 'Loose Silky-bent', 'Common wheat', 'Small-flowered Cranesbill', 'Scentless Mayweed', 'Cleavers', 'Sugar beet', 'Small-flowered Cranesbill', 'Loose Silky-bent', 'Cleavers', 'Fat Hen', 'Small-flowered Cranesbill', 'Small-flowered Cranesbill', 'Small-flowered Cranesbill', 'Loose Silky-bent', 'Black-grass', 'Fat Hen', 'Loose Silky-bent', 'Common Chickweed', 'Charlock', 'Scentless Mayweed', 'Common wheat', 'Common Chickweed', 'Common Chickweed', 'Charlock', 'Shepherds Purse', 'Sugar beet', 'Small-flowered Cranesbill', 'Common Chickweed', 'Small-flowered Cranesbill', 'Scentless Mayweed', 'Shepherds Purse', 'Sugar beet', 'Common Chickweed', 'Scentless Mayweed', 'Charlock', 'Shepherds Purse', 'Sugar beet', 'Common Chickweed', 'Small-flowered Cranesbill', 'Cleavers', 'Loose Silky-bent', 'Fat Hen', 'Charlock', 'Black-grass', 'Charlock', 'Black-grass', 'Sugar beet', 'Small-flowered Cranesbill', 'Sugar beet', 'Common wheat', 'Common Chickweed', 'Shepherds Purse', 'Small-flowered Cranesbill', 'Common Chickweed', 'Shepherds Purse', 'Scentless Mayweed', 'Black-grass', 'Common wheat', 'Common wheat', 'Loose Silky-bent', 'Loose Silky-bent', 'Charlock', 'Scentless Mayweed', 'Sugar beet', 'Black-grass', 'Common wheat', 'Common Chickweed', 'Loose Silky-bent', 'Loose Silky-bent', 'Common wheat', 'Small-flowered Cranesbill', 'Small-flowered Cranesbill', 'Fat Hen', 'Shepherds Purse', 'Maize', 'Small-flowered Cranesbill', 'Small-flowered Cranesbill', 'Charlock', 'Small-flowered Cranesbill', 'Maize', 'Cleavers', 'Black-grass', 'Loose Silky-bent', 'Small-flowered Cranesbill', 'Charlock', 'Small-flowered Cranesbill', 'Common Chickweed', 'Small-flowered Cranesbill', 'Loose Silky-bent', 'Black-grass', 'Loose Silky-bent', 'Scentless Mayweed', 'Common Chickweed', 'Maize', 'Common Chickweed', 'Common Chickweed', 'Fat Hen', 'Sugar beet', 'Sugar beet', 'Fat Hen', 'Scentless Mayweed', 'Small-flowered Cranesbill', 'Charlock', 'Sugar beet', 'Shepherds Purse', 'Charlock', 'Loose Silky-bent', 'Loose Silky-bent', 'Scentless Mayweed', 'Loose Silky-bent', 'Common Chickweed', 'Charlock', 'Sugar beet', 'Black-grass', 'Cleavers', 'Common wheat', 'Scentless Mayweed', 'Common Chickweed', 'Loose Silky-bent', 'Black-grass', 'Common Chickweed', 'Black-grass', 'Loose Silky-bent', 'Common Chickweed', 'Shepherds Purse', 'Loose Silky-bent', 'Scentless Mayweed', 'Small-flowered Cranesbill', 'Small-flowered Cranesbill', 'Loose Silky-bent', 'Loose Silky-bent', 'Black-grass', 'Cleavers', 'Scentless Mayweed', 'Cleavers', 'Cleavers', 'Common wheat', 'Loose Silky-bent', 'Cleavers', 'Common Chickweed', 'Common Chickweed', 'Maize', 'Shepherds Purse', 'Fat Hen', 'Scentless Mayweed', 'Common Chickweed', 'Black-grass', 'Loose Silky-bent', 'Loose Silky-bent', 'Fat Hen', 'Small-flowered Cranesbill', 'Black-grass', 'Scentless Mayweed', 'Common wheat', 'Fat Hen', 'Shepherds Purse', 'Maize', 'Sugar beet', 'Loose Silky-bent', 'Shepherds Purse', 'Scentless Mayweed', 'Loose Silky-bent', 'Cleavers', 'Scentless Mayweed', 'Sugar beet', 'Fat Hen', 'Common Chickweed', 'Common Chickweed', 'Scentless Mayweed', 'Black-grass', 'Loose Silky-bent', 'Scentless Mayweed', 'Scentless Mayweed', 'Scentless Mayweed', 'Common Chickweed', 'Maize', 'Sugar beet', 'Scentless Mayweed', 'Common Chickweed', 'Fat Hen', 'Scentless Mayweed', 'Scentless Mayweed', 'Small-flowered Cranesbill', 'Small-flowered Cranesbill', 'Scentless Mayweed', 'Maize', 'Loose Silky-bent', 'Common Chickweed', 'Small-flowered Cranesbill', 'Scentless Mayweed', 'Charlock', 'Fat Hen', 'Black-grass', 'Scentless Mayweed', 'Common Chickweed', 'Loose Silky-bent', 'Sugar beet', 'Sugar beet', 'Cleavers', 'Loose Silky-bent', 'Common Chickweed', 'Shepherds Purse', 'Scentless Mayweed', 'Scentless Mayweed', 'Scentless Mayweed', 'Common wheat', 'Fat Hen', 'Common Chickweed', 'Small-flowered Cranesbill', 'Common wheat', 'Common Chickweed', 'Shepherds Purse', 'Charlock', 'Black-grass', 'Fat Hen', 'Small-flowered Cranesbill', 'Charlock', 'Sugar beet', 'Black-grass', 'Small-flowered Cranesbill', 'Small-flowered Cranesbill', 'Charlock', 'Common Chickweed', 'Loose Silky-bent', 'Sugar beet', 'Loose Silky-bent', 'Common Chickweed', 'Maize', 'Common Chickweed', 'Charlock', 'Fat Hen', 'Black-grass', 'Sugar beet', 'Loose Silky-bent', 'Common wheat', 'Cleavers', 'Small-flowered Cranesbill', 'Scentless Mayweed', 'Charlock', 'Common Chickweed', 'Loose Silky-bent', 'Fat Hen', 'Common Chickweed', 'Scentless Mayweed', 'Common wheat', 'Loose Silky-bent', 'Fat Hen', 'Common Chickweed', 'Sugar beet', 'Fat Hen', 'Small-flowered Cranesbill', 'Scentless Mayweed', 'Scentless Mayweed', 'Fat Hen', 'Common Chickweed', 'Small-flowered Cranesbill', 'Common Chickweed', 'Loose Silky-bent', 'Sugar beet', 'Shepherds Purse', 'Charlock', 'Common Chickweed', 'Black-grass', 'Charlock', 'Small-flowered Cranesbill', 'Loose Silky-bent', 'Loose Silky-bent', 'Sugar beet', 'Scentless Mayweed', 'Common Chickweed', 'Sugar beet', 'Small-flowered Cranesbill', 'Fat Hen', 'Sugar beet', 'Loose Silky-bent', 'Common Chickweed', 'Loose Silky-bent', 'Sugar beet', 'Common wheat', 'Common Chickweed', 'Scentless Mayweed', 'Loose Silky-bent', 'Charlock', 'Charlock', 'Loose Silky-bent', 'Sugar beet', 'Cleavers', 'Charlock', 'Sugar beet', 'Maize', 'Loose Silky-bent', 'Sugar beet', 'Fat Hen', 'Loose Silky-bent', 'Scentless Mayweed', 'Fat Hen', 'Common wheat', 'Sugar beet', 'Scentless Mayweed', 'Loose Silky-bent', 'Fat Hen', 'Sugar beet', 'Small-flowered Cranesbill', 'Black-grass', 'Cleavers', 'Small-flowered Cranesbill', 'Fat Hen', 'Fat Hen', 'Shepherds Purse', 'Black-grass', 'Common Chickweed', 'Shepherds Purse', 'Small-flowered Cranesbill', 'Small-flowered Cranesbill', 'Cleavers', 'Common Chickweed', 'Charlock', 'Black-grass', 'Sugar beet', 'Common Chickweed', 'Loose Silky-bent', 'Scentless Mayweed', 'Scentless Mayweed', 'Charlock', 'Charlock', 'Sugar beet', 'Black-grass', 'Shepherds Purse', 'Loose Silky-bent', 'Small-flowered Cranesbill', 'Cleavers', 'Scentless Mayweed', 'Loose Silky-bent', 'Charlock', 'Sugar beet', 'Fat Hen', 'Charlock', 'Scentless Mayweed', 'Sugar beet', 'Charlock', 'Small-flowered Cranesbill', 'Sugar beet', 'Maize', 'Shepherds Purse', 'Common Chickweed', 'Shepherds Purse', 'Cleavers', 'Fat Hen', 'Common Chickweed', 'Shepherds Purse', 'Cleavers', 'Charlock', 'Fat Hen', 'Black-grass', 'Charlock', 'Scentless Mayweed', 'Sugar beet', 'Cleavers', 'Black-grass', 'Common Chickweed', 'Common wheat', 'Loose Silky-bent', 'Common wheat', 'Loose Silky-bent', 'Common Chickweed', 'Common Chickweed', 'Loose Silky-bent', 'Sugar beet', 'Sugar beet', 'Charlock', 'Common wheat']\n"
     ]
    }
   ],
   "source": [
    "# Printing the predicted classes\n",
    "print(predicted_classes)"
   ]
  },
  {
   "cell_type": "code",
   "execution_count": 23,
   "id": "a52b9398",
   "metadata": {},
   "outputs": [
    {
     "data": {
      "text/html": [
       "<div>\n",
       "<style scoped>\n",
       "    .dataframe tbody tr th:only-of-type {\n",
       "        vertical-align: middle;\n",
       "    }\n",
       "\n",
       "    .dataframe tbody tr th {\n",
       "        vertical-align: top;\n",
       "    }\n",
       "\n",
       "    .dataframe thead th {\n",
       "        text-align: right;\n",
       "    }\n",
       "</style>\n",
       "<table border=\"1\" class=\"dataframe\">\n",
       "  <thead>\n",
       "    <tr style=\"text-align: right;\">\n",
       "      <th></th>\n",
       "      <th>filename</th>\n",
       "      <th>predictions</th>\n",
       "    </tr>\n",
       "  </thead>\n",
       "  <tbody>\n",
       "    <tr>\n",
       "      <th>0</th>\n",
       "      <td>0021e90e4.png</td>\n",
       "      <td>Small-flowered Cranesbill</td>\n",
       "    </tr>\n",
       "    <tr>\n",
       "      <th>1</th>\n",
       "      <td>003d61042.png</td>\n",
       "      <td>Fat Hen</td>\n",
       "    </tr>\n",
       "    <tr>\n",
       "      <th>2</th>\n",
       "      <td>007b3da8b.png</td>\n",
       "      <td>Sugar beet</td>\n",
       "    </tr>\n",
       "    <tr>\n",
       "      <th>3</th>\n",
       "      <td>0086a6340.png</td>\n",
       "      <td>Common Chickweed</td>\n",
       "    </tr>\n",
       "    <tr>\n",
       "      <th>4</th>\n",
       "      <td>00c47e980.png</td>\n",
       "      <td>Sugar beet</td>\n",
       "    </tr>\n",
       "  </tbody>\n",
       "</table>\n",
       "</div>"
      ],
      "text/plain": [
       "        filename                predictions\n",
       "0  0021e90e4.png  Small-flowered Cranesbill\n",
       "1  003d61042.png                    Fat Hen\n",
       "2  007b3da8b.png                 Sugar beet\n",
       "3  0086a6340.png           Common Chickweed\n",
       "4  00c47e980.png                 Sugar beet"
      ]
     },
     "execution_count": 23,
     "metadata": {},
     "output_type": "execute_result"
    }
   ],
   "source": [
    "# Adding the predicted classes to the dataframe\n",
    "test_df['predictions'] = predicted_classes\n",
    "test_df.head()"
   ]
  },
  {
   "cell_type": "code",
   "execution_count": 24,
   "id": "a1d22db0",
   "metadata": {},
   "outputs": [],
   "source": [
    "# Creating the predicted subfolders for each type\n",
    "predicted_dir = 'images/predictions_jupyter'\n",
    "os.makedirs(predicted_dir, exist_ok=True)\n",
    "for class_label in class_labels:\n",
    "    class_dir = os.path.join(predicted_dir, class_label)\n",
    "    os.makedirs(class_dir, exist_ok=True)"
   ]
  },
  {
   "cell_type": "code",
   "execution_count": 25,
   "id": "b862894e",
   "metadata": {},
   "outputs": [
    {
     "name": "stdout",
     "output_type": "stream",
     "text": [
      "Images have been copyed to their respective predicted folders.\n"
     ]
    }
   ],
   "source": [
    "# Copying the images to their predicted folders\n",
    "for filename, predicted_class in zip(test_filenames, predicted_classes):\n",
    "    source_path = os.path.join(test_data_dir, filename)\n",
    "    destination_path = os.path.join(predicted_dir, predicted_class, filename)\n",
    "    shutil.copy(source_path, destination_path)\n",
    "\n",
    "print(\"Images have been copyed to their respective predicted folders.\")"
   ]
  }
 ],
 "metadata": {
  "kernelspec": {
   "display_name": "Python 3 (ipykernel)",
   "language": "python",
   "name": "python3"
  },
  "language_info": {
   "codemirror_mode": {
    "name": "ipython",
    "version": 3
   },
   "file_extension": ".py",
   "mimetype": "text/x-python",
   "name": "python",
   "nbconvert_exporter": "python",
   "pygments_lexer": "ipython3",
   "version": "3.10.9"
  }
 },
 "nbformat": 4,
 "nbformat_minor": 5
}
