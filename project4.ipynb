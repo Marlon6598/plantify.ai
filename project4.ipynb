{
  "nbformat": 4,
  "nbformat_minor": 0,
  "metadata": {
    "colab": {
      "provenance": [],
      "gpuType": "V100"
    },
    "kernelspec": {
      "name": "python3",
      "display_name": "Python 3"
    },
    "language_info": {
      "name": "python"
    },
    "accelerator": "GPU"
  },
  "cells": [
    {
      "cell_type": "code",
      "execution_count": 1,
      "metadata": {
        "id": "rKt4BowsWq_g",
        "colab": {
          "base_uri": "https://localhost:8080/"
        },
        "outputId": "815e70ec-7113-4f5f-c97b-2d6e73ee8cb0"
      },
      "outputs": [
        {
          "output_type": "stream",
          "name": "stdout",
          "text": [
            "Mounted at /content/drive\n"
          ]
        }
      ],
      "source": [
        "# Importing required items\n",
        "import tensorflow as tf\n",
        "from tensorflow.keras.preprocessing.image import ImageDataGenerator\n",
        "from tensorflow.keras.optimizers import Adam\n",
        "import os\n",
        "import pandas as pd\n",
        "from google.colab import drive\n",
        "drive.mount('/content/drive')"
      ]
    },
    {
      "cell_type": "code",
      "source": [
        "# Confirm the connection to the GPU with tensorflow\n",
        "device_name = tf.test.gpu_device_name()\n",
        "if device_name != '/device:GPU:0':\n",
        "  raise SystemError('GPU device not found')\n",
        "print('Found GPU at: {}'.format(device_name))"
      ],
      "metadata": {
        "colab": {
          "base_uri": "https://localhost:8080/"
        },
        "id": "rBmEMikgjO4H",
        "outputId": "87c3aad9-3dc1-4174-b91a-9187999496d2"
      },
      "execution_count": 2,
      "outputs": [
        {
          "output_type": "stream",
          "name": "stdout",
          "text": [
            "Found GPU at: /device:GPU:0\n"
          ]
        }
      ]
    },
    {
      "cell_type": "code",
      "source": [
        "gpu_info = !nvidia-smi\n",
        "gpu_info = '\\n'.join(gpu_info)\n",
        "if gpu_info.find('failed') >= 0:\n",
        "  print('Not connected to a GPU')\n",
        "else:\n",
        "  print(gpu_info)"
      ],
      "metadata": {
        "colab": {
          "base_uri": "https://localhost:8080/"
        },
        "id": "ofFU7fmQszfQ",
        "outputId": "8c5fd93c-c624-4af4-9266-59391d3020d5"
      },
      "execution_count": 3,
      "outputs": [
        {
          "output_type": "stream",
          "name": "stdout",
          "text": [
            "Sat Jul  8 20:09:55 2023       \n",
            "+-----------------------------------------------------------------------------+\n",
            "| NVIDIA-SMI 525.85.12    Driver Version: 525.85.12    CUDA Version: 12.0     |\n",
            "|-------------------------------+----------------------+----------------------+\n",
            "| GPU  Name        Persistence-M| Bus-Id        Disp.A | Volatile Uncorr. ECC |\n",
            "| Fan  Temp  Perf  Pwr:Usage/Cap|         Memory-Usage | GPU-Util  Compute M. |\n",
            "|                               |                      |               MIG M. |\n",
            "|===============================+======================+======================|\n",
            "|   0  Tesla V100-SXM2...  Off  | 00000000:00:04.0 Off |                    0 |\n",
            "| N/A   37C    P0    40W / 300W |    596MiB / 16384MiB |      0%      Default |\n",
            "|                               |                      |                  N/A |\n",
            "+-------------------------------+----------------------+----------------------+\n",
            "                                                                               \n",
            "+-----------------------------------------------------------------------------+\n",
            "| Processes:                                                                  |\n",
            "|  GPU   GI   CI        PID   Type   Process name                  GPU Memory |\n",
            "|        ID   ID                                                   Usage      |\n",
            "|=============================================================================|\n",
            "+-----------------------------------------------------------------------------+\n"
          ]
        }
      ]
    },
    {
      "cell_type": "code",
      "source": [
        "# Determine the available RAM\n",
        "from psutil import virtual_memory\n",
        "ram_gb = virtual_memory().total / 1e9\n",
        "print('Your runtime has {:.1f} gigabytes of available RAM\\n'.format(ram_gb))\n",
        "\n",
        "if ram_gb < 20:\n",
        "  print('Not using a high-RAM runtime')\n",
        "else:\n",
        "  print('You are using a high-RAM runtime!')"
      ],
      "metadata": {
        "colab": {
          "base_uri": "https://localhost:8080/"
        },
        "id": "Gs3s_dujs1e8",
        "outputId": "9192ce67-be02-4cee-bfb1-eea0ba8d7b3b"
      },
      "execution_count": 4,
      "outputs": [
        {
          "output_type": "stream",
          "name": "stdout",
          "text": [
            "Your runtime has 13.6 gigabytes of available RAM\n",
            "\n",
            "Not using a high-RAM runtime\n"
          ]
        }
      ]
    },
    {
      "cell_type": "code",
      "source": [
        "# Defining the training and testing directories\n",
        "training_data_dir = '/content/drive/MyDrive/images/train'\n",
        "test_data_dir = '/content/drive/MyDrive/images/test'"
      ],
      "metadata": {
        "id": "Ri1ghLWujE1f"
      },
      "execution_count": 5,
      "outputs": []
    },
    {
      "cell_type": "code",
      "source": [
        "# Defining hyperparameters\n",
        "img_width, img_height = 150, 150\n",
        "batch_size = 15\n",
        "epochs = 30\n",
        "num_classes = 12  # Number of different types in dataset"
      ],
      "metadata": {
        "id": "t9VUlHv7jhdu"
      },
      "execution_count": 15,
      "outputs": []
    },
    {
      "cell_type": "code",
      "source": [
        "# Defining data preprocessing and augmentation\n",
        "train_datagen = ImageDataGenerator(\n",
        "    rescale=1/255,\n",
        "    shear_range=0.2,\n",
        "    zoom_range=0.2,\n",
        "    horizontal_flip=True\n",
        ")"
      ],
      "metadata": {
        "id": "y4TzFJD2jnLH"
      },
      "execution_count": 16,
      "outputs": []
    },
    {
      "cell_type": "code",
      "source": [
        "test_datagen = ImageDataGenerator(rescale=1/255)"
      ],
      "metadata": {
        "id": "-AoTznBfjrOM"
      },
      "execution_count": 17,
      "outputs": []
    },
    {
      "cell_type": "code",
      "source": [
        "# Defining training generator\n",
        "train_generator = train_datagen.flow_from_directory(\n",
        "    training_data_dir,\n",
        "    target_size=(img_width, img_height),\n",
        "    batch_size=batch_size,\n",
        "    class_mode='categorical'\n",
        ")"
      ],
      "metadata": {
        "colab": {
          "base_uri": "https://localhost:8080/"
        },
        "id": "wPrvt2Ogjsus",
        "outputId": "33041a85-ea49-46c2-89ea-923857153b55"
      },
      "execution_count": 18,
      "outputs": [
        {
          "output_type": "stream",
          "name": "stdout",
          "text": [
            "Found 4750 images belonging to 12 classes.\n"
          ]
        }
      ]
    },
    {
      "cell_type": "code",
      "source": [
        "# Defining the model architecture\n",
        "model = tf.keras.models.Sequential([\n",
        "    tf.keras.layers.Conv2D(64, (3, 3), activation='relu', input_shape=(img_width, img_height, 3)),\n",
        "    tf.keras.layers.MaxPooling2D(pool_size=(2, 2)),\n",
        "    tf.keras.layers.Conv2D(128, (3, 3), activation='relu'),\n",
        "    tf.keras.layers.MaxPooling2D(pool_size=(2, 2)),\n",
        "    tf.keras.layers.Conv2D(256, (3, 3), activation='relu'),\n",
        "    tf.keras.layers.MaxPooling2D(pool_size=(2, 2)),\n",
        "    tf.keras.layers.Flatten(),\n",
        "    tf.keras.layers.Dense(256, activation='relu'),\n",
        "    tf.keras.layers.Dropout(0.5),\n",
        "    tf.keras.layers.Dense(num_classes, activation='softmax')\n",
        "])"
      ],
      "metadata": {
        "id": "YMI1-AyPkPjU"
      },
      "execution_count": 19,
      "outputs": []
    },
    {
      "cell_type": "code",
      "source": [
        "# Adjusting learning rate and change optimization algorithm\n",
        "learning_rate = 0.001\n",
        "optimizer = Adam(learning_rate=learning_rate)"
      ],
      "metadata": {
        "id": "umojrkl3DyMv"
      },
      "execution_count": 20,
      "outputs": []
    },
    {
      "cell_type": "code",
      "source": [
        "# Compiling the model\n",
        "model.compile(\n",
        "    loss='categorical_crossentropy',\n",
        "    optimizer=optimizer,\n",
        "    metrics=['accuracy']\n",
        ")"
      ],
      "metadata": {
        "id": "tEr7xJyGkSbC"
      },
      "execution_count": 21,
      "outputs": []
    },
    {
      "cell_type": "code",
      "source": [
        "# Optimizing and improving memory usage\n",
        "tf.config.optimizer.set_jit(True)"
      ],
      "metadata": {
        "id": "dOdFIrCl1QP_"
      },
      "execution_count": 22,
      "outputs": []
    },
    {
      "cell_type": "code",
      "source": [
        "# Training the model\n",
        "model.fit(\n",
        "    train_generator,\n",
        "    steps_per_epoch=train_generator.samples // batch_size,\n",
        "    epochs=epochs,\n",
        ")"
      ],
      "metadata": {
        "colab": {
          "base_uri": "https://localhost:8080/"
        },
        "id": "kNaa8ILNkVVg",
        "outputId": "ae325492-360d-4b29-abbd-a87ba91c3d0d"
      },
      "execution_count": 23,
      "outputs": [
        {
          "output_type": "stream",
          "name": "stdout",
          "text": [
            "Epoch 1/30\n",
            "316/316 [==============================] - 97s 297ms/step - loss: 2.0277 - accuracy: 0.3086\n",
            "Epoch 2/30\n",
            "316/316 [==============================] - 92s 291ms/step - loss: 1.4392 - accuracy: 0.5073\n",
            "Epoch 3/30\n",
            "316/316 [==============================] - 93s 294ms/step - loss: 1.1842 - accuracy: 0.6055\n",
            "Epoch 4/30\n",
            "316/316 [==============================] - 90s 284ms/step - loss: 1.0531 - accuracy: 0.6448\n",
            "Epoch 5/30\n",
            "316/316 [==============================] - 88s 279ms/step - loss: 0.9419 - accuracy: 0.6887\n",
            "Epoch 6/30\n",
            "316/316 [==============================] - 89s 282ms/step - loss: 0.8479 - accuracy: 0.7130\n",
            "Epoch 7/30\n",
            "316/316 [==============================] - 90s 284ms/step - loss: 0.7703 - accuracy: 0.7350\n",
            "Epoch 8/30\n",
            "316/316 [==============================] - 94s 298ms/step - loss: 0.7495 - accuracy: 0.7430\n",
            "Epoch 9/30\n",
            "316/316 [==============================] - 90s 285ms/step - loss: 0.6876 - accuracy: 0.7728\n",
            "Epoch 10/30\n",
            "316/316 [==============================] - 89s 282ms/step - loss: 0.6567 - accuracy: 0.7749\n",
            "Epoch 11/30\n",
            "316/316 [==============================] - 90s 286ms/step - loss: 0.6471 - accuracy: 0.7774\n",
            "Epoch 12/30\n",
            "316/316 [==============================] - 90s 286ms/step - loss: 0.5804 - accuracy: 0.7981\n",
            "Epoch 13/30\n",
            "316/316 [==============================] - 90s 284ms/step - loss: 0.5927 - accuracy: 0.7973\n",
            "Epoch 14/30\n",
            "316/316 [==============================] - 90s 283ms/step - loss: 0.5509 - accuracy: 0.8148\n",
            "Epoch 15/30\n",
            "316/316 [==============================] - 89s 281ms/step - loss: 0.5418 - accuracy: 0.8097\n",
            "Epoch 16/30\n",
            "316/316 [==============================] - 89s 281ms/step - loss: 0.5163 - accuracy: 0.8156\n",
            "Epoch 17/30\n",
            "316/316 [==============================] - 91s 287ms/step - loss: 0.4948 - accuracy: 0.8232\n",
            "Epoch 18/30\n",
            "316/316 [==============================] - 88s 279ms/step - loss: 0.4659 - accuracy: 0.8336\n",
            "Epoch 19/30\n",
            "316/316 [==============================] - 90s 284ms/step - loss: 0.4407 - accuracy: 0.8469\n",
            "Epoch 20/30\n",
            "316/316 [==============================] - 89s 282ms/step - loss: 0.4309 - accuracy: 0.8471\n",
            "Epoch 21/30\n",
            "316/316 [==============================] - 89s 281ms/step - loss: 0.4244 - accuracy: 0.8526\n",
            "Epoch 22/30\n",
            "316/316 [==============================] - 91s 288ms/step - loss: 0.4160 - accuracy: 0.8492\n",
            "Epoch 23/30\n",
            "316/316 [==============================] - 90s 284ms/step - loss: 0.4031 - accuracy: 0.8566\n",
            "Epoch 24/30\n",
            "316/316 [==============================] - 89s 283ms/step - loss: 0.3753 - accuracy: 0.8686\n",
            "Epoch 25/30\n",
            "316/316 [==============================] - 91s 286ms/step - loss: 0.3585 - accuracy: 0.8727\n",
            "Epoch 26/30\n",
            "316/316 [==============================] - 91s 288ms/step - loss: 0.3518 - accuracy: 0.8720\n",
            "Epoch 27/30\n",
            "316/316 [==============================] - 92s 291ms/step - loss: 0.3413 - accuracy: 0.8794\n",
            "Epoch 28/30\n",
            "316/316 [==============================] - 92s 291ms/step - loss: 0.3114 - accuracy: 0.8897\n",
            "Epoch 29/30\n",
            "316/316 [==============================] - 93s 296ms/step - loss: 0.3520 - accuracy: 0.8809\n",
            "Epoch 30/30\n",
            "316/316 [==============================] - 91s 289ms/step - loss: 0.3219 - accuracy: 0.8948\n"
          ]
        },
        {
          "output_type": "execute_result",
          "data": {
            "text/plain": [
              "<keras.callbacks.History at 0x7ff4ec544310>"
            ]
          },
          "metadata": {},
          "execution_count": 23
        }
      ]
    },
    {
      "cell_type": "code",
      "source": [
        "# Saving the trained model\n",
        "model.save('project4_model.h5')"
      ],
      "metadata": {
        "id": "Yir-2nh6oehI"
      },
      "execution_count": 24,
      "outputs": []
    },
    {
      "cell_type": "code",
      "source": [
        "# Loading the trained model\n",
        "model = tf.keras.models.load_model('project4_model.h5')"
      ],
      "metadata": {
        "id": "V_ydu0nf-dbd"
      },
      "execution_count": 25,
      "outputs": []
    },
    {
      "cell_type": "code",
      "source": [
        "# Creating an ImageDataGenerator for the testing dataset\n",
        "test_datagen = ImageDataGenerator(rescale=1.0/255)"
      ],
      "metadata": {
        "id": "RL-94Hiz-hGM"
      },
      "execution_count": 26,
      "outputs": []
    },
    {
      "cell_type": "code",
      "source": [
        "# Loading the filenames of the images in the testing dataset\n",
        "test_filenames = os.listdir(test_data_dir)"
      ],
      "metadata": {
        "id": "UHnRz1e4-nlu"
      },
      "execution_count": 27,
      "outputs": []
    },
    {
      "cell_type": "code",
      "source": [
        "# Creating a dataframe with the filenames\n",
        "test_df = pd.DataFrame({'filename': test_filenames})"
      ],
      "metadata": {
        "id": "JBkrDWSd-qhe"
      },
      "execution_count": 28,
      "outputs": []
    },
    {
      "cell_type": "code",
      "source": [
        "# Generating the test data generator from the dataframe\n",
        "test_generator = test_datagen.flow_from_dataframe(\n",
        "    test_df,\n",
        "    directory=test_data_dir,\n",
        "    x_col='filename',\n",
        "    y_col=None,\n",
        "    target_size=(img_width, img_height),\n",
        "    batch_size=batch_size,\n",
        "    class_mode=None,\n",
        "    shuffle=False\n",
        ")"
      ],
      "metadata": {
        "colab": {
          "base_uri": "https://localhost:8080/"
        },
        "id": "Lw6VXK9O6c7d",
        "outputId": "13ea609d-ab54-4aad-cccf-46e1b2f09ada"
      },
      "execution_count": 29,
      "outputs": [
        {
          "output_type": "stream",
          "name": "stdout",
          "text": [
            "Found 794 validated image filenames.\n"
          ]
        }
      ]
    },
    {
      "cell_type": "code",
      "source": [
        "# Predicting the classes for the test images\n",
        "predictions = model.predict(test_generator)"
      ],
      "metadata": {
        "colab": {
          "base_uri": "https://localhost:8080/"
        },
        "id": "Iuw9fPHO-35i",
        "outputId": "e5aa224a-5a07-481a-901c-75312617553d"
      },
      "execution_count": 30,
      "outputs": [
        {
          "output_type": "stream",
          "name": "stdout",
          "text": [
            "53/53 [==============================] - 6s 104ms/step\n"
          ]
        }
      ]
    },
    {
      "cell_type": "code",
      "source": [
        "# Maping predicted class indices to class labels\n",
        "class_labels = list(train_generator.class_indices.keys())\n",
        "predicted_classes = [class_labels[prediction.argmax()] for prediction in predictions]"
      ],
      "metadata": {
        "id": "gjawh6Vf-4Zh"
      },
      "execution_count": 31,
      "outputs": []
    },
    {
      "cell_type": "code",
      "source": [
        "# Printing the predicted classes\n",
        "print(predicted_classes)"
      ],
      "metadata": {
        "colab": {
          "base_uri": "https://localhost:8080/"
        },
        "id": "gcU3Ouro-7Pw",
        "outputId": "afdc9021-63e0-467e-e946-876d9f80dce0"
      },
      "execution_count": 32,
      "outputs": [
        {
          "output_type": "stream",
          "name": "stdout",
          "text": [
            "['Shepherds Purse', 'Common Chickweed', 'Sugar beet', 'Sugar beet', 'Sugar beet', 'Sugar beet', 'Small-flowered Cranesbill', 'Loose Silky-bent', 'Small-flowered Cranesbill', 'Small-flowered Cranesbill', 'Common Chickweed', 'Cleavers', 'Loose Silky-bent', 'Fat Hen', 'Maize', 'Loose Silky-bent', 'Loose Silky-bent', 'Maize', 'Fat Hen', 'Fat Hen', 'Loose Silky-bent', 'Common Chickweed', 'Scentless Mayweed', 'Common Chickweed', 'Small-flowered Cranesbill', 'Sugar beet', 'Scentless Mayweed', 'Common Chickweed', 'Scentless Mayweed', 'Sugar beet', 'Common Chickweed', 'Common Chickweed', 'Sugar beet', 'Charlock', 'Loose Silky-bent', 'Loose Silky-bent', 'Maize', 'Shepherds Purse', 'Scentless Mayweed', 'Loose Silky-bent', 'Maize', 'Maize', 'Cleavers', 'Sugar beet', 'Small-flowered Cranesbill', 'Common Chickweed', 'Sugar beet', 'Cleavers', 'Common Chickweed', 'Sugar beet', 'Loose Silky-bent', 'Shepherds Purse', 'Small-flowered Cranesbill', 'Common Chickweed', 'Common wheat', 'Shepherds Purse', 'Cleavers', 'Small-flowered Cranesbill', 'Cleavers', 'Common Chickweed', 'Loose Silky-bent', 'Charlock', 'Sugar beet', 'Fat Hen', 'Charlock', 'Cleavers', 'Fat Hen', 'Common wheat', 'Loose Silky-bent', 'Common Chickweed', 'Loose Silky-bent', 'Common Chickweed', 'Scentless Mayweed', 'Scentless Mayweed', 'Common Chickweed', 'Charlock', 'Shepherds Purse', 'Common Chickweed', 'Loose Silky-bent', 'Cleavers', 'Sugar beet', 'Common Chickweed', 'Fat Hen', 'Sugar beet', 'Loose Silky-bent', 'Loose Silky-bent', 'Fat Hen', 'Loose Silky-bent', 'Maize', 'Cleavers', 'Sugar beet', 'Scentless Mayweed', 'Common wheat', 'Fat Hen', 'Common Chickweed', 'Charlock', 'Small-flowered Cranesbill', 'Common Chickweed', 'Sugar beet', 'Scentless Mayweed', 'Shepherds Purse', 'Scentless Mayweed', 'Maize', 'Loose Silky-bent', 'Cleavers', 'Fat Hen', 'Charlock', 'Charlock', 'Small-flowered Cranesbill', 'Loose Silky-bent', 'Scentless Mayweed', 'Sugar beet', 'Fat Hen', 'Fat Hen', 'Common Chickweed', 'Shepherds Purse', 'Loose Silky-bent', 'Common wheat', 'Scentless Mayweed', 'Shepherds Purse', 'Common Chickweed', 'Maize', 'Black-grass', 'Shepherds Purse', 'Common Chickweed', 'Common wheat', 'Maize', 'Fat Hen', 'Charlock', 'Loose Silky-bent', 'Loose Silky-bent', 'Shepherds Purse', 'Shepherds Purse', 'Common Chickweed', 'Maize', 'Shepherds Purse', 'Small-flowered Cranesbill', 'Sugar beet', 'Common Chickweed', 'Loose Silky-bent', 'Fat Hen', 'Scentless Mayweed', 'Loose Silky-bent', 'Loose Silky-bent', 'Common Chickweed', 'Common wheat', 'Loose Silky-bent', 'Cleavers', 'Common wheat', 'Common Chickweed', 'Loose Silky-bent', 'Scentless Mayweed', 'Sugar beet', 'Black-grass', 'Common wheat', 'Scentless Mayweed', 'Sugar beet', 'Fat Hen', 'Sugar beet', 'Loose Silky-bent', 'Small-flowered Cranesbill', 'Cleavers', 'Charlock', 'Maize', 'Common Chickweed', 'Sugar beet', 'Common Chickweed', 'Small-flowered Cranesbill', 'Small-flowered Cranesbill', 'Charlock', 'Loose Silky-bent', 'Common Chickweed', 'Common Chickweed', 'Common Chickweed', 'Fat Hen', 'Loose Silky-bent', 'Fat Hen', 'Cleavers', 'Black-grass', 'Common Chickweed', 'Common Chickweed', 'Small-flowered Cranesbill', 'Scentless Mayweed', 'Black-grass', 'Charlock', 'Shepherds Purse', 'Scentless Mayweed', 'Black-grass', 'Black-grass', 'Fat Hen', 'Black-grass', 'Small-flowered Cranesbill', 'Cleavers', 'Maize', 'Common Chickweed', 'Loose Silky-bent', 'Common Chickweed', 'Loose Silky-bent', 'Charlock', 'Fat Hen', 'Fat Hen', 'Small-flowered Cranesbill', 'Common Chickweed', 'Loose Silky-bent', 'Small-flowered Cranesbill', 'Small-flowered Cranesbill', 'Charlock', 'Shepherds Purse', 'Maize', 'Small-flowered Cranesbill', 'Common Chickweed', 'Black-grass', 'Common wheat', 'Charlock', 'Scentless Mayweed', 'Cleavers', 'Common Chickweed', 'Small-flowered Cranesbill', 'Cleavers', 'Common Chickweed', 'Common Chickweed', 'Common Chickweed', 'Small-flowered Cranesbill', 'Common Chickweed', 'Loose Silky-bent', 'Charlock', 'Common Chickweed', 'Common wheat', 'Maize', 'Cleavers', 'Fat Hen', 'Cleavers', 'Charlock', 'Loose Silky-bent', 'Fat Hen', 'Fat Hen', 'Loose Silky-bent', 'Scentless Mayweed', 'Cleavers', 'Loose Silky-bent', 'Charlock', 'Common Chickweed', 'Cleavers', 'Charlock', 'Common wheat', 'Loose Silky-bent', 'Common wheat', 'Common Chickweed', 'Black-grass', 'Loose Silky-bent', 'Sugar beet', 'Maize', 'Maize', 'Sugar beet', 'Maize', 'Small-flowered Cranesbill', 'Shepherds Purse', 'Common Chickweed', 'Common Chickweed', 'Charlock', 'Common Chickweed', 'Charlock', 'Maize', 'Fat Hen', 'Common Chickweed', 'Maize', 'Cleavers', 'Cleavers', 'Scentless Mayweed', 'Small-flowered Cranesbill', 'Small-flowered Cranesbill', 'Shepherds Purse', 'Charlock', 'Small-flowered Cranesbill', 'Loose Silky-bent', 'Scentless Mayweed', 'Loose Silky-bent', 'Sugar beet', 'Cleavers', 'Charlock', 'Cleavers', 'Common Chickweed', 'Common Chickweed', 'Black-grass', 'Small-flowered Cranesbill', 'Black-grass', 'Common Chickweed', 'Common Chickweed', 'Loose Silky-bent', 'Loose Silky-bent', 'Loose Silky-bent', 'Sugar beet', 'Black-grass', 'Loose Silky-bent', 'Loose Silky-bent', 'Common Chickweed', 'Small-flowered Cranesbill', 'Small-flowered Cranesbill', 'Maize', 'Fat Hen', 'Common wheat', 'Fat Hen', 'Common Chickweed', 'Maize', 'Common Chickweed', 'Fat Hen', 'Small-flowered Cranesbill', 'Cleavers', 'Cleavers', 'Common wheat', 'Sugar beet', 'Scentless Mayweed', 'Charlock', 'Loose Silky-bent', 'Charlock', 'Sugar beet', 'Sugar beet', 'Shepherds Purse', 'Scentless Mayweed', 'Fat Hen', 'Cleavers', 'Loose Silky-bent', 'Charlock', 'Sugar beet', 'Loose Silky-bent', 'Small-flowered Cranesbill', 'Loose Silky-bent', 'Common Chickweed', 'Loose Silky-bent', 'Scentless Mayweed', 'Small-flowered Cranesbill', 'Common wheat', 'Small-flowered Cranesbill', 'Loose Silky-bent', 'Charlock', 'Common Chickweed', 'Small-flowered Cranesbill', 'Charlock', 'Loose Silky-bent', 'Common Chickweed', 'Cleavers', 'Small-flowered Cranesbill', 'Maize', 'Sugar beet', 'Small-flowered Cranesbill', 'Shepherds Purse', 'Small-flowered Cranesbill', 'Scentless Mayweed', 'Common Chickweed', 'Scentless Mayweed', 'Cleavers', 'Sugar beet', 'Loose Silky-bent', 'Loose Silky-bent', 'Loose Silky-bent', 'Common Chickweed', 'Small-flowered Cranesbill', 'Sugar beet', 'Charlock', 'Fat Hen', 'Loose Silky-bent', 'Sugar beet', 'Small-flowered Cranesbill', 'Common Chickweed', 'Sugar beet', 'Charlock', 'Cleavers', 'Small-flowered Cranesbill', 'Fat Hen', 'Scentless Mayweed', 'Loose Silky-bent', 'Sugar beet', 'Black-grass', 'Charlock', 'Shepherds Purse', 'Small-flowered Cranesbill', 'Sugar beet', 'Black-grass', 'Shepherds Purse', 'Sugar beet', 'Common wheat', 'Scentless Mayweed', 'Fat Hen', 'Sugar beet', 'Cleavers', 'Sugar beet', 'Sugar beet', 'Loose Silky-bent', 'Sugar beet', 'Scentless Mayweed', 'Charlock', 'Shepherds Purse', 'Scentless Mayweed', 'Loose Silky-bent', 'Common Chickweed', 'Loose Silky-bent', 'Charlock', 'Small-flowered Cranesbill', 'Loose Silky-bent', 'Charlock', 'Loose Silky-bent', 'Shepherds Purse', 'Fat Hen', 'Loose Silky-bent', 'Loose Silky-bent', 'Scentless Mayweed', 'Common Chickweed', 'Common wheat', 'Scentless Mayweed', 'Sugar beet', 'Maize', 'Common Chickweed', 'Sugar beet', 'Charlock', 'Common Chickweed', 'Small-flowered Cranesbill', 'Common Chickweed', 'Fat Hen', 'Loose Silky-bent', 'Loose Silky-bent', 'Loose Silky-bent', 'Common Chickweed', 'Fat Hen', 'Small-flowered Cranesbill', 'Charlock', 'Scentless Mayweed', 'Black-grass', 'Shepherds Purse', 'Common Chickweed', 'Charlock', 'Sugar beet', 'Scentless Mayweed', 'Small-flowered Cranesbill', 'Common Chickweed', 'Common Chickweed', 'Common Chickweed', 'Common Chickweed', 'Scentless Mayweed', 'Black-grass', 'Small-flowered Cranesbill', 'Fat Hen', 'Small-flowered Cranesbill', 'Shepherds Purse', 'Sugar beet', 'Common Chickweed', 'Loose Silky-bent', 'Sugar beet', 'Charlock', 'Scentless Mayweed', 'Common wheat', 'Shepherds Purse', 'Sugar beet', 'Charlock', 'Scentless Mayweed', 'Small-flowered Cranesbill', 'Loose Silky-bent', 'Loose Silky-bent', 'Small-flowered Cranesbill', 'Loose Silky-bent', 'Common Chickweed', 'Black-grass', 'Scentless Mayweed', 'Small-flowered Cranesbill', 'Sugar beet', 'Loose Silky-bent', 'Black-grass', 'Small-flowered Cranesbill', 'Common Chickweed', 'Loose Silky-bent', 'Cleavers', 'Cleavers', 'Cleavers', 'Black-grass', 'Loose Silky-bent', 'Small-flowered Cranesbill', 'Common wheat', 'Black-grass', 'Charlock', 'Sugar beet', 'Charlock', 'Loose Silky-bent', 'Fat Hen', 'Fat Hen', 'Shepherds Purse', 'Small-flowered Cranesbill', 'Scentless Mayweed', 'Shepherds Purse', 'Scentless Mayweed', 'Shepherds Purse', 'Loose Silky-bent', 'Sugar beet', 'Cleavers', 'Small-flowered Cranesbill', 'Loose Silky-bent', 'Common wheat', 'Loose Silky-bent', 'Loose Silky-bent', 'Charlock', 'Loose Silky-bent', 'Common Chickweed', 'Loose Silky-bent', 'Sugar beet', 'Small-flowered Cranesbill', 'Common Chickweed', 'Common wheat', 'Common Chickweed', 'Common wheat', 'Small-flowered Cranesbill', 'Fat Hen', 'Black-grass', 'Loose Silky-bent', 'Loose Silky-bent', 'Charlock', 'Cleavers', 'Small-flowered Cranesbill', 'Maize', 'Loose Silky-bent', 'Scentless Mayweed', 'Black-grass', 'Fat Hen', 'Scentless Mayweed', 'Loose Silky-bent', 'Common Chickweed', 'Loose Silky-bent', 'Maize', 'Scentless Mayweed', 'Loose Silky-bent', 'Small-flowered Cranesbill', 'Small-flowered Cranesbill', 'Common Chickweed', 'Common Chickweed', 'Common Chickweed', 'Shepherds Purse', 'Charlock', 'Loose Silky-bent', 'Common Chickweed', 'Sugar beet', 'Scentless Mayweed', 'Charlock', 'Common Chickweed', 'Sugar beet', 'Black-grass', 'Black-grass', 'Common Chickweed', 'Small-flowered Cranesbill', 'Fat Hen', 'Scentless Mayweed', 'Loose Silky-bent', 'Maize', 'Charlock', 'Common Chickweed', 'Small-flowered Cranesbill', 'Sugar beet', 'Small-flowered Cranesbill', 'Scentless Mayweed', 'Loose Silky-bent', 'Common wheat', 'Loose Silky-bent', 'Charlock', 'Shepherds Purse', 'Common Chickweed', 'Cleavers', 'Scentless Mayweed', 'Sugar beet', 'Cleavers', 'Fat Hen', 'Common Chickweed', 'Charlock', 'Fat Hen', 'Charlock', 'Black-grass', 'Black-grass', 'Common Chickweed', 'Fat Hen', 'Scentless Mayweed', 'Shepherds Purse', 'Common wheat', 'Cleavers', 'Maize', 'Loose Silky-bent', 'Scentless Mayweed', 'Fat Hen', 'Loose Silky-bent', 'Scentless Mayweed', 'Loose Silky-bent', 'Shepherds Purse', 'Common Chickweed', 'Black-grass', 'Scentless Mayweed', 'Common Chickweed', 'Loose Silky-bent', 'Sugar beet', 'Sugar beet', 'Scentless Mayweed', 'Scentless Mayweed', 'Loose Silky-bent', 'Black-grass', 'Common wheat', 'Shepherds Purse', 'Maize', 'Common Chickweed', 'Fat Hen', 'Scentless Mayweed', 'Scentless Mayweed', 'Scentless Mayweed', 'Common Chickweed', 'Maize', 'Scentless Mayweed', 'Small-flowered Cranesbill', 'Loose Silky-bent', 'Scentless Mayweed', 'Fat Hen', 'Scentless Mayweed', 'Scentless Mayweed', 'Loose Silky-bent', 'Maize', 'Small-flowered Cranesbill', 'Small-flowered Cranesbill', 'Sugar beet', 'Common Chickweed', 'Maize', 'Loose Silky-bent', 'Scentless Mayweed', 'Common Chickweed', 'Common Chickweed', 'Common wheat', 'Charlock', 'Charlock', 'Small-flowered Cranesbill', 'Shepherds Purse', 'Common Chickweed', 'Common Chickweed', 'Loose Silky-bent', 'Cleavers', 'Common Chickweed', 'Fat Hen', 'Fat Hen', 'Scentless Mayweed', 'Loose Silky-bent', 'Scentless Mayweed', 'Small-flowered Cranesbill', 'Loose Silky-bent', 'Small-flowered Cranesbill', 'Shepherds Purse', 'Scentless Mayweed', 'Scentless Mayweed', 'Charlock', 'Fat Hen', 'Common wheat', 'Common wheat', 'Fat Hen', 'Loose Silky-bent', 'Fat Hen', 'Scentless Mayweed', 'Small-flowered Cranesbill', 'Common Chickweed', 'Common Chickweed', 'Sugar beet', 'Common Chickweed', 'Scentless Mayweed', 'Small-flowered Cranesbill', 'Common wheat', 'Black-grass', 'Loose Silky-bent', 'Loose Silky-bent', 'Loose Silky-bent', 'Small-flowered Cranesbill', 'Fat Hen', 'Common Chickweed', 'Fat Hen', 'Scentless Mayweed', 'Sugar beet', 'Scentless Mayweed', 'Cleavers', 'Common Chickweed', 'Charlock', 'Charlock', 'Shepherds Purse', 'Sugar beet', 'Sugar beet', 'Scentless Mayweed', 'Sugar beet', 'Charlock', 'Maize', 'Loose Silky-bent', 'Charlock', 'Loose Silky-bent', 'Scentless Mayweed', 'Fat Hen', 'Sugar beet', 'Loose Silky-bent', 'Common Chickweed', 'Common Chickweed', 'Sugar beet', 'Common wheat', 'Sugar beet', 'Scentless Mayweed', 'Loose Silky-bent', 'Loose Silky-bent', 'Maize', 'Black-grass', 'Shepherds Purse', 'Black-grass', 'Loose Silky-bent', 'Sugar beet', 'Small-flowered Cranesbill', 'Small-flowered Cranesbill', 'Small-flowered Cranesbill', 'Sugar beet', 'Cleavers', 'Sugar beet', 'Cleavers', 'Small-flowered Cranesbill', 'Charlock', 'Fat Hen', 'Sugar beet', 'Charlock', 'Fat Hen', 'Small-flowered Cranesbill', 'Loose Silky-bent', 'Shepherds Purse', 'Scentless Mayweed', 'Common wheat', 'Sugar beet', 'Common Chickweed', 'Sugar beet', 'Scentless Mayweed', 'Loose Silky-bent', 'Common Chickweed', 'Fat Hen', 'Scentless Mayweed', 'Charlock', 'Shepherds Purse', 'Loose Silky-bent', 'Fat Hen', 'Common Chickweed', 'Loose Silky-bent', 'Common Chickweed', 'Fat Hen', 'Scentless Mayweed', 'Scentless Mayweed', 'Charlock', 'Sugar beet', 'Loose Silky-bent', 'Loose Silky-bent', 'Cleavers', 'Charlock', 'Charlock', 'Small-flowered Cranesbill', 'Fat Hen', 'Small-flowered Cranesbill', 'Sugar beet', 'Loose Silky-bent', 'Cleavers', 'Shepherds Purse', 'Loose Silky-bent', 'Charlock', 'Maize', 'Scentless Mayweed', 'Fat Hen', 'Loose Silky-bent', 'Loose Silky-bent', 'Charlock', 'Cleavers', 'Black-grass', 'Common wheat', 'Sugar beet', 'Sugar beet', 'Common Chickweed', 'Cleavers', 'Loose Silky-bent', 'Scentless Mayweed', 'Common Chickweed', 'Fat Hen', 'Charlock', 'Charlock', 'Sugar beet', 'Scentless Mayweed', 'Scentless Mayweed', 'Common Chickweed', 'Black-grass', 'Scentless Mayweed', 'Common Chickweed', 'Loose Silky-bent', 'Scentless Mayweed', 'Shepherds Purse', 'Loose Silky-bent', 'Charlock', 'Shepherds Purse', 'Small-flowered Cranesbill', 'Shepherds Purse', 'Sugar beet', 'Charlock', 'Common wheat']\n"
          ]
        }
      ]
    },
    {
      "cell_type": "code",
      "source": [
        "# Adding the predicted classes to the dataframe\n",
        "test_df['predictions'] = predicted_classes\n",
        "test_df.head()"
      ],
      "metadata": {
        "colab": {
          "base_uri": "https://localhost:8080/",
          "height": 206
        },
        "id": "kxAk8ntTMZdA",
        "outputId": "306cd61d-8f31-42e4-dfb9-f299f5faf5ab"
      },
      "execution_count": 33,
      "outputs": [
        {
          "output_type": "execute_result",
          "data": {
            "text/plain": [
              "        filename       predictions\n",
              "0  0885e7690.png   Shepherds Purse\n",
              "1  0d117d910.png  Common Chickweed\n",
              "2  03e322a29.png        Sugar beet\n",
              "3  043449b0b.png        Sugar beet\n",
              "4  007b3da8b.png        Sugar beet"
            ],
            "text/html": [
              "\n",
              "  <div id=\"df-a8a4dd8d-7d35-4f11-a1da-4bed6390b11e\">\n",
              "    <div class=\"colab-df-container\">\n",
              "      <div>\n",
              "<style scoped>\n",
              "    .dataframe tbody tr th:only-of-type {\n",
              "        vertical-align: middle;\n",
              "    }\n",
              "\n",
              "    .dataframe tbody tr th {\n",
              "        vertical-align: top;\n",
              "    }\n",
              "\n",
              "    .dataframe thead th {\n",
              "        text-align: right;\n",
              "    }\n",
              "</style>\n",
              "<table border=\"1\" class=\"dataframe\">\n",
              "  <thead>\n",
              "    <tr style=\"text-align: right;\">\n",
              "      <th></th>\n",
              "      <th>filename</th>\n",
              "      <th>predictions</th>\n",
              "    </tr>\n",
              "  </thead>\n",
              "  <tbody>\n",
              "    <tr>\n",
              "      <th>0</th>\n",
              "      <td>0885e7690.png</td>\n",
              "      <td>Shepherds Purse</td>\n",
              "    </tr>\n",
              "    <tr>\n",
              "      <th>1</th>\n",
              "      <td>0d117d910.png</td>\n",
              "      <td>Common Chickweed</td>\n",
              "    </tr>\n",
              "    <tr>\n",
              "      <th>2</th>\n",
              "      <td>03e322a29.png</td>\n",
              "      <td>Sugar beet</td>\n",
              "    </tr>\n",
              "    <tr>\n",
              "      <th>3</th>\n",
              "      <td>043449b0b.png</td>\n",
              "      <td>Sugar beet</td>\n",
              "    </tr>\n",
              "    <tr>\n",
              "      <th>4</th>\n",
              "      <td>007b3da8b.png</td>\n",
              "      <td>Sugar beet</td>\n",
              "    </tr>\n",
              "  </tbody>\n",
              "</table>\n",
              "</div>\n",
              "      <button class=\"colab-df-convert\" onclick=\"convertToInteractive('df-a8a4dd8d-7d35-4f11-a1da-4bed6390b11e')\"\n",
              "              title=\"Convert this dataframe to an interactive table.\"\n",
              "              style=\"display:none;\">\n",
              "        \n",
              "  <svg xmlns=\"http://www.w3.org/2000/svg\" height=\"24px\"viewBox=\"0 0 24 24\"\n",
              "       width=\"24px\">\n",
              "    <path d=\"M0 0h24v24H0V0z\" fill=\"none\"/>\n",
              "    <path d=\"M18.56 5.44l.94 2.06.94-2.06 2.06-.94-2.06-.94-.94-2.06-.94 2.06-2.06.94zm-11 1L8.5 8.5l.94-2.06 2.06-.94-2.06-.94L8.5 2.5l-.94 2.06-2.06.94zm10 10l.94 2.06.94-2.06 2.06-.94-2.06-.94-.94-2.06-.94 2.06-2.06.94z\"/><path d=\"M17.41 7.96l-1.37-1.37c-.4-.4-.92-.59-1.43-.59-.52 0-1.04.2-1.43.59L10.3 9.45l-7.72 7.72c-.78.78-.78 2.05 0 2.83L4 21.41c.39.39.9.59 1.41.59.51 0 1.02-.2 1.41-.59l7.78-7.78 2.81-2.81c.8-.78.8-2.07 0-2.86zM5.41 20L4 18.59l7.72-7.72 1.47 1.35L5.41 20z\"/>\n",
              "  </svg>\n",
              "      </button>\n",
              "      \n",
              "  <style>\n",
              "    .colab-df-container {\n",
              "      display:flex;\n",
              "      flex-wrap:wrap;\n",
              "      gap: 12px;\n",
              "    }\n",
              "\n",
              "    .colab-df-convert {\n",
              "      background-color: #E8F0FE;\n",
              "      border: none;\n",
              "      border-radius: 50%;\n",
              "      cursor: pointer;\n",
              "      display: none;\n",
              "      fill: #1967D2;\n",
              "      height: 32px;\n",
              "      padding: 0 0 0 0;\n",
              "      width: 32px;\n",
              "    }\n",
              "\n",
              "    .colab-df-convert:hover {\n",
              "      background-color: #E2EBFA;\n",
              "      box-shadow: 0px 1px 2px rgba(60, 64, 67, 0.3), 0px 1px 3px 1px rgba(60, 64, 67, 0.15);\n",
              "      fill: #174EA6;\n",
              "    }\n",
              "\n",
              "    [theme=dark] .colab-df-convert {\n",
              "      background-color: #3B4455;\n",
              "      fill: #D2E3FC;\n",
              "    }\n",
              "\n",
              "    [theme=dark] .colab-df-convert:hover {\n",
              "      background-color: #434B5C;\n",
              "      box-shadow: 0px 1px 3px 1px rgba(0, 0, 0, 0.15);\n",
              "      filter: drop-shadow(0px 1px 2px rgba(0, 0, 0, 0.3));\n",
              "      fill: #FFFFFF;\n",
              "    }\n",
              "  </style>\n",
              "\n",
              "      <script>\n",
              "        const buttonEl =\n",
              "          document.querySelector('#df-a8a4dd8d-7d35-4f11-a1da-4bed6390b11e button.colab-df-convert');\n",
              "        buttonEl.style.display =\n",
              "          google.colab.kernel.accessAllowed ? 'block' : 'none';\n",
              "\n",
              "        async function convertToInteractive(key) {\n",
              "          const element = document.querySelector('#df-a8a4dd8d-7d35-4f11-a1da-4bed6390b11e');\n",
              "          const dataTable =\n",
              "            await google.colab.kernel.invokeFunction('convertToInteractive',\n",
              "                                                     [key], {});\n",
              "          if (!dataTable) return;\n",
              "\n",
              "          const docLinkHtml = 'Like what you see? Visit the ' +\n",
              "            '<a target=\"_blank\" href=https://colab.research.google.com/notebooks/data_table.ipynb>data table notebook</a>'\n",
              "            + ' to learn more about interactive tables.';\n",
              "          element.innerHTML = '';\n",
              "          dataTable['output_type'] = 'display_data';\n",
              "          await google.colab.output.renderOutput(dataTable, element);\n",
              "          const docLink = document.createElement('div');\n",
              "          docLink.innerHTML = docLinkHtml;\n",
              "          element.appendChild(docLink);\n",
              "        }\n",
              "      </script>\n",
              "    </div>\n",
              "  </div>\n",
              "  "
            ]
          },
          "metadata": {},
          "execution_count": 33
        }
      ]
    }
  ]
}